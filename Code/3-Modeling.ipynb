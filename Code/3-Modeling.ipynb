{
 "cells": [
  {
   "cell_type": "code",
   "execution_count": 1,
   "id": "fd5cf8b7",
   "metadata": {},
   "outputs": [],
   "source": [
    "import pandas as pd \n",
    "import numpy as np\n",
    "import matplotlib.pyplot as plt\n",
    "import seaborn as sns\n",
    "from sklearn.linear_model import LogisticRegression\n",
    "from sklearn.model_selection import train_test_split\n",
    "from sklearn.naive_bayes import MultinomialNB\n",
    "from sklearn.ensemble import RandomForestClassifier, RandomForestRegressor\n",
    "from sklearn.metrics import confusion_matrix\n",
    "from sklearn.metrics import accuracy_score, recall_score, f1_score, precision_score"
   ]
  },
  {
   "cell_type": "markdown",
   "id": "39384c9a",
   "metadata": {},
   "source": [
    "### Importing Data"
   ]
  },
  {
   "cell_type": "code",
   "execution_count": 2,
   "id": "1a496b02",
   "metadata": {},
   "outputs": [],
   "source": [
    "psych = pd.read_csv('../Data/Processed_Data/MergedFinal.csv')"
   ]
  },
  {
   "cell_type": "code",
   "execution_count": 3,
   "id": "ab0e1163",
   "metadata": {},
   "outputs": [
    {
     "data": {
      "text/html": [
       "<div>\n",
       "<style scoped>\n",
       "    .dataframe tbody tr th:only-of-type {\n",
       "        vertical-align: middle;\n",
       "    }\n",
       "\n",
       "    .dataframe tbody tr th {\n",
       "        vertical-align: top;\n",
       "    }\n",
       "\n",
       "    .dataframe thead th {\n",
       "        text-align: right;\n",
       "    }\n",
       "</style>\n",
       "<table border=\"1\" class=\"dataframe\">\n",
       "  <thead>\n",
       "    <tr style=\"text-align: right;\">\n",
       "      <th></th>\n",
       "      <th>Rating</th>\n",
       "      <th>compound1</th>\n",
       "      <th>Anxiety Disorders</th>\n",
       "      <th>Bipolar Disorders</th>\n",
       "      <th>Depressive Disorders</th>\n",
       "      <th>Neurodevelopmental Disorders</th>\n",
       "      <th>Obsessive-Compulsive Disorders</th>\n",
       "      <th>Personality Disorders</th>\n",
       "      <th>Psychotic Disorders</th>\n",
       "      <th>Trauma-related Disorders</th>\n",
       "      <th>...</th>\n",
       "      <th>took</th>\n",
       "      <th>tried</th>\n",
       "      <th>week</th>\n",
       "      <th>weeks</th>\n",
       "      <th>weight</th>\n",
       "      <th>went</th>\n",
       "      <th>work</th>\n",
       "      <th>worked</th>\n",
       "      <th>year</th>\n",
       "      <th>years</th>\n",
       "    </tr>\n",
       "  </thead>\n",
       "  <tbody>\n",
       "    <tr>\n",
       "      <th>0</th>\n",
       "      <td>8.0</td>\n",
       "      <td>1.9172</td>\n",
       "      <td>0</td>\n",
       "      <td>0</td>\n",
       "      <td>0</td>\n",
       "      <td>1</td>\n",
       "      <td>0</td>\n",
       "      <td>0</td>\n",
       "      <td>0</td>\n",
       "      <td>0</td>\n",
       "      <td>...</td>\n",
       "      <td>0.0</td>\n",
       "      <td>0.231364</td>\n",
       "      <td>0.466684</td>\n",
       "      <td>0.0</td>\n",
       "      <td>0.000000</td>\n",
       "      <td>0.000000</td>\n",
       "      <td>0.0</td>\n",
       "      <td>0.000000</td>\n",
       "      <td>0.000000</td>\n",
       "      <td>0.000000</td>\n",
       "    </tr>\n",
       "    <tr>\n",
       "      <th>1</th>\n",
       "      <td>10.0</td>\n",
       "      <td>0.0911</td>\n",
       "      <td>0</td>\n",
       "      <td>1</td>\n",
       "      <td>0</td>\n",
       "      <td>0</td>\n",
       "      <td>0</td>\n",
       "      <td>0</td>\n",
       "      <td>0</td>\n",
       "      <td>0</td>\n",
       "      <td>...</td>\n",
       "      <td>0.0</td>\n",
       "      <td>0.328339</td>\n",
       "      <td>0.000000</td>\n",
       "      <td>0.0</td>\n",
       "      <td>0.000000</td>\n",
       "      <td>0.336281</td>\n",
       "      <td>0.0</td>\n",
       "      <td>0.000000</td>\n",
       "      <td>0.000000</td>\n",
       "      <td>0.000000</td>\n",
       "    </tr>\n",
       "    <tr>\n",
       "      <th>2</th>\n",
       "      <td>10.0</td>\n",
       "      <td>1.0147</td>\n",
       "      <td>0</td>\n",
       "      <td>0</td>\n",
       "      <td>1</td>\n",
       "      <td>0</td>\n",
       "      <td>0</td>\n",
       "      <td>0</td>\n",
       "      <td>0</td>\n",
       "      <td>0</td>\n",
       "      <td>...</td>\n",
       "      <td>0.0</td>\n",
       "      <td>0.000000</td>\n",
       "      <td>0.000000</td>\n",
       "      <td>0.0</td>\n",
       "      <td>0.000000</td>\n",
       "      <td>0.000000</td>\n",
       "      <td>0.0</td>\n",
       "      <td>0.000000</td>\n",
       "      <td>0.000000</td>\n",
       "      <td>0.320926</td>\n",
       "    </tr>\n",
       "    <tr>\n",
       "      <th>3</th>\n",
       "      <td>10.0</td>\n",
       "      <td>0.2148</td>\n",
       "      <td>0</td>\n",
       "      <td>1</td>\n",
       "      <td>0</td>\n",
       "      <td>0</td>\n",
       "      <td>0</td>\n",
       "      <td>0</td>\n",
       "      <td>0</td>\n",
       "      <td>0</td>\n",
       "      <td>...</td>\n",
       "      <td>0.0</td>\n",
       "      <td>0.000000</td>\n",
       "      <td>0.000000</td>\n",
       "      <td>0.0</td>\n",
       "      <td>0.000000</td>\n",
       "      <td>0.000000</td>\n",
       "      <td>0.0</td>\n",
       "      <td>0.000000</td>\n",
       "      <td>0.000000</td>\n",
       "      <td>0.000000</td>\n",
       "    </tr>\n",
       "    <tr>\n",
       "      <th>4</th>\n",
       "      <td>10.0</td>\n",
       "      <td>0.4327</td>\n",
       "      <td>0</td>\n",
       "      <td>0</td>\n",
       "      <td>0</td>\n",
       "      <td>1</td>\n",
       "      <td>0</td>\n",
       "      <td>0</td>\n",
       "      <td>0</td>\n",
       "      <td>0</td>\n",
       "      <td>...</td>\n",
       "      <td>0.0</td>\n",
       "      <td>0.486605</td>\n",
       "      <td>0.000000</td>\n",
       "      <td>0.0</td>\n",
       "      <td>0.500136</td>\n",
       "      <td>0.249187</td>\n",
       "      <td>0.0</td>\n",
       "      <td>0.261021</td>\n",
       "      <td>0.253855</td>\n",
       "      <td>0.183790</td>\n",
       "    </tr>\n",
       "  </tbody>\n",
       "</table>\n",
       "<p>5 rows × 79 columns</p>\n",
       "</div>"
      ],
      "text/plain": [
       "   Rating  compound1  Anxiety Disorders  Bipolar Disorders  \\\n",
       "0     8.0     1.9172                  0                  0   \n",
       "1    10.0     0.0911                  0                  1   \n",
       "2    10.0     1.0147                  0                  0   \n",
       "3    10.0     0.2148                  0                  1   \n",
       "4    10.0     0.4327                  0                  0   \n",
       "\n",
       "   Depressive Disorders  Neurodevelopmental Disorders  \\\n",
       "0                     0                             1   \n",
       "1                     0                             0   \n",
       "2                     1                             0   \n",
       "3                     0                             0   \n",
       "4                     0                             1   \n",
       "\n",
       "   Obsessive-Compulsive Disorders  Personality Disorders  Psychotic Disorders  \\\n",
       "0                               0                      0                    0   \n",
       "1                               0                      0                    0   \n",
       "2                               0                      0                    0   \n",
       "3                               0                      0                    0   \n",
       "4                               0                      0                    0   \n",
       "\n",
       "   Trauma-related Disorders  ...  took     tried      week  weeks    weight  \\\n",
       "0                         0  ...   0.0  0.231364  0.466684    0.0  0.000000   \n",
       "1                         0  ...   0.0  0.328339  0.000000    0.0  0.000000   \n",
       "2                         0  ...   0.0  0.000000  0.000000    0.0  0.000000   \n",
       "3                         0  ...   0.0  0.000000  0.000000    0.0  0.000000   \n",
       "4                         0  ...   0.0  0.486605  0.000000    0.0  0.500136   \n",
       "\n",
       "       went  work    worked      year     years  \n",
       "0  0.000000   0.0  0.000000  0.000000  0.000000  \n",
       "1  0.336281   0.0  0.000000  0.000000  0.000000  \n",
       "2  0.000000   0.0  0.000000  0.000000  0.320926  \n",
       "3  0.000000   0.0  0.000000  0.000000  0.000000  \n",
       "4  0.249187   0.0  0.261021  0.253855  0.183790  \n",
       "\n",
       "[5 rows x 79 columns]"
      ]
     },
     "execution_count": 3,
     "metadata": {},
     "output_type": "execute_result"
    }
   ],
   "source": [
    "psych.head()"
   ]
  },
  {
   "cell_type": "code",
   "execution_count": 5,
   "id": "4765774a",
   "metadata": {},
   "outputs": [
    {
     "data": {
      "text/plain": [
       "(30918, 79)"
      ]
     },
     "execution_count": 5,
     "metadata": {},
     "output_type": "execute_result"
    }
   ],
   "source": [
    "psych.shape"
   ]
  },
  {
   "cell_type": "markdown",
   "id": "35b5d407",
   "metadata": {},
   "source": [
    "### Combining similar vectors (proxy)"
   ]
  },
  {
   "cell_type": "markdown",
   "id": "7f465b49",
   "metadata": {},
   "source": [
    "I noticed (retrospectively) that a few of my features were TFIDF generated vectors that were very similar in meaning (i.e. same words different tense); I researched how TFIDF vector scores were calculated, and decided to combine these features into one so it serves as a proxy for lemmatization:"
   ]
  },
  {
   "cell_type": "code",
   "execution_count": 13,
   "id": "71adaa28",
   "metadata": {},
   "outputs": [],
   "source": [
    "psych['years_tf'] = psych['year'] + psych['years']"
   ]
  },
  {
   "cell_type": "code",
   "execution_count": 14,
   "id": "ae6399c3",
   "metadata": {},
   "outputs": [],
   "source": [
    "psych['week_tf'] = psych['week'] + psych['weeks']"
   ]
  },
  {
   "cell_type": "code",
   "execution_count": 15,
   "id": "b0dc22ab",
   "metadata": {},
   "outputs": [],
   "source": [
    "psych['days_tf'] = psych['day'] + psych['days']"
   ]
  },
  {
   "cell_type": "code",
   "execution_count": 16,
   "id": "1b9d61bd",
   "metadata": {},
   "outputs": [],
   "source": [
    "psych['feel_tf'] = psych['feel'] + psych['feeling'] + psych['felt']"
   ]
  },
  {
   "cell_type": "code",
   "execution_count": 17,
   "id": "2017f0dd",
   "metadata": {},
   "outputs": [],
   "source": [
    "psych = psych.drop(columns = ['year', 'years', 'week', 'weeks', 'day', 'days'\n",
    "                             ,'feel', 'feeling', 'felt'], axis = 1)"
   ]
  },
  {
   "cell_type": "code",
   "execution_count": 50,
   "id": "34ede933",
   "metadata": {},
   "outputs": [
    {
     "data": {
      "text/plain": [
       "(30918, 74)"
      ]
     },
     "execution_count": 50,
     "metadata": {},
     "output_type": "execute_result"
    }
   ],
   "source": [
    "psych.shape"
   ]
  },
  {
   "cell_type": "markdown",
   "id": "2c765b16",
   "metadata": {},
   "source": [
    "### Train-Test Split"
   ]
  },
  {
   "cell_type": "code",
   "execution_count": 6,
   "id": "54e3f467",
   "metadata": {},
   "outputs": [],
   "source": [
    "X = psych.drop(columns = 'Rating', axis = 1)"
   ]
  },
  {
   "cell_type": "code",
   "execution_count": 7,
   "id": "86974b0c",
   "metadata": {},
   "outputs": [],
   "source": [
    "y = psych['Rating']"
   ]
  },
  {
   "cell_type": "code",
   "execution_count": 10,
   "id": "cc40e947",
   "metadata": {},
   "outputs": [],
   "source": [
    "X_train, X_test, y_train, y_test = train_test_split(X, y, random_state = 42)"
   ]
  },
  {
   "cell_type": "markdown",
   "id": "d4097192",
   "metadata": {},
   "source": [
    "### Naive Bayes"
   ]
  },
  {
   "cell_type": "code",
   "execution_count": 54,
   "id": "dacefa01",
   "metadata": {},
   "outputs": [],
   "source": [
    "mnb = MultinomialNB()"
   ]
  },
  {
   "cell_type": "code",
   "execution_count": 55,
   "id": "6ccac6df",
   "metadata": {},
   "outputs": [
    {
     "data": {
      "text/plain": [
       "(0.347076073831292, 0.3486416558861578)"
      ]
     },
     "execution_count": 55,
     "metadata": {},
     "output_type": "execute_result"
    }
   ],
   "source": [
    "mnb.fit(X_train, y_train)\n",
    "mnb.score(X_train, y_train), mnb.score(X_test, y_test)"
   ]
  },
  {
   "cell_type": "markdown",
   "id": "b5c6fef7",
   "metadata": {},
   "source": [
    "The scores are very low (0.35 for both train & test). I'm curious to see if doing a simple logistic regression might be a better direction to take:"
   ]
  },
  {
   "cell_type": "markdown",
   "id": "a324c7d0",
   "metadata": {},
   "source": [
    "### Logistic Regresion"
   ]
  },
  {
   "cell_type": "code",
   "execution_count": 68,
   "id": "41d2ac92",
   "metadata": {},
   "outputs": [],
   "source": [
    "logreg = LogisticRegression(solver = 'liblinear', penalty = 'l2')"
   ]
  },
  {
   "cell_type": "code",
   "execution_count": 69,
   "id": "ba5119f5",
   "metadata": {
    "scrolled": true
   },
   "outputs": [
    {
     "data": {
      "text/plain": [
       "(0.37083836467138176, 0.3714100905562743)"
      ]
     },
     "execution_count": 69,
     "metadata": {},
     "output_type": "execute_result"
    }
   ],
   "source": [
    "logreg.fit(X_train, y_train)\n",
    "logreg.score(X_train, y_train), logreg.score(X_test, y_test)"
   ]
  },
  {
   "cell_type": "markdown",
   "id": "d98aa449",
   "metadata": {},
   "source": [
    "The scores for the logistic regression are a little better than the Naive Bayes model (0.37 for both train & test), but low. <br><br> After doing some research, based on my features it may be best to try a Random Forest model:"
   ]
  },
  {
   "cell_type": "markdown",
   "id": "4e717fd1",
   "metadata": {},
   "source": [
    "### Random Forest Regressor"
   ]
  },
  {
   "cell_type": "code",
   "execution_count": 24,
   "id": "47c4f22a",
   "metadata": {},
   "outputs": [],
   "source": [
    "rfr = RandomForestRegressor(max_features = 8)"
   ]
  },
  {
   "cell_type": "code",
   "execution_count": 25,
   "id": "2f667404",
   "metadata": {},
   "outputs": [
    {
     "data": {
      "text/plain": [
       "(0.9335657692326066, 0.5628603782102022)"
      ]
     },
     "execution_count": 25,
     "metadata": {},
     "output_type": "execute_result"
    }
   ],
   "source": [
    "rfr.fit(X_train, y_train)\n",
    "rfr.score(X_train, y_train), rfr.score(X_test, y_test)"
   ]
  },
  {
   "cell_type": "markdown",
   "id": "033e78a4",
   "metadata": {},
   "source": [
    "Model is very overfit; the train accuracy is good but test accuracy is very low. I will try using a RandomForestClassifier instead; all of my predictors/features were initially categorical to begin with (prior to transforming/dummifying) so it made sense to have a categorical target as well. "
   ]
  },
  {
   "cell_type": "markdown",
   "id": "ba94c546",
   "metadata": {},
   "source": [
    "### Random Forest Classifier (10 class prediction)"
   ]
  },
  {
   "cell_type": "code",
   "execution_count": 26,
   "id": "cd3b5f0c",
   "metadata": {},
   "outputs": [],
   "source": [
    "rfc = RandomForestClassifier(max_features = 8)"
   ]
  },
  {
   "cell_type": "code",
   "execution_count": 27,
   "id": "3b26ca1c",
   "metadata": {},
   "outputs": [
    {
     "data": {
      "text/plain": [
       "(0.9965499396239434, 0.635058214747736)"
      ]
     },
     "execution_count": 27,
     "metadata": {},
     "output_type": "execute_result"
    }
   ],
   "source": [
    "rfc.fit(X_train, y_train)\n",
    "rfc.score(X_train, y_train), rfc.score(X_test, y_test)"
   ]
  },
  {
   "cell_type": "markdown",
   "id": "450577c1",
   "metadata": {},
   "source": [
    "This model performed slightly better than the Random Forest Regressor but it is still very overfit (train accuracy almost 1 but test accuracy is pretty low at 0.64). Will try testing different hyperparemters to see if this helps:<br>"
   ]
  },
  {
   "cell_type": "code",
   "execution_count": 60,
   "id": "9f4f461c",
   "metadata": {},
   "outputs": [],
   "source": [
    "rfc = RandomForestClassifier(max_depth = 24, max_features = 9)"
   ]
  },
  {
   "cell_type": "code",
   "execution_count": 61,
   "id": "d988af3f",
   "metadata": {},
   "outputs": [
    {
     "data": {
      "text/plain": [
       "(0.9589874072796274, 0.6159120310478654)"
      ]
     },
     "execution_count": 61,
     "metadata": {},
     "output_type": "execute_result"
    }
   ],
   "source": [
    "rfc.fit(X_train, y_train)\n",
    "rfc.score(X_train, y_train), rfc.score(X_test, y_test)"
   ]
  },
  {
   "cell_type": "markdown",
   "id": "e8ac5cf5",
   "metadata": {},
   "source": [
    "Seems like the scores are similar to the first RFC model, with 0.96 for train and 0.62 for test; I will try inceasing the number of n_estimators from the default (100) to 1000 to see if this improves my model:"
   ]
  },
  {
   "cell_type": "code",
   "execution_count": 62,
   "id": "bb55b2de",
   "metadata": {},
   "outputs": [],
   "source": [
    "rfc = RandomForestClassifier(n_estimators = 1000, max_depth = 24, max_features = 9)"
   ]
  },
  {
   "cell_type": "code",
   "execution_count": 63,
   "id": "2d0240cd",
   "metadata": {},
   "outputs": [
    {
     "data": {
      "text/plain": [
       "(0.9624805934103847, 0.6216041397153945)"
      ]
     },
     "execution_count": 63,
     "metadata": {},
     "output_type": "execute_result"
    }
   ],
   "source": [
    "rfc.fit(X_train, y_train)\n",
    "rfc.score(X_train, y_train), rfc.score(X_test, y_test)"
   ]
  },
  {
   "cell_type": "markdown",
   "id": "e17ae64d",
   "metadata": {},
   "source": [
    "The model performed about the same as the previous even after adding more n_estimators (0.96 train & 0.62 test). After doing some research I decided to add class_weight as a hyperparameter to help deal with the imbalanced classes in my target variable:"
   ]
  },
  {
   "cell_type": "code",
   "execution_count": 64,
   "id": "fa77c778",
   "metadata": {},
   "outputs": [],
   "source": [
    "rfc = RandomForestClassifier(n_estimators = 1000, max_depth = 24, \n",
    "                             max_features = 9, class_weight = 'balanced')"
   ]
  },
  {
   "cell_type": "code",
   "execution_count": 65,
   "id": "10ba1b69",
   "metadata": {},
   "outputs": [
    {
     "data": {
      "text/plain": [
       "(0.977315853027428, 0.6213454075032342)"
      ]
     },
     "execution_count": 65,
     "metadata": {},
     "output_type": "execute_result"
    }
   ],
   "source": [
    "rfc.fit(X_train, y_train)\n",
    "rfc.score(X_train, y_train), rfc.score(X_test, y_test)"
   ]
  },
  {
   "cell_type": "markdown",
   "id": "97d68666",
   "metadata": {},
   "source": [
    "The train score improved by a little bit but the test score is the same (0.98 train, 0.62 test); will try adding the oob_score hyperparameter as well:"
   ]
  },
  {
   "cell_type": "code",
   "execution_count": 72,
   "id": "ede440eb",
   "metadata": {},
   "outputs": [],
   "source": [
    "rfc = RandomForestClassifier(n_estimators = 1000, max_depth = 24, \n",
    "                             max_features = 9, class_weight = 'balanced',\n",
    "                            oob_score = True)"
   ]
  },
  {
   "cell_type": "code",
   "execution_count": 73,
   "id": "621252a8",
   "metadata": {},
   "outputs": [
    {
     "data": {
      "text/plain": [
       "(0.9781783681214421, 0.6200517464424321)"
      ]
     },
     "execution_count": 73,
     "metadata": {},
     "output_type": "execute_result"
    }
   ],
   "source": [
    "rfc.fit(X_train, y_train)\n",
    "rfc.score(X_train, y_train), rfc.score(X_test, y_test)"
   ]
  },
  {
   "cell_type": "markdown",
   "id": "0234a690",
   "metadata": {},
   "source": [
    "Model has the same results (0.98 train, 0.62 test); the last few models I've run have all been pretty overfit. Will try adding the 'criterion' hyperparameter to see if it helps with the overfitting:"
   ]
  },
  {
   "cell_type": "code",
   "execution_count": 77,
   "id": "ce97cb70",
   "metadata": {},
   "outputs": [],
   "source": [
    "rfc = RandomForestClassifier(n_estimators = 1000, max_depth = 24, \n",
    "                             max_features = 9, class_weight = 'balanced',\n",
    "                            oob_score = True, criterion = 'entropy')"
   ]
  },
  {
   "cell_type": "code",
   "execution_count": 78,
   "id": "d2a04acb",
   "metadata": {},
   "outputs": [
    {
     "data": {
      "text/plain": [
       "(0.985423494911161, 0.6316946959896507)"
      ]
     },
     "execution_count": 78,
     "metadata": {},
     "output_type": "execute_result"
    }
   ],
   "source": [
    "rfc.fit(X_train, y_train)\n",
    "rfc.score(X_train, y_train), rfc.score(X_test, y_test)"
   ]
  },
  {
   "cell_type": "markdown",
   "id": "24a81b91",
   "metadata": {},
   "source": [
    "The accuracy score for train went up from 0.98 to 0.99, and test went up by 0.01 as well (0.62 to 0.63); the model is still overfit. <br><br> I will try reclassifying the target variable as 3 classes (low, medium, & high) to see if this helps better the model."
   ]
  },
  {
   "cell_type": "markdown",
   "id": "40479846",
   "metadata": {},
   "source": [
    "### Random Forest Classifier (3 class prediction)"
   ]
  },
  {
   "cell_type": "code",
   "execution_count": 101,
   "id": "e64b6ed1",
   "metadata": {},
   "outputs": [],
   "source": [
    "def f(row):\n",
    "    if row['Rating'] <= 3:\n",
    "        return 1\n",
    "    elif row['Rating'] <= 7:\n",
    "        return 2\n",
    "    else:\n",
    "        return 3"
   ]
  },
  {
   "cell_type": "markdown",
   "id": "0ae61452",
   "metadata": {},
   "source": [
    "**Note**: 'Low' ratings classified is 1-3, 'Medium' as 4-7 and 'High' as 8 or above"
   ]
  },
  {
   "cell_type": "code",
   "execution_count": 102,
   "id": "7e1d5ff8",
   "metadata": {},
   "outputs": [],
   "source": [
    "psych['Rating_cat'] = psych.apply(f, axis = 1)"
   ]
  },
  {
   "cell_type": "code",
   "execution_count": 104,
   "id": "dd5d6db5",
   "metadata": {},
   "outputs": [
    {
     "data": {
      "text/plain": [
       "3    20245\n",
       "1     5357\n",
       "2     5316\n",
       "Name: Rating_cat, dtype: int64"
      ]
     },
     "execution_count": 104,
     "metadata": {},
     "output_type": "execute_result"
    }
   ],
   "source": [
    "psych['Rating_cat'].value_counts()"
   ]
  },
  {
   "cell_type": "markdown",
   "id": "49c9d8e8",
   "metadata": {},
   "source": [
    "Looks like the classes are quite imbalanced, with about 65% belonging to the 'High' rating class. Will definitely need to account for that in my RFC model by including the class_weight hyperparameter."
   ]
  },
  {
   "cell_type": "code",
   "execution_count": 105,
   "id": "3b523d22",
   "metadata": {},
   "outputs": [
    {
     "data": {
      "text/html": [
       "<div>\n",
       "<style scoped>\n",
       "    .dataframe tbody tr th:only-of-type {\n",
       "        vertical-align: middle;\n",
       "    }\n",
       "\n",
       "    .dataframe tbody tr th {\n",
       "        vertical-align: top;\n",
       "    }\n",
       "\n",
       "    .dataframe thead th {\n",
       "        text-align: right;\n",
       "    }\n",
       "</style>\n",
       "<table border=\"1\" class=\"dataframe\">\n",
       "  <thead>\n",
       "    <tr style=\"text-align: right;\">\n",
       "      <th></th>\n",
       "      <th>Rating</th>\n",
       "      <th>compound1</th>\n",
       "      <th>Anxiety Disorders</th>\n",
       "      <th>Bipolar Disorders</th>\n",
       "      <th>Depressive Disorders</th>\n",
       "      <th>Neurodevelopmental Disorders</th>\n",
       "      <th>Obsessive-Compulsive Disorders</th>\n",
       "      <th>Personality Disorders</th>\n",
       "      <th>Psychotic Disorders</th>\n",
       "      <th>Trauma-related Disorders</th>\n",
       "      <th>Anxiolytics</th>\n",
       "      <th>B vitamin</th>\n",
       "      <th>MAOI</th>\n",
       "      <th>NRDI</th>\n",
       "      <th>SARI</th>\n",
       "      <th>SNRI</th>\n",
       "      <th>SSRI</th>\n",
       "      <th>SSRI/5HT-1A Partial Agonist</th>\n",
       "      <th>TeCA</th>\n",
       "      <th>alpha agonists</th>\n",
       "      <th>anticonvulsants</th>\n",
       "      <th>antihistamines</th>\n",
       "      <th>antihypertensives</th>\n",
       "      <th>antimanic agents</th>\n",
       "      <th>anxiolytics</th>\n",
       "      <th>atypical antipsychotics</th>\n",
       "      <th>benzodiazepines</th>\n",
       "      <th>beta blockers</th>\n",
       "      <th>central nervous system stimulants</th>\n",
       "      <th>conventional antipsychotics</th>\n",
       "      <th>tricyclic antidepressants</th>\n",
       "      <th>ago</th>\n",
       "      <th>anxiety</th>\n",
       "      <th>attacks</th>\n",
       "      <th>bad</th>\n",
       "      <th>better</th>\n",
       "      <th>depression</th>\n",
       "      <th>did</th>\n",
       "      <th>didnt</th>\n",
       "      <th>doctor</th>\n",
       "      <th>dont</th>\n",
       "      <th>dose</th>\n",
       "      <th>drug</th>\n",
       "      <th>effects</th>\n",
       "      <th>good</th>\n",
       "      <th>great</th>\n",
       "      <th>help</th>\n",
       "      <th>helped</th>\n",
       "      <th>im</th>\n",
       "      <th>ive</th>\n",
       "      <th>just</th>\n",
       "      <th>life</th>\n",
       "      <th>like</th>\n",
       "      <th>medication</th>\n",
       "      <th>medicine</th>\n",
       "      <th>months</th>\n",
       "      <th>night</th>\n",
       "      <th>panic</th>\n",
       "      <th>prescribed</th>\n",
       "      <th>really</th>\n",
       "      <th>sleep</th>\n",
       "      <th>started</th>\n",
       "      <th>taking</th>\n",
       "      <th>time</th>\n",
       "      <th>took</th>\n",
       "      <th>tried</th>\n",
       "      <th>weight</th>\n",
       "      <th>went</th>\n",
       "      <th>work</th>\n",
       "      <th>worked</th>\n",
       "      <th>years_tf</th>\n",
       "      <th>week_tf</th>\n",
       "      <th>days_tf</th>\n",
       "      <th>feel_tf</th>\n",
       "      <th>Rating_cat</th>\n",
       "    </tr>\n",
       "  </thead>\n",
       "  <tbody>\n",
       "    <tr>\n",
       "      <th>0</th>\n",
       "      <td>8.0</td>\n",
       "      <td>1.9172</td>\n",
       "      <td>0</td>\n",
       "      <td>0</td>\n",
       "      <td>0</td>\n",
       "      <td>1</td>\n",
       "      <td>0</td>\n",
       "      <td>0</td>\n",
       "      <td>0</td>\n",
       "      <td>0</td>\n",
       "      <td>0</td>\n",
       "      <td>0</td>\n",
       "      <td>0</td>\n",
       "      <td>0</td>\n",
       "      <td>0</td>\n",
       "      <td>0</td>\n",
       "      <td>0</td>\n",
       "      <td>0</td>\n",
       "      <td>0</td>\n",
       "      <td>1</td>\n",
       "      <td>0</td>\n",
       "      <td>0</td>\n",
       "      <td>0</td>\n",
       "      <td>0</td>\n",
       "      <td>0</td>\n",
       "      <td>0</td>\n",
       "      <td>0</td>\n",
       "      <td>0</td>\n",
       "      <td>0</td>\n",
       "      <td>0</td>\n",
       "      <td>0</td>\n",
       "      <td>0.0</td>\n",
       "      <td>0.000000</td>\n",
       "      <td>0.0</td>\n",
       "      <td>0.0</td>\n",
       "      <td>0.203022</td>\n",
       "      <td>0.000000</td>\n",
       "      <td>0.227612</td>\n",
       "      <td>0.0</td>\n",
       "      <td>0.213254</td>\n",
       "      <td>0.0</td>\n",
       "      <td>0.233223</td>\n",
       "      <td>0.0</td>\n",
       "      <td>0.000000</td>\n",
       "      <td>0.227833</td>\n",
       "      <td>0.000000</td>\n",
       "      <td>0.0</td>\n",
       "      <td>0.0</td>\n",
       "      <td>0.000000</td>\n",
       "      <td>0.00000</td>\n",
       "      <td>0.0</td>\n",
       "      <td>0.000000</td>\n",
       "      <td>0.000000</td>\n",
       "      <td>0.000000</td>\n",
       "      <td>0.000000</td>\n",
       "      <td>0.00000</td>\n",
       "      <td>0.0</td>\n",
       "      <td>0.0</td>\n",
       "      <td>0.000000</td>\n",
       "      <td>0.0</td>\n",
       "      <td>0.000000</td>\n",
       "      <td>0.183442</td>\n",
       "      <td>0.164529</td>\n",
       "      <td>0.000000</td>\n",
       "      <td>0.0</td>\n",
       "      <td>0.231364</td>\n",
       "      <td>0.000000</td>\n",
       "      <td>0.000000</td>\n",
       "      <td>0.0</td>\n",
       "      <td>0.000000</td>\n",
       "      <td>0.000000</td>\n",
       "      <td>0.466684</td>\n",
       "      <td>0.650502</td>\n",
       "      <td>0.000000</td>\n",
       "      <td>3</td>\n",
       "    </tr>\n",
       "    <tr>\n",
       "      <th>1</th>\n",
       "      <td>10.0</td>\n",
       "      <td>0.0911</td>\n",
       "      <td>0</td>\n",
       "      <td>1</td>\n",
       "      <td>0</td>\n",
       "      <td>0</td>\n",
       "      <td>0</td>\n",
       "      <td>0</td>\n",
       "      <td>0</td>\n",
       "      <td>0</td>\n",
       "      <td>0</td>\n",
       "      <td>0</td>\n",
       "      <td>0</td>\n",
       "      <td>0</td>\n",
       "      <td>0</td>\n",
       "      <td>0</td>\n",
       "      <td>0</td>\n",
       "      <td>0</td>\n",
       "      <td>0</td>\n",
       "      <td>0</td>\n",
       "      <td>0</td>\n",
       "      <td>0</td>\n",
       "      <td>0</td>\n",
       "      <td>0</td>\n",
       "      <td>0</td>\n",
       "      <td>1</td>\n",
       "      <td>0</td>\n",
       "      <td>0</td>\n",
       "      <td>0</td>\n",
       "      <td>0</td>\n",
       "      <td>0</td>\n",
       "      <td>0.0</td>\n",
       "      <td>0.000000</td>\n",
       "      <td>0.0</td>\n",
       "      <td>0.0</td>\n",
       "      <td>0.288118</td>\n",
       "      <td>0.251365</td>\n",
       "      <td>0.000000</td>\n",
       "      <td>0.0</td>\n",
       "      <td>0.000000</td>\n",
       "      <td>0.0</td>\n",
       "      <td>0.000000</td>\n",
       "      <td>0.0</td>\n",
       "      <td>0.000000</td>\n",
       "      <td>0.000000</td>\n",
       "      <td>0.000000</td>\n",
       "      <td>0.0</td>\n",
       "      <td>0.0</td>\n",
       "      <td>0.257267</td>\n",
       "      <td>0.00000</td>\n",
       "      <td>0.0</td>\n",
       "      <td>0.258745</td>\n",
       "      <td>0.505013</td>\n",
       "      <td>0.000000</td>\n",
       "      <td>0.000000</td>\n",
       "      <td>0.00000</td>\n",
       "      <td>0.0</td>\n",
       "      <td>0.0</td>\n",
       "      <td>0.347716</td>\n",
       "      <td>0.0</td>\n",
       "      <td>0.000000</td>\n",
       "      <td>0.260331</td>\n",
       "      <td>0.000000</td>\n",
       "      <td>0.000000</td>\n",
       "      <td>0.0</td>\n",
       "      <td>0.328339</td>\n",
       "      <td>0.000000</td>\n",
       "      <td>0.336281</td>\n",
       "      <td>0.0</td>\n",
       "      <td>0.000000</td>\n",
       "      <td>0.000000</td>\n",
       "      <td>0.000000</td>\n",
       "      <td>0.000000</td>\n",
       "      <td>0.236771</td>\n",
       "      <td>3</td>\n",
       "    </tr>\n",
       "    <tr>\n",
       "      <th>2</th>\n",
       "      <td>10.0</td>\n",
       "      <td>1.0147</td>\n",
       "      <td>0</td>\n",
       "      <td>0</td>\n",
       "      <td>1</td>\n",
       "      <td>0</td>\n",
       "      <td>0</td>\n",
       "      <td>0</td>\n",
       "      <td>0</td>\n",
       "      <td>0</td>\n",
       "      <td>0</td>\n",
       "      <td>1</td>\n",
       "      <td>0</td>\n",
       "      <td>0</td>\n",
       "      <td>0</td>\n",
       "      <td>0</td>\n",
       "      <td>0</td>\n",
       "      <td>0</td>\n",
       "      <td>0</td>\n",
       "      <td>0</td>\n",
       "      <td>0</td>\n",
       "      <td>0</td>\n",
       "      <td>0</td>\n",
       "      <td>0</td>\n",
       "      <td>0</td>\n",
       "      <td>0</td>\n",
       "      <td>0</td>\n",
       "      <td>0</td>\n",
       "      <td>0</td>\n",
       "      <td>0</td>\n",
       "      <td>0</td>\n",
       "      <td>0.0</td>\n",
       "      <td>0.000000</td>\n",
       "      <td>0.0</td>\n",
       "      <td>0.0</td>\n",
       "      <td>0.372802</td>\n",
       "      <td>0.325247</td>\n",
       "      <td>0.000000</td>\n",
       "      <td>0.0</td>\n",
       "      <td>0.000000</td>\n",
       "      <td>0.0</td>\n",
       "      <td>0.000000</td>\n",
       "      <td>0.0</td>\n",
       "      <td>0.314417</td>\n",
       "      <td>0.000000</td>\n",
       "      <td>0.000000</td>\n",
       "      <td>0.0</td>\n",
       "      <td>0.0</td>\n",
       "      <td>0.000000</td>\n",
       "      <td>0.00000</td>\n",
       "      <td>0.0</td>\n",
       "      <td>0.000000</td>\n",
       "      <td>0.326724</td>\n",
       "      <td>0.000000</td>\n",
       "      <td>0.000000</td>\n",
       "      <td>0.36691</td>\n",
       "      <td>0.0</td>\n",
       "      <td>0.0</td>\n",
       "      <td>0.000000</td>\n",
       "      <td>0.0</td>\n",
       "      <td>0.000000</td>\n",
       "      <td>0.000000</td>\n",
       "      <td>0.302118</td>\n",
       "      <td>0.356197</td>\n",
       "      <td>0.0</td>\n",
       "      <td>0.000000</td>\n",
       "      <td>0.000000</td>\n",
       "      <td>0.000000</td>\n",
       "      <td>0.0</td>\n",
       "      <td>0.000000</td>\n",
       "      <td>0.320926</td>\n",
       "      <td>0.000000</td>\n",
       "      <td>0.000000</td>\n",
       "      <td>0.306363</td>\n",
       "      <td>3</td>\n",
       "    </tr>\n",
       "    <tr>\n",
       "      <th>3</th>\n",
       "      <td>10.0</td>\n",
       "      <td>0.2148</td>\n",
       "      <td>0</td>\n",
       "      <td>1</td>\n",
       "      <td>0</td>\n",
       "      <td>0</td>\n",
       "      <td>0</td>\n",
       "      <td>0</td>\n",
       "      <td>0</td>\n",
       "      <td>0</td>\n",
       "      <td>0</td>\n",
       "      <td>0</td>\n",
       "      <td>0</td>\n",
       "      <td>0</td>\n",
       "      <td>0</td>\n",
       "      <td>0</td>\n",
       "      <td>0</td>\n",
       "      <td>0</td>\n",
       "      <td>0</td>\n",
       "      <td>0</td>\n",
       "      <td>1</td>\n",
       "      <td>0</td>\n",
       "      <td>0</td>\n",
       "      <td>0</td>\n",
       "      <td>0</td>\n",
       "      <td>0</td>\n",
       "      <td>0</td>\n",
       "      <td>0</td>\n",
       "      <td>0</td>\n",
       "      <td>0</td>\n",
       "      <td>0</td>\n",
       "      <td>0.0</td>\n",
       "      <td>0.279727</td>\n",
       "      <td>0.0</td>\n",
       "      <td>0.0</td>\n",
       "      <td>0.000000</td>\n",
       "      <td>0.000000</td>\n",
       "      <td>0.000000</td>\n",
       "      <td>0.0</td>\n",
       "      <td>0.000000</td>\n",
       "      <td>0.0</td>\n",
       "      <td>0.000000</td>\n",
       "      <td>0.0</td>\n",
       "      <td>0.000000</td>\n",
       "      <td>0.000000</td>\n",
       "      <td>0.435728</td>\n",
       "      <td>0.0</td>\n",
       "      <td>0.0</td>\n",
       "      <td>0.000000</td>\n",
       "      <td>0.36248</td>\n",
       "      <td>0.0</td>\n",
       "      <td>0.000000</td>\n",
       "      <td>0.330040</td>\n",
       "      <td>0.000000</td>\n",
       "      <td>0.400823</td>\n",
       "      <td>0.00000</td>\n",
       "      <td>0.0</td>\n",
       "      <td>0.0</td>\n",
       "      <td>0.000000</td>\n",
       "      <td>0.0</td>\n",
       "      <td>0.411276</td>\n",
       "      <td>0.000000</td>\n",
       "      <td>0.000000</td>\n",
       "      <td>0.000000</td>\n",
       "      <td>0.0</td>\n",
       "      <td>0.000000</td>\n",
       "      <td>0.000000</td>\n",
       "      <td>0.000000</td>\n",
       "      <td>0.0</td>\n",
       "      <td>0.000000</td>\n",
       "      <td>0.000000</td>\n",
       "      <td>0.000000</td>\n",
       "      <td>0.402206</td>\n",
       "      <td>0.000000</td>\n",
       "      <td>3</td>\n",
       "    </tr>\n",
       "    <tr>\n",
       "      <th>4</th>\n",
       "      <td>10.0</td>\n",
       "      <td>0.4327</td>\n",
       "      <td>0</td>\n",
       "      <td>0</td>\n",
       "      <td>0</td>\n",
       "      <td>1</td>\n",
       "      <td>0</td>\n",
       "      <td>0</td>\n",
       "      <td>0</td>\n",
       "      <td>0</td>\n",
       "      <td>0</td>\n",
       "      <td>0</td>\n",
       "      <td>0</td>\n",
       "      <td>0</td>\n",
       "      <td>0</td>\n",
       "      <td>0</td>\n",
       "      <td>0</td>\n",
       "      <td>0</td>\n",
       "      <td>0</td>\n",
       "      <td>0</td>\n",
       "      <td>0</td>\n",
       "      <td>0</td>\n",
       "      <td>0</td>\n",
       "      <td>0</td>\n",
       "      <td>0</td>\n",
       "      <td>0</td>\n",
       "      <td>0</td>\n",
       "      <td>0</td>\n",
       "      <td>1</td>\n",
       "      <td>0</td>\n",
       "      <td>0</td>\n",
       "      <td>0.0</td>\n",
       "      <td>0.000000</td>\n",
       "      <td>0.0</td>\n",
       "      <td>0.0</td>\n",
       "      <td>0.000000</td>\n",
       "      <td>0.000000</td>\n",
       "      <td>0.000000</td>\n",
       "      <td>0.0</td>\n",
       "      <td>0.224258</td>\n",
       "      <td>0.0</td>\n",
       "      <td>0.000000</td>\n",
       "      <td>0.0</td>\n",
       "      <td>0.180062</td>\n",
       "      <td>0.000000</td>\n",
       "      <td>0.000000</td>\n",
       "      <td>0.0</td>\n",
       "      <td>0.0</td>\n",
       "      <td>0.000000</td>\n",
       "      <td>0.00000</td>\n",
       "      <td>0.0</td>\n",
       "      <td>0.000000</td>\n",
       "      <td>0.187110</td>\n",
       "      <td>0.201708</td>\n",
       "      <td>0.000000</td>\n",
       "      <td>0.00000</td>\n",
       "      <td>0.0</td>\n",
       "      <td>0.0</td>\n",
       "      <td>0.000000</td>\n",
       "      <td>0.0</td>\n",
       "      <td>0.233165</td>\n",
       "      <td>0.192908</td>\n",
       "      <td>0.000000</td>\n",
       "      <td>0.000000</td>\n",
       "      <td>0.0</td>\n",
       "      <td>0.486605</td>\n",
       "      <td>0.500136</td>\n",
       "      <td>0.249187</td>\n",
       "      <td>0.0</td>\n",
       "      <td>0.261021</td>\n",
       "      <td>0.437645</td>\n",
       "      <td>0.000000</td>\n",
       "      <td>0.186126</td>\n",
       "      <td>0.000000</td>\n",
       "      <td>3</td>\n",
       "    </tr>\n",
       "  </tbody>\n",
       "</table>\n",
       "</div>"
      ],
      "text/plain": [
       "   Rating  compound1  Anxiety Disorders  Bipolar Disorders  \\\n",
       "0     8.0     1.9172                  0                  0   \n",
       "1    10.0     0.0911                  0                  1   \n",
       "2    10.0     1.0147                  0                  0   \n",
       "3    10.0     0.2148                  0                  1   \n",
       "4    10.0     0.4327                  0                  0   \n",
       "\n",
       "   Depressive Disorders  Neurodevelopmental Disorders  \\\n",
       "0                     0                             1   \n",
       "1                     0                             0   \n",
       "2                     1                             0   \n",
       "3                     0                             0   \n",
       "4                     0                             1   \n",
       "\n",
       "   Obsessive-Compulsive Disorders  Personality Disorders  Psychotic Disorders  \\\n",
       "0                               0                      0                    0   \n",
       "1                               0                      0                    0   \n",
       "2                               0                      0                    0   \n",
       "3                               0                      0                    0   \n",
       "4                               0                      0                    0   \n",
       "\n",
       "   Trauma-related Disorders  Anxiolytics  B vitamin  MAOI  NRDI  SARI  SNRI  \\\n",
       "0                         0            0          0     0     0     0     0   \n",
       "1                         0            0          0     0     0     0     0   \n",
       "2                         0            0          1     0     0     0     0   \n",
       "3                         0            0          0     0     0     0     0   \n",
       "4                         0            0          0     0     0     0     0   \n",
       "\n",
       "   SSRI  SSRI/5HT-1A Partial Agonist  TeCA  alpha agonists  anticonvulsants  \\\n",
       "0     0                            0     0               1                0   \n",
       "1     0                            0     0               0                0   \n",
       "2     0                            0     0               0                0   \n",
       "3     0                            0     0               0                1   \n",
       "4     0                            0     0               0                0   \n",
       "\n",
       "   antihistamines  antihypertensives  antimanic agents  anxiolytics  \\\n",
       "0               0                  0                 0            0   \n",
       "1               0                  0                 0            0   \n",
       "2               0                  0                 0            0   \n",
       "3               0                  0                 0            0   \n",
       "4               0                  0                 0            0   \n",
       "\n",
       "   atypical antipsychotics  benzodiazepines  beta blockers  \\\n",
       "0                        0                0              0   \n",
       "1                        1                0              0   \n",
       "2                        0                0              0   \n",
       "3                        0                0              0   \n",
       "4                        0                0              0   \n",
       "\n",
       "   central nervous system stimulants  conventional antipsychotics  \\\n",
       "0                                  0                            0   \n",
       "1                                  0                            0   \n",
       "2                                  0                            0   \n",
       "3                                  0                            0   \n",
       "4                                  1                            0   \n",
       "\n",
       "   tricyclic antidepressants  ago   anxiety  attacks  bad    better  \\\n",
       "0                          0  0.0  0.000000      0.0  0.0  0.203022   \n",
       "1                          0  0.0  0.000000      0.0  0.0  0.288118   \n",
       "2                          0  0.0  0.000000      0.0  0.0  0.372802   \n",
       "3                          0  0.0  0.279727      0.0  0.0  0.000000   \n",
       "4                          0  0.0  0.000000      0.0  0.0  0.000000   \n",
       "\n",
       "   depression       did  didnt    doctor  dont      dose  drug   effects  \\\n",
       "0    0.000000  0.227612    0.0  0.213254   0.0  0.233223   0.0  0.000000   \n",
       "1    0.251365  0.000000    0.0  0.000000   0.0  0.000000   0.0  0.000000   \n",
       "2    0.325247  0.000000    0.0  0.000000   0.0  0.000000   0.0  0.314417   \n",
       "3    0.000000  0.000000    0.0  0.000000   0.0  0.000000   0.0  0.000000   \n",
       "4    0.000000  0.000000    0.0  0.224258   0.0  0.000000   0.0  0.180062   \n",
       "\n",
       "       good     great  help  helped        im      ive  just      life  \\\n",
       "0  0.227833  0.000000   0.0     0.0  0.000000  0.00000   0.0  0.000000   \n",
       "1  0.000000  0.000000   0.0     0.0  0.257267  0.00000   0.0  0.258745   \n",
       "2  0.000000  0.000000   0.0     0.0  0.000000  0.00000   0.0  0.000000   \n",
       "3  0.000000  0.435728   0.0     0.0  0.000000  0.36248   0.0  0.000000   \n",
       "4  0.000000  0.000000   0.0     0.0  0.000000  0.00000   0.0  0.000000   \n",
       "\n",
       "       like  medication  medicine   months  night  panic  prescribed  really  \\\n",
       "0  0.000000    0.000000  0.000000  0.00000    0.0    0.0    0.000000     0.0   \n",
       "1  0.505013    0.000000  0.000000  0.00000    0.0    0.0    0.347716     0.0   \n",
       "2  0.326724    0.000000  0.000000  0.36691    0.0    0.0    0.000000     0.0   \n",
       "3  0.330040    0.000000  0.400823  0.00000    0.0    0.0    0.000000     0.0   \n",
       "4  0.187110    0.201708  0.000000  0.00000    0.0    0.0    0.000000     0.0   \n",
       "\n",
       "      sleep   started    taking      time  took     tried    weight      went  \\\n",
       "0  0.000000  0.183442  0.164529  0.000000   0.0  0.231364  0.000000  0.000000   \n",
       "1  0.000000  0.260331  0.000000  0.000000   0.0  0.328339  0.000000  0.336281   \n",
       "2  0.000000  0.000000  0.302118  0.356197   0.0  0.000000  0.000000  0.000000   \n",
       "3  0.411276  0.000000  0.000000  0.000000   0.0  0.000000  0.000000  0.000000   \n",
       "4  0.233165  0.192908  0.000000  0.000000   0.0  0.486605  0.500136  0.249187   \n",
       "\n",
       "   work    worked  years_tf   week_tf   days_tf   feel_tf  Rating_cat  \n",
       "0   0.0  0.000000  0.000000  0.466684  0.650502  0.000000           3  \n",
       "1   0.0  0.000000  0.000000  0.000000  0.000000  0.236771           3  \n",
       "2   0.0  0.000000  0.320926  0.000000  0.000000  0.306363           3  \n",
       "3   0.0  0.000000  0.000000  0.000000  0.402206  0.000000           3  \n",
       "4   0.0  0.261021  0.437645  0.000000  0.186126  0.000000           3  "
      ]
     },
     "execution_count": 105,
     "metadata": {},
     "output_type": "execute_result"
    }
   ],
   "source": [
    "psych.head()"
   ]
  },
  {
   "cell_type": "code",
   "execution_count": 106,
   "id": "84fdbd27",
   "metadata": {},
   "outputs": [
    {
     "data": {
      "text/plain": [
       "(30918, 75)"
      ]
     },
     "execution_count": 106,
     "metadata": {},
     "output_type": "execute_result"
    }
   ],
   "source": [
    "psych.shape"
   ]
  },
  {
   "cell_type": "code",
   "execution_count": 107,
   "id": "90933b7b",
   "metadata": {},
   "outputs": [],
   "source": [
    "X = psych.drop(columns = ['Rating', 'Rating_cat'])\n",
    "y = psych['Rating_cat']"
   ]
  },
  {
   "cell_type": "code",
   "execution_count": 108,
   "id": "f7691cce",
   "metadata": {},
   "outputs": [],
   "source": [
    "X_train, X_test, y_train, y_test = train_test_split(X, y, random_state = 42)"
   ]
  },
  {
   "cell_type": "code",
   "execution_count": 109,
   "id": "ccb2839b",
   "metadata": {},
   "outputs": [],
   "source": [
    "rfc = RandomForestClassifier(n_estimators = 1000, max_depth = 24, \n",
    "                             max_features = 9, class_weight = 'balanced',\n",
    "                            oob_score = True, criterion = 'entropy')"
   ]
  },
  {
   "cell_type": "code",
   "execution_count": 110,
   "id": "981746e9",
   "metadata": {},
   "outputs": [
    {
     "data": {
      "text/plain": [
       "(0.9797740210453683, 0.811901681759379)"
      ]
     },
     "execution_count": 110,
     "metadata": {},
     "output_type": "execute_result"
    }
   ],
   "source": [
    "rfc.fit(X_train, y_train)\n",
    "rfc.score(X_train, y_train), rfc.score(X_test, y_test)"
   ]
  },
  {
   "cell_type": "markdown",
   "id": "6114dcac",
   "metadata": {},
   "source": [
    "The RFC model predicting 3 classes of Drug Ratings instead of 10 classes is doing much better. The accuracy score of train is still high (0.98) but the test accuracy went up to 0.81, which signifies that the model is the least overfit of all the RFC models thus far. Though it is still a bit overfit, a test accuracy of 0.81 is decent.<br><br> Was also curious to try changing class weight from 'balanced' to 'balanced_sibsample' to see if this helps the model:"
   ]
  },
  {
   "cell_type": "code",
   "execution_count": 111,
   "id": "68979991",
   "metadata": {},
   "outputs": [],
   "source": [
    "rfc = RandomForestClassifier(n_estimators = 1000, max_depth = 24, \n",
    "                             max_features = 9, class_weight = 'balanced_subsample',\n",
    "                            oob_score = True, criterion = 'entropy')"
   ]
  },
  {
   "cell_type": "code",
   "execution_count": 112,
   "id": "650269e8",
   "metadata": {},
   "outputs": [
    {
     "data": {
      "text/plain": [
       "(0.9798602725547697, 0.8124191461836999)"
      ]
     },
     "execution_count": 112,
     "metadata": {},
     "output_type": "execute_result"
    }
   ],
   "source": [
    "rfc.fit(X_train, y_train)\n",
    "rfc.score(X_train, y_train), rfc.score(X_test, y_test)"
   ]
  },
  {
   "cell_type": "markdown",
   "id": "5c11fdee",
   "metadata": {},
   "source": [
    "Looks like the results are comprable to the model above (0.98 train and 0.81 test). This model is pretty good and seems to be my best model thus far so will select this model as my final."
   ]
  },
  {
   "cell_type": "markdown",
   "id": "b0692cf8",
   "metadata": {},
   "source": [
    "### Final Model Metrics"
   ]
  },
  {
   "cell_type": "code",
   "execution_count": 113,
   "id": "1bd29e2c",
   "metadata": {},
   "outputs": [],
   "source": [
    "y_pred2 = rfc.predict(X_test)"
   ]
  },
  {
   "cell_type": "code",
   "execution_count": 138,
   "id": "e7645e25",
   "metadata": {},
   "outputs": [
    {
     "data": {
      "text/plain": [
       "0.8124191461836999"
      ]
     },
     "execution_count": 138,
     "metadata": {},
     "output_type": "execute_result"
    }
   ],
   "source": [
    "accuracy_score(y_test, y_pred2)"
   ]
  },
  {
   "cell_type": "code",
   "execution_count": 116,
   "id": "91aa649e",
   "metadata": {},
   "outputs": [
    {
     "data": {
      "text/plain": [
       "array([0.70661308, 0.5822156 , 0.88272642])"
      ]
     },
     "execution_count": 116,
     "metadata": {},
     "output_type": "execute_result"
    }
   ],
   "source": [
    "f1_score(y_test, y_pred2, average = None)"
   ]
  },
  {
   "cell_type": "code",
   "execution_count": 117,
   "id": "46f8f6c8",
   "metadata": {},
   "outputs": [
    {
     "data": {
      "text/plain": [
       "0.7238517008421833"
      ]
     },
     "execution_count": 117,
     "metadata": {},
     "output_type": "execute_result"
    }
   ],
   "source": [
    "f1_score(y_test, y_pred2, average = 'macro')"
   ]
  },
  {
   "cell_type": "code",
   "execution_count": 118,
   "id": "e869db81",
   "metadata": {},
   "outputs": [
    {
     "data": {
      "text/plain": [
       "0.7997869148706447"
      ]
     },
     "execution_count": 118,
     "metadata": {},
     "output_type": "execute_result"
    }
   ],
   "source": [
    "f1_score(y_test, y_pred2, average = 'weighted')"
   ]
  },
  {
   "cell_type": "markdown",
   "id": "792873fd",
   "metadata": {},
   "source": [
    "The model metrics I will likely report/am most intersted in for this model are the f1 score for the 'low' & 'high' category (0.71, 0.88 respectively)as well as the weighted f1 score, which is the average of the f1 scores of all 3 categories but with class weight factored in (0.80). Overall, the f1 scores are pretty good, suggesting the model can successfully predict the class of low and high drug ratings (which is what physicians & drug manufacturers may be most intersted in)."
   ]
  },
  {
   "cell_type": "code",
   "execution_count": 120,
   "id": "5883abb9",
   "metadata": {},
   "outputs": [],
   "source": [
    "cm2 = confusion_matrix(y_test, y_pred2)"
   ]
  },
  {
   "cell_type": "code",
   "execution_count": 127,
   "id": "993ba9f0",
   "metadata": {},
   "outputs": [
    {
     "data": {
      "text/plain": [
       "<AxesSubplot:>"
      ]
     },
     "execution_count": 127,
     "metadata": {},
     "output_type": "execute_result"
    },
    {
     "data": {
      "image/png": "[encoded data removed]",
      "text/plain": [
       "<Figure size 720x504 with 2 Axes>"
      ]
     },
     "metadata": {
      "needs_background": "light"
     },
     "output_type": "display_data"
    }
   ],
   "source": [
    "plt.figure(figsize = (10,7))\n",
    "sns.heatmap(cm2, annot=True)"
   ]
  },
  {
   "cell_type": "markdown",
   "id": "9cbccea0",
   "metadata": {},
   "source": [
    "### Comparing Metrics to Baseline Model"
   ]
  },
  {
   "cell_type": "code",
   "execution_count": 129,
   "id": "49366de8",
   "metadata": {},
   "outputs": [
    {
     "data": {
      "text/plain": [
       "(7730,)"
      ]
     },
     "execution_count": 129,
     "metadata": {},
     "output_type": "execute_result"
    }
   ],
   "source": [
    "y_pred2.shape"
   ]
  },
  {
   "cell_type": "code",
   "execution_count": 130,
   "id": "50c7f3bb",
   "metadata": {},
   "outputs": [
    {
     "data": {
      "text/plain": [
       "dtype('int64')"
      ]
     },
     "execution_count": 130,
     "metadata": {},
     "output_type": "execute_result"
    }
   ],
   "source": [
    "y_pred2.dtype"
   ]
  },
  {
   "cell_type": "code",
   "execution_count": 131,
   "id": "26701777",
   "metadata": {},
   "outputs": [
    {
     "name": "stdout",
     "output_type": "stream",
     "text": [
      "[3 3 3 ... 3 3 3]\n"
     ]
    }
   ],
   "source": [
    "baseline = np.full([7730], 3, dtype = int)\n",
    "print(baseline)"
   ]
  },
  {
   "cell_type": "code",
   "execution_count": 132,
   "id": "211fdf7b",
   "metadata": {},
   "outputs": [
    {
     "data": {
      "text/plain": [
       "0.6527813712807244"
      ]
     },
     "execution_count": 132,
     "metadata": {},
     "output_type": "execute_result"
    }
   ],
   "source": [
    "accuracy_score(y_test, baseline)"
   ]
  },
  {
   "cell_type": "code",
   "execution_count": 137,
   "id": "d01ceee2",
   "metadata": {},
   "outputs": [
    {
     "data": {
      "text/plain": [
       "array([0.       , 0.       , 0.7899186])"
      ]
     },
     "execution_count": 137,
     "metadata": {},
     "output_type": "execute_result"
    }
   ],
   "source": [
    "f1_score(y_test, baseline, average = None)"
   ]
  },
  {
   "cell_type": "code",
   "execution_count": 135,
   "id": "c69fe6b8",
   "metadata": {},
   "outputs": [
    {
     "data": {
      "text/plain": [
       "0.2633061991233563"
      ]
     },
     "execution_count": 135,
     "metadata": {},
     "output_type": "execute_result"
    }
   ],
   "source": [
    "f1_score(y_test, baseline, average = 'macro')"
   ]
  },
  {
   "cell_type": "code",
   "execution_count": 136,
   "id": "b5c3cba5",
   "metadata": {},
   "outputs": [
    {
     "data": {
      "text/plain": [
       "0.51564414519138"
      ]
     },
     "execution_count": 136,
     "metadata": {},
     "output_type": "execute_result"
    }
   ],
   "source": [
    "f1_score(y_test, baseline, average = 'weighted')"
   ]
  },
  {
   "cell_type": "markdown",
   "id": "1a862a36",
   "metadata": {},
   "source": [
    "The baseline metrics in comparison to my model metrics (weighted f1 score 0.52 for baseline compared to 0.80 for my final model) suggest that my model is performing well in comparison to the baseline model and that it can accurately predict drug rating from the given predictors."
   ]
  },
  {
   "cell_type": "markdown",
   "id": "464b92e8",
   "metadata": {},
   "source": [
    "### Conclusion"
   ]
  },
  {
   "cell_type": "markdown",
   "id": "649f75be",
   "metadata": {},
   "source": [
    "My final model will be the Random Forest Classifier predicting 3 classes of Ratings (low, medium, & high). The final model is restated in a mardown cell below:"
   ]
  },
  {
   "cell_type": "markdown",
   "id": "1baaaf81",
   "metadata": {},
   "source": [
    "rfc = RandomForestClassifier(n_estimators = 1000, max_depth = 24, max_features = 9, class_weight = 'balanced_subsample',\n",
    "oob_score = True, criterion = 'entropy')"
   ]
  },
  {
   "cell_type": "markdown",
   "id": "ba904d5e",
   "metadata": {},
   "source": [
    "Overall, this model is pretty good but still a bit overfit. I can continue improving this model by working on the feature selection and feature engineering more, and perhaps tuning the hyperparameters differently."
   ]
  }
 ],
 "metadata": {
  "kernelspec": {
   "display_name": "Python 3 (ipykernel)",
   "language": "python",
   "name": "python3"
  },
  "language_info": {
   "codemirror_mode": {
    "name": "ipython",
    "version": 3
   },
   "file_extension": ".py",
   "mimetype": "text/x-python",
   "name": "python",
   "nbconvert_exporter": "python",
   "pygments_lexer": "ipython3",
   "version": "3.9.7"
  }
 },
 "nbformat": 4,
 "nbformat_minor": 5
}
