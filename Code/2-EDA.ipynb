{
 "cells": [
  {
   "cell_type": "code",
   "execution_count": 1,
   "id": "d244792a",
   "metadata": {},
   "outputs": [],
   "source": [
    "import pandas as pd\n",
    "import numpy as np"
   ]
  },
  {
   "cell_type": "markdown",
   "id": "5335ac5b",
   "metadata": {},
   "source": [
    "### Import Data"
   ]
  },
  {
   "cell_type": "code",
   "execution_count": 6,
   "id": "77eda75c",
   "metadata": {},
   "outputs": [],
   "source": [
    "psych = pd.read_csv('../Data/Processed_Data/cleaned.csv')"
   ]
  },
  {
   "cell_type": "code",
   "execution_count": 3,
   "id": "29acf010",
   "metadata": {
    "scrolled": true
   },
   "outputs": [
    {
     "data": {
      "text/html": [
       "<div>\n",
       "<style scoped>\n",
       "    .dataframe tbody tr th:only-of-type {\n",
       "        vertical-align: middle;\n",
       "    }\n",
       "\n",
       "    .dataframe tbody tr th {\n",
       "        vertical-align: top;\n",
       "    }\n",
       "\n",
       "    .dataframe thead th {\n",
       "        text-align: right;\n",
       "    }\n",
       "</style>\n",
       "<table border=\"1\" class=\"dataframe\">\n",
       "  <thead>\n",
       "    <tr style=\"text-align: right;\">\n",
       "      <th></th>\n",
       "      <th>Unnamed: 0</th>\n",
       "      <th>Drug_Name</th>\n",
       "      <th>Condition</th>\n",
       "      <th>Rating</th>\n",
       "      <th>usefulCount</th>\n",
       "      <th>Drug_Class</th>\n",
       "      <th>Reviews</th>\n",
       "    </tr>\n",
       "  </thead>\n",
       "  <tbody>\n",
       "    <tr>\n",
       "      <th>0</th>\n",
       "      <td>0</td>\n",
       "      <td>Guanfacine</td>\n",
       "      <td>ADHD</td>\n",
       "      <td>8.0</td>\n",
       "      <td>192</td>\n",
       "      <td>alpha agonists</td>\n",
       "      <td>my son is halfway through his fourth week of i...</td>\n",
       "    </tr>\n",
       "    <tr>\n",
       "      <th>1</th>\n",
       "      <td>1</td>\n",
       "      <td>Aripiprazole</td>\n",
       "      <td>Bipolar Disorde</td>\n",
       "      <td>10.0</td>\n",
       "      <td>32</td>\n",
       "      <td>atypical antipsychotics</td>\n",
       "      <td>abilify changed my life there is hope i was on...</td>\n",
       "    </tr>\n",
       "    <tr>\n",
       "      <th>2</th>\n",
       "      <td>2</td>\n",
       "      <td>L-methylfolate</td>\n",
       "      <td>Depression</td>\n",
       "      <td>10.0</td>\n",
       "      <td>54</td>\n",
       "      <td>B vitamin</td>\n",
       "      <td>i have taken antidepressants for years with so...</td>\n",
       "    </tr>\n",
       "    <tr>\n",
       "      <th>3</th>\n",
       "      <td>3</td>\n",
       "      <td>Lamotrigine</td>\n",
       "      <td>Bipolar Disorde</td>\n",
       "      <td>10.0</td>\n",
       "      <td>18</td>\n",
       "      <td>anticonvulsants</td>\n",
       "      <td>ive been on every medicine under the sun it se...</td>\n",
       "    </tr>\n",
       "    <tr>\n",
       "      <th>4</th>\n",
       "      <td>4</td>\n",
       "      <td>Daytrana</td>\n",
       "      <td>ADHD</td>\n",
       "      <td>10.0</td>\n",
       "      <td>11</td>\n",
       "      <td>central nervous system stimulants</td>\n",
       "      <td>hi all my son who is  was diagnosed when he wa...</td>\n",
       "    </tr>\n",
       "  </tbody>\n",
       "</table>\n",
       "</div>"
      ],
      "text/plain": [
       "   Unnamed: 0       Drug_Name        Condition  Rating  usefulCount  \\\n",
       "0           0      Guanfacine             ADHD     8.0          192   \n",
       "1           1    Aripiprazole  Bipolar Disorde    10.0           32   \n",
       "2           2  L-methylfolate       Depression    10.0           54   \n",
       "3           3     Lamotrigine  Bipolar Disorde    10.0           18   \n",
       "4           4        Daytrana             ADHD    10.0           11   \n",
       "\n",
       "                          Drug_Class  \\\n",
       "0                     alpha agonists   \n",
       "1            atypical antipsychotics   \n",
       "2                          B vitamin   \n",
       "3                    anticonvulsants   \n",
       "4  central nervous system stimulants   \n",
       "\n",
       "                                             Reviews  \n",
       "0  my son is halfway through his fourth week of i...  \n",
       "1  abilify changed my life there is hope i was on...  \n",
       "2  i have taken antidepressants for years with so...  \n",
       "3  ive been on every medicine under the sun it se...  \n",
       "4  hi all my son who is  was diagnosed when he wa...  "
      ]
     },
     "execution_count": 3,
     "metadata": {},
     "output_type": "execute_result"
    }
   ],
   "source": [
    "psych.head()"
   ]
  },
  {
   "cell_type": "code",
   "execution_count": 4,
   "id": "db0e91ce",
   "metadata": {},
   "outputs": [
    {
     "data": {
      "text/plain": [
       "(30968, 7)"
      ]
     },
     "execution_count": 4,
     "metadata": {},
     "output_type": "execute_result"
    }
   ],
   "source": [
    "psych.shape"
   ]
  },
  {
   "cell_type": "markdown",
   "id": "b3c1c60a",
   "metadata": {},
   "source": [
    "### Reclassifying Conditions to Classes of Mental Health Disorders"
   ]
  },
  {
   "cell_type": "code",
   "execution_count": 5,
   "id": "70ec0552",
   "metadata": {},
   "outputs": [
    {
     "data": {
      "text/plain": [
       "Depression                          8866\n",
       "Anxiety                             5836\n",
       "Bipolar Disorde                     4175\n",
       "ADHD                                3351\n",
       "Anxiety and Stress                  1662\n",
       "Major Depressive Disorde            1595\n",
       "Panic Disorde                       1457\n",
       "Generalized Anxiety Disorde         1164\n",
       "Schizophrenia                        594\n",
       "Obsessive Compulsive Disorde         574\n",
       "Schizoaffective Disorde              395\n",
       "Social Anxiety Disorde               389\n",
       "Post Traumatic Stress Disorde        309\n",
       "mance Anxiety                        187\n",
       "Borderline Personality Disorde       151\n",
       "Postpartum Depression                 84\n",
       "Psychosis                             73\n",
       "Sexual Dysfunction, SSRI Induced      50\n",
       "Paranoid Disorde                      38\n",
       "Nightmares                            18\n",
       "Name: Condition, dtype: int64"
      ]
     },
     "execution_count": 5,
     "metadata": {},
     "output_type": "execute_result"
    }
   ],
   "source": [
    "psych['Condition'].value_counts()"
   ]
  },
  {
   "cell_type": "markdown",
   "id": "1a4e721e",
   "metadata": {},
   "source": [
    "**8 Classes of Mental Disorders:**"
   ]
  },
  {
   "cell_type": "markdown",
   "id": "e86c145e",
   "metadata": {},
   "source": [
    "**Depressive Disorders**: Depression, Major Depressive Disorde, Postpartum Depression<br>\n",
    "**Anxiety Disodrders**: Anxiety, Anxiety and Stress, Panic Disorde, Generalized Anxiety Disorder, Social Anxiety Disorde, mance Anxiety<br>\n",
    "**Neurodevelopmental Disorders**: ADHD<br>\n",
    "**Psychotic Disorders**: Schizophrenia, Psychosis, Schizoaffective Disorde<br>\n",
    "**Obsessive-Compulsive Disorders**: Obssessive Compulsive Disorde<br>\n",
    "**Trauma-related Disorders**: Post Traumatic Stress Disorde, Nightmares<br>\n",
    "**Bipolar Disorders**: Bipolar Disorde<br>\n",
    "**Personality Disorders**: Borderline Personality Disorde, Paranoid Disorde<br>\n",
    "**Sexual Dysfunctions**: Sexual Dysfunction, SSRI Induced<br>\n",
    "<br>Source: https://www.mayoclinic.org/diseases-conditions/mental-illness/diagnosis-treatment/drc-20374974"
   ]
  },
  {
   "cell_type": "code",
   "execution_count": 6,
   "id": "edd58c32",
   "metadata": {},
   "outputs": [],
   "source": [
    "replace_values = {'Depression': 'Depressive Disorders', 'Major Depressive Disorde': 'Depressive Disorders',\n",
    "                                 'Postpartum Depression': 'Depressive Disorders', 'Anxiety': 'Anxiety Disorders', 'Anxiety and Stress': 'Anxiety Disorders', \n",
    "                                 'Panic Disorde': 'Anxiety Disorders', 'Generalized Anxiety Disorde': 'Anxiety Disorders', 'Social Anxiety Disorde': 'Anxiety Disorders',\n",
    "                                 'mance Anxiety': 'Anxiety Disorders', 'ADHD': 'Neurodevelopmental Disorders', 'Schizophrenia': 'Psychotic Disorders',\n",
    "                                 'Psychosis': 'Psychotic Disorders', 'Schizoaffective Disorde': 'Psychotic Disorders',\n",
    "                                 'Obsessive Compulsive Disorde': 'Obsessive-Compulsive Disorders', 'Post Traumatic Stress Disorde':'Trauma-related Disorders', 'Nightmares':'Trauma-related Disorders',\n",
    "                                 'Bipolar Disorde': 'Bipolar Disorders', 'Borderline Personality Disorde': 'Personality Disorders', 'Paranoid Disorde': 'Personality Disorders',\n",
    "                                 'Sexual Dysfunction, SSRI Induced': 'Sexual Dysfunctions'}"
   ]
  },
  {
   "cell_type": "code",
   "execution_count": 7,
   "id": "3edc3eb2",
   "metadata": {},
   "outputs": [],
   "source": [
    "psych = psych.replace({'Condition': replace_values})"
   ]
  },
  {
   "cell_type": "code",
   "execution_count": 8,
   "id": "97c02b59",
   "metadata": {},
   "outputs": [
    {
     "data": {
      "text/plain": [
       "Anxiety Disorders                 10695\n",
       "Depressive Disorders              10545\n",
       "Bipolar Disorders                  4175\n",
       "Neurodevelopmental Disorders       3351\n",
       "Psychotic Disorders                1062\n",
       "Obsessive-Compulsive Disorders      574\n",
       "Trauma-related Disorders            327\n",
       "Personality Disorders               189\n",
       "Sexual Dysfunctions                  50\n",
       "Name: Condition, dtype: int64"
      ]
     },
     "execution_count": 8,
     "metadata": {},
     "output_type": "execute_result"
    }
   ],
   "source": [
    "psych['Condition'].value_counts()"
   ]
  },
  {
   "cell_type": "markdown",
   "id": "a4268772",
   "metadata": {},
   "source": [
    "Deciding to drop conditions <100 values (even though I will still have to work with imbalanced classes ~ this would mitigate the issue a bit)"
   ]
  },
  {
   "cell_type": "code",
   "execution_count": 9,
   "id": "dd317a5a",
   "metadata": {},
   "outputs": [],
   "source": [
    "psych = psych[psych.Condition != 'Sexual Dysfunctions']    "
   ]
  },
  {
   "cell_type": "code",
   "execution_count": 11,
   "id": "d81c1c68",
   "metadata": {},
   "outputs": [],
   "source": [
    "psych = psych.drop(columns = 'Unnamed: 0', axis = 1)"
   ]
  },
  {
   "cell_type": "code",
   "execution_count": 12,
   "id": "8fd67cbe",
   "metadata": {},
   "outputs": [],
   "source": [
    "groups = pd.DataFrame(psych.groupby(by = ['Condition', 'Drug_Class']).count())"
   ]
  },
  {
   "cell_type": "code",
   "execution_count": 13,
   "id": "a0a0caff",
   "metadata": {},
   "outputs": [
    {
     "data": {
      "text/html": [
       "<div>\n",
       "<style scoped>\n",
       "    .dataframe tbody tr th:only-of-type {\n",
       "        vertical-align: middle;\n",
       "    }\n",
       "\n",
       "    .dataframe tbody tr th {\n",
       "        vertical-align: top;\n",
       "    }\n",
       "\n",
       "    .dataframe thead th {\n",
       "        text-align: right;\n",
       "    }\n",
       "</style>\n",
       "<table border=\"1\" class=\"dataframe\">\n",
       "  <thead>\n",
       "    <tr style=\"text-align: right;\">\n",
       "      <th></th>\n",
       "      <th></th>\n",
       "      <th>Drug_Name</th>\n",
       "      <th>Rating</th>\n",
       "      <th>usefulCount</th>\n",
       "      <th>Reviews</th>\n",
       "    </tr>\n",
       "    <tr>\n",
       "      <th>Condition</th>\n",
       "      <th>Drug_Class</th>\n",
       "      <th></th>\n",
       "      <th></th>\n",
       "      <th></th>\n",
       "      <th></th>\n",
       "    </tr>\n",
       "  </thead>\n",
       "  <tbody>\n",
       "    <tr>\n",
       "      <th rowspan=\"5\" valign=\"top\">Anxiety Disorders</th>\n",
       "      <th>Anxiolytics</th>\n",
       "      <td>258</td>\n",
       "      <td>258</td>\n",
       "      <td>258</td>\n",
       "      <td>258</td>\n",
       "    </tr>\n",
       "    <tr>\n",
       "      <th>conventional antipsychotics</th>\n",
       "      <td>14</td>\n",
       "      <td>14</td>\n",
       "      <td>14</td>\n",
       "      <td>14</td>\n",
       "    </tr>\n",
       "    <tr>\n",
       "      <th>central nervous system stimulants</th>\n",
       "      <td>20</td>\n",
       "      <td>20</td>\n",
       "      <td>20</td>\n",
       "      <td>20</td>\n",
       "    </tr>\n",
       "    <tr>\n",
       "      <th>beta blockers</th>\n",
       "      <td>321</td>\n",
       "      <td>321</td>\n",
       "      <td>321</td>\n",
       "      <td>321</td>\n",
       "    </tr>\n",
       "    <tr>\n",
       "      <th>benzodiazepines</th>\n",
       "      <td>2505</td>\n",
       "      <td>2505</td>\n",
       "      <td>2505</td>\n",
       "      <td>2505</td>\n",
       "    </tr>\n",
       "    <tr>\n",
       "      <th>...</th>\n",
       "      <th>...</th>\n",
       "      <td>...</td>\n",
       "      <td>...</td>\n",
       "      <td>...</td>\n",
       "      <td>...</td>\n",
       "    </tr>\n",
       "    <tr>\n",
       "      <th rowspan=\"5\" valign=\"top\">Trauma-related Disorders</th>\n",
       "      <th>SSRI</th>\n",
       "      <td>127</td>\n",
       "      <td>127</td>\n",
       "      <td>127</td>\n",
       "      <td>127</td>\n",
       "    </tr>\n",
       "    <tr>\n",
       "      <th>TeCA</th>\n",
       "      <td>16</td>\n",
       "      <td>16</td>\n",
       "      <td>16</td>\n",
       "      <td>16</td>\n",
       "    </tr>\n",
       "    <tr>\n",
       "      <th>anticonvulsants</th>\n",
       "      <td>11</td>\n",
       "      <td>11</td>\n",
       "      <td>11</td>\n",
       "      <td>11</td>\n",
       "    </tr>\n",
       "    <tr>\n",
       "      <th>antihypertensives</th>\n",
       "      <td>57</td>\n",
       "      <td>57</td>\n",
       "      <td>57</td>\n",
       "      <td>57</td>\n",
       "    </tr>\n",
       "    <tr>\n",
       "      <th>tricyclic antidepressants</th>\n",
       "      <td>8</td>\n",
       "      <td>8</td>\n",
       "      <td>8</td>\n",
       "      <td>8</td>\n",
       "    </tr>\n",
       "  </tbody>\n",
       "</table>\n",
       "<p>73 rows × 4 columns</p>\n",
       "</div>"
      ],
      "text/plain": [
       "                                                            Drug_Name  Rating  \\\n",
       "Condition                Drug_Class                                             \n",
       "Anxiety Disorders        Anxiolytics                              258     258   \n",
       "                         conventional antipsychotics               14      14   \n",
       "                         central nervous system stimulants         20      20   \n",
       "                         beta blockers                            321     321   \n",
       "                         benzodiazepines                         2505    2505   \n",
       "...                                                               ...     ...   \n",
       "Trauma-related Disorders SSRI                                     127     127   \n",
       "                         TeCA                                      16      16   \n",
       "                         anticonvulsants                           11      11   \n",
       "                         antihypertensives                         57      57   \n",
       "                         tricyclic antidepressants                  8       8   \n",
       "\n",
       "                                                            usefulCount  \\\n",
       "Condition                Drug_Class                                       \n",
       "Anxiety Disorders        Anxiolytics                                258   \n",
       "                         conventional antipsychotics                 14   \n",
       "                         central nervous system stimulants           20   \n",
       "                         beta blockers                              321   \n",
       "                         benzodiazepines                           2505   \n",
       "...                                                                 ...   \n",
       "Trauma-related Disorders SSRI                                       127   \n",
       "                         TeCA                                        16   \n",
       "                         anticonvulsants                             11   \n",
       "                         antihypertensives                           57   \n",
       "                         tricyclic antidepressants                    8   \n",
       "\n",
       "                                                            Reviews  \n",
       "Condition                Drug_Class                                  \n",
       "Anxiety Disorders        Anxiolytics                            258  \n",
       "                         conventional antipsychotics             14  \n",
       "                         central nervous system stimulants       20  \n",
       "                         beta blockers                          321  \n",
       "                         benzodiazepines                       2505  \n",
       "...                                                             ...  \n",
       "Trauma-related Disorders SSRI                                   127  \n",
       "                         TeCA                                    16  \n",
       "                         anticonvulsants                         11  \n",
       "                         antihypertensives                       57  \n",
       "                         tricyclic antidepressants                8  \n",
       "\n",
       "[73 rows x 4 columns]"
      ]
     },
     "execution_count": 13,
     "metadata": {},
     "output_type": "execute_result"
    }
   ],
   "source": [
    "groups.sort_values('Condition', ascending = True)"
   ]
  },
  {
   "cell_type": "code",
   "execution_count": 14,
   "id": "edf61a1c",
   "metadata": {},
   "outputs": [],
   "source": [
    "groups_csv = groups.to_csv('../Data/Processed_Data/DrugsbyGroup.csv')"
   ]
  },
  {
   "cell_type": "markdown",
   "id": "1104fd15",
   "metadata": {},
   "source": [
    "## EDA on Reviews "
   ]
  },
  {
   "cell_type": "markdown",
   "id": "369aa833",
   "metadata": {},
   "source": [
    "### Count & TFIDF Vectorizer ~ Check for Common Words"
   ]
  },
  {
   "cell_type": "code",
   "execution_count": 2,
   "id": "e4aeec4c",
   "metadata": {},
   "outputs": [],
   "source": [
    "from sklearn.feature_extraction.text import CountVectorizer\n",
    "import matplotlib.pyplot as plt\n",
    "import seaborn as sns"
   ]
  },
  {
   "cell_type": "code",
   "execution_count": 16,
   "id": "78d0d150",
   "metadata": {},
   "outputs": [],
   "source": [
    "# Check for unigrams\n",
    "cvec = CountVectorizer(stop_words = 'english', ngram_range = (1,1))\n",
    "\n",
    "cvec1 = cvec.fit_transform(psych['Reviews'])\n",
    "\n",
    "cvec_df1 = pd.DataFrame(cvec1.todense(), columns = cvec.get_feature_names_out())"
   ]
  },
  {
   "cell_type": "code",
   "execution_count": 17,
   "id": "fc7c594a",
   "metadata": {},
   "outputs": [
    {
     "data": {
      "image/png": "[encoded data removed]",
      "text/plain": [
       "<Figure size 432x288 with 1 Axes>"
      ]
     },
     "metadata": {
      "needs_background": "light"
     },
     "output_type": "display_data"
    }
   ],
   "source": [
    "#Plot as bar graph\n",
    "\n",
    "cvec_df1.sum().sort_values(ascending = False).head(10).plot(kind = 'barh');"
   ]
  },
  {
   "cell_type": "code",
   "execution_count": 9,
   "id": "0aefac36",
   "metadata": {},
   "outputs": [],
   "source": [
    "#Check for bigrams\n",
    "cvec2 = CountVectorizer(stop_words = 'english', ngram_range = (2,2), max_features = 10)\n",
    "\n",
    "cvec_2 = cvec2.fit_transform(psych['Reviews'])\n",
    "\n",
    "cvec_df2 = pd.DataFrame(cvec_2.todense(), columns = cvec2.get_feature_names_out())"
   ]
  },
  {
   "cell_type": "code",
   "execution_count": 10,
   "id": "ec4b9abd",
   "metadata": {},
   "outputs": [
    {
     "data": {
      "image/png": "[encoded data removed]",
      "text/plain": [
       "<Figure size 432x288 with 1 Axes>"
      ]
     },
     "metadata": {
      "needs_background": "light"
     },
     "output_type": "display_data"
    }
   ],
   "source": [
    "cvec_df2.sum().sort_values(ascending = False).head(10).plot(kind = 'barh');"
   ]
  },
  {
   "cell_type": "code",
   "execution_count": 63,
   "id": "ddd50ca7",
   "metadata": {},
   "outputs": [],
   "source": [
    "from sklearn.feature_extraction.text import TfidfVectorizer"
   ]
  },
  {
   "cell_type": "code",
   "execution_count": 20,
   "id": "5250d3e5",
   "metadata": {},
   "outputs": [],
   "source": [
    "tvec = TfidfVectorizer(stop_words = 'english')"
   ]
  },
  {
   "cell_type": "code",
   "execution_count": 21,
   "id": "d4ccb67f",
   "metadata": {},
   "outputs": [
    {
     "data": {
      "image/png": "[encoded data removed]",
      "text/plain": [
       "<Figure size 432x288 with 1 Axes>"
      ]
     },
     "metadata": {
      "needs_background": "light"
     },
     "output_type": "display_data"
    }
   ],
   "source": [
    "tvec_df = pd.DataFrame(tvec.fit_transform(psych['Reviews']).todense(), \n",
    "                          columns=tvec.get_feature_names_out())\n",
    "\n",
    "# plot top occuring words\n",
    "tvec_df.sum().sort_values(ascending=False).head(10).plot(kind='barh');\n"
   ]
  },
  {
   "cell_type": "markdown",
   "id": "58990a9f",
   "metadata": {},
   "source": [
    "### VADER Sentiment Scores"
   ]
  },
  {
   "cell_type": "code",
   "execution_count": 22,
   "id": "e7c40bce",
   "metadata": {},
   "outputs": [],
   "source": [
    "from nltk.sentiment.vader import SentimentIntensityAnalyzer"
   ]
  },
  {
   "cell_type": "code",
   "execution_count": 23,
   "id": "0816b4a9",
   "metadata": {},
   "outputs": [],
   "source": [
    "sia = SentimentIntensityAnalyzer()"
   ]
  },
  {
   "cell_type": "code",
   "execution_count": 24,
   "id": "d3dac141",
   "metadata": {},
   "outputs": [],
   "source": [
    "corpus = list(psych['Reviews'])"
   ]
  },
  {
   "cell_type": "code",
   "execution_count": 25,
   "id": "1ea13579",
   "metadata": {},
   "outputs": [
    {
     "data": {
      "text/plain": [
       "{'neg': 0.018, 'neu': 0.87, 'pos': 0.112, 'compound': 0.9172}"
      ]
     },
     "execution_count": 25,
     "metadata": {},
     "output_type": "execute_result"
    }
   ],
   "source": [
    "sia.polarity_scores(corpus[0])"
   ]
  },
  {
   "cell_type": "code",
   "execution_count": 26,
   "id": "9f9195ee",
   "metadata": {},
   "outputs": [
    {
     "data": {
      "text/html": [
       "<div>\n",
       "<style scoped>\n",
       "    .dataframe tbody tr th:only-of-type {\n",
       "        vertical-align: middle;\n",
       "    }\n",
       "\n",
       "    .dataframe tbody tr th {\n",
       "        vertical-align: top;\n",
       "    }\n",
       "\n",
       "    .dataframe thead th {\n",
       "        text-align: right;\n",
       "    }\n",
       "</style>\n",
       "<table border=\"1\" class=\"dataframe\">\n",
       "  <thead>\n",
       "    <tr style=\"text-align: right;\">\n",
       "      <th></th>\n",
       "      <th>neg</th>\n",
       "      <th>neu</th>\n",
       "      <th>pos</th>\n",
       "      <th>compound</th>\n",
       "      <th>Reviews</th>\n",
       "    </tr>\n",
       "  </thead>\n",
       "  <tbody>\n",
       "    <tr>\n",
       "      <th>0</th>\n",
       "      <td>0.018</td>\n",
       "      <td>0.870</td>\n",
       "      <td>0.112</td>\n",
       "      <td>0.9172</td>\n",
       "      <td>my son is halfway through his fourth week of i...</td>\n",
       "    </tr>\n",
       "    <tr>\n",
       "      <th>1</th>\n",
       "      <td>0.163</td>\n",
       "      <td>0.751</td>\n",
       "      <td>0.087</td>\n",
       "      <td>-0.9089</td>\n",
       "      <td>abilify changed my life there is hope i was on...</td>\n",
       "    </tr>\n",
       "    <tr>\n",
       "      <th>2</th>\n",
       "      <td>0.223</td>\n",
       "      <td>0.563</td>\n",
       "      <td>0.214</td>\n",
       "      <td>0.0147</td>\n",
       "      <td>i have taken antidepressants for years with so...</td>\n",
       "    </tr>\n",
       "    <tr>\n",
       "      <th>3</th>\n",
       "      <td>0.120</td>\n",
       "      <td>0.824</td>\n",
       "      <td>0.056</td>\n",
       "      <td>-0.7852</td>\n",
       "      <td>ive been on every medicine under the sun it se...</td>\n",
       "    </tr>\n",
       "    <tr>\n",
       "      <th>4</th>\n",
       "      <td>0.100</td>\n",
       "      <td>0.817</td>\n",
       "      <td>0.083</td>\n",
       "      <td>-0.5673</td>\n",
       "      <td>hi all my son who is  was diagnosed when he wa...</td>\n",
       "    </tr>\n",
       "  </tbody>\n",
       "</table>\n",
       "</div>"
      ],
      "text/plain": [
       "     neg    neu    pos  compound  \\\n",
       "0  0.018  0.870  0.112    0.9172   \n",
       "1  0.163  0.751  0.087   -0.9089   \n",
       "2  0.223  0.563  0.214    0.0147   \n",
       "3  0.120  0.824  0.056   -0.7852   \n",
       "4  0.100  0.817  0.083   -0.5673   \n",
       "\n",
       "                                             Reviews  \n",
       "0  my son is halfway through his fourth week of i...  \n",
       "1  abilify changed my life there is hope i was on...  \n",
       "2  i have taken antidepressants for years with so...  \n",
       "3  ive been on every medicine under the sun it se...  \n",
       "4  hi all my son who is  was diagnosed when he wa...  "
      ]
     },
     "execution_count": 26,
     "metadata": {},
     "output_type": "execute_result"
    }
   ],
   "source": [
    "sentiment = []\n",
    "\n",
    "for reviews in corpus:\n",
    "    scores = sia.polarity_scores(reviews)\n",
    "    scores['Reviews'] = reviews\n",
    "    sentiment.append(scores)\n",
    "\n",
    "df1 = pd.DataFrame(sentiment)\n",
    "df1.head()"
   ]
  },
  {
   "cell_type": "code",
   "execution_count": 28,
   "id": "efea6378",
   "metadata": {},
   "outputs": [
    {
     "data": {
      "text/html": [
       "<div>\n",
       "<style scoped>\n",
       "    .dataframe tbody tr th:only-of-type {\n",
       "        vertical-align: middle;\n",
       "    }\n",
       "\n",
       "    .dataframe tbody tr th {\n",
       "        vertical-align: top;\n",
       "    }\n",
       "\n",
       "    .dataframe thead th {\n",
       "        text-align: right;\n",
       "    }\n",
       "</style>\n",
       "<table border=\"1\" class=\"dataframe\">\n",
       "  <thead>\n",
       "    <tr style=\"text-align: right;\">\n",
       "      <th></th>\n",
       "      <th>neg</th>\n",
       "      <th>neu</th>\n",
       "      <th>pos</th>\n",
       "      <th>compound</th>\n",
       "      <th>Reviews</th>\n",
       "    </tr>\n",
       "  </thead>\n",
       "  <tbody>\n",
       "    <tr>\n",
       "      <th>30913</th>\n",
       "      <td>0.096</td>\n",
       "      <td>0.789</td>\n",
       "      <td>0.116</td>\n",
       "      <td>0.2291</td>\n",
       "      <td>i was in a very bad place at the time i starte...</td>\n",
       "    </tr>\n",
       "    <tr>\n",
       "      <th>30914</th>\n",
       "      <td>0.272</td>\n",
       "      <td>0.601</td>\n",
       "      <td>0.126</td>\n",
       "      <td>-0.9284</td>\n",
       "      <td>had panic attacks and social anxiety starting ...</td>\n",
       "    </tr>\n",
       "    <tr>\n",
       "      <th>30915</th>\n",
       "      <td>0.284</td>\n",
       "      <td>0.716</td>\n",
       "      <td>0.000</td>\n",
       "      <td>-0.9286</td>\n",
       "      <td>this is the third med ive tried for anxiety an...</td>\n",
       "    </tr>\n",
       "    <tr>\n",
       "      <th>30916</th>\n",
       "      <td>0.200</td>\n",
       "      <td>0.746</td>\n",
       "      <td>0.053</td>\n",
       "      <td>-0.9746</td>\n",
       "      <td>i was super against taking medication ive star...</td>\n",
       "    </tr>\n",
       "    <tr>\n",
       "      <th>30917</th>\n",
       "      <td>0.098</td>\n",
       "      <td>0.758</td>\n",
       "      <td>0.143</td>\n",
       "      <td>0.6724</td>\n",
       "      <td>i have been off prozac for about  weeks nowaft...</td>\n",
       "    </tr>\n",
       "  </tbody>\n",
       "</table>\n",
       "</div>"
      ],
      "text/plain": [
       "         neg    neu    pos  compound  \\\n",
       "30913  0.096  0.789  0.116    0.2291   \n",
       "30914  0.272  0.601  0.126   -0.9284   \n",
       "30915  0.284  0.716  0.000   -0.9286   \n",
       "30916  0.200  0.746  0.053   -0.9746   \n",
       "30917  0.098  0.758  0.143    0.6724   \n",
       "\n",
       "                                                 Reviews  \n",
       "30913  i was in a very bad place at the time i starte...  \n",
       "30914  had panic attacks and social anxiety starting ...  \n",
       "30915  this is the third med ive tried for anxiety an...  \n",
       "30916  i was super against taking medication ive star...  \n",
       "30917  i have been off prozac for about  weeks nowaft...  "
      ]
     },
     "execution_count": 28,
     "metadata": {},
     "output_type": "execute_result"
    }
   ],
   "source": [
    "df1.tail()"
   ]
  },
  {
   "cell_type": "code",
   "execution_count": 41,
   "id": "a668d636",
   "metadata": {},
   "outputs": [
    {
     "data": {
      "text/plain": [
       "(30918, 5)"
      ]
     },
     "execution_count": 41,
     "metadata": {},
     "output_type": "execute_result"
    }
   ],
   "source": [
    "df1.shape"
   ]
  },
  {
   "cell_type": "code",
   "execution_count": 29,
   "id": "fcb1d921",
   "metadata": {},
   "outputs": [],
   "source": [
    "from statistics import mean"
   ]
  },
  {
   "cell_type": "code",
   "execution_count": 30,
   "id": "f4ca16c5",
   "metadata": {},
   "outputs": [
    {
     "data": {
      "text/plain": [
       "-0.05050408823339155"
      ]
     },
     "execution_count": 30,
     "metadata": {},
     "output_type": "execute_result"
    }
   ],
   "source": [
    "mean(df1['compound'])"
   ]
  },
  {
   "cell_type": "code",
   "execution_count": 31,
   "id": "ad0749df",
   "metadata": {},
   "outputs": [
    {
     "data": {
      "text/plain": [
       "0.9955"
      ]
     },
     "execution_count": 31,
     "metadata": {},
     "output_type": "execute_result"
    }
   ],
   "source": [
    "max(df1['compound'])"
   ]
  },
  {
   "cell_type": "code",
   "execution_count": 32,
   "id": "7ba4a932",
   "metadata": {},
   "outputs": [
    {
     "data": {
      "text/plain": [
       "-0.9984"
      ]
     },
     "execution_count": 32,
     "metadata": {},
     "output_type": "execute_result"
    }
   ],
   "source": [
    "min(df1['compound'])"
   ]
  },
  {
   "cell_type": "code",
   "execution_count": 35,
   "id": "297c50f0",
   "metadata": {},
   "outputs": [
    {
     "data": {
      "text/plain": [
       "(-1.001, -0.799]      7326\n",
       "(0.796, 0.996]        5551\n",
       "(0.597, 0.796]        3379\n",
       "(-0.799, -0.6]        3178\n",
       "(0.397, 0.597]        2338\n",
       "(-0.6, -0.4]          2333\n",
       "(-0.00145, 0.198]     1953\n",
       "(0.198, 0.397]        1781\n",
       "(-0.4, -0.201]        1667\n",
       "(-0.201, -0.00145]    1412\n",
       "Name: compound, dtype: int64"
      ]
     },
     "execution_count": 35,
     "metadata": {},
     "output_type": "execute_result"
    }
   ],
   "source": [
    "df1['compound'].value_counts(bins = 10, ascending = False)"
   ]
  },
  {
   "cell_type": "code",
   "execution_count": 65,
   "id": "6ffd71ae",
   "metadata": {},
   "outputs": [],
   "source": [
    "df1_csv = df1.to_csv('../Data/Processed_Data/SentiScores.csv', index = False)"
   ]
  },
  {
   "cell_type": "markdown",
   "id": "bae43caf",
   "metadata": {},
   "source": [
    "**Note:** Decided to export as CSV and re-import prior to merging with main dataset because merge wasn't initally working"
   ]
  },
  {
   "cell_type": "code",
   "execution_count": 66,
   "id": "ebe4432c",
   "metadata": {},
   "outputs": [],
   "source": [
    "senti = pd.read_csv('../Data/Processed_Data/SentiScores.csv')"
   ]
  },
  {
   "cell_type": "markdown",
   "id": "5e15ba60",
   "metadata": {},
   "source": [
    "Decided to only use compound score for analysis, since the compound score reflects the positive, negative and neutral combined; plus I will be using other text review data so want to limit my features to some extent."
   ]
  },
  {
   "cell_type": "code",
   "execution_count": 157,
   "id": "1fbd45ac",
   "metadata": {},
   "outputs": [],
   "source": [
    "senti = senti.drop(columns = ['neg', 'neu', 'pos', 'Merge'], axis = 1)"
   ]
  },
  {
   "cell_type": "code",
   "execution_count": 158,
   "id": "6e8524c1",
   "metadata": {},
   "outputs": [
    {
     "data": {
      "text/plain": [
       "compound    float64\n",
       "Reviews      object\n",
       "dtype: object"
      ]
     },
     "execution_count": 158,
     "metadata": {},
     "output_type": "execute_result"
    }
   ],
   "source": [
    "senti.dtypes"
   ]
  },
  {
   "cell_type": "code",
   "execution_count": 191,
   "id": "749702ef",
   "metadata": {},
   "outputs": [
    {
     "data": {
      "text/plain": [
       "(30918, 2)"
      ]
     },
     "execution_count": 191,
     "metadata": {},
     "output_type": "execute_result"
    }
   ],
   "source": [
    "senti.shape"
   ]
  },
  {
   "cell_type": "code",
   "execution_count": 163,
   "id": "56ecfd74",
   "metadata": {},
   "outputs": [
    {
     "data": {
      "text/plain": [
       "Drug_Name       object\n",
       "Condition       object\n",
       "Rating         float64\n",
       "usefulCount      int64\n",
       "Drug_Class      object\n",
       "Reviews         object\n",
       "dtype: object"
      ]
     },
     "execution_count": 163,
     "metadata": {},
     "output_type": "execute_result"
    }
   ],
   "source": [
    "psych.dtypes"
   ]
  },
  {
   "cell_type": "code",
   "execution_count": 199,
   "id": "f999d269",
   "metadata": {},
   "outputs": [
    {
     "data": {
      "text/plain": [
       "(30918, 6)"
      ]
     },
     "execution_count": 199,
     "metadata": {},
     "output_type": "execute_result"
    }
   ],
   "source": [
    "psych.shape"
   ]
  },
  {
   "cell_type": "code",
   "execution_count": 179,
   "id": "9063d599",
   "metadata": {},
   "outputs": [
    {
     "data": {
      "text/html": [
       "<div>\n",
       "<style scoped>\n",
       "    .dataframe tbody tr th:only-of-type {\n",
       "        vertical-align: middle;\n",
       "    }\n",
       "\n",
       "    .dataframe tbody tr th {\n",
       "        vertical-align: top;\n",
       "    }\n",
       "\n",
       "    .dataframe thead th {\n",
       "        text-align: right;\n",
       "    }\n",
       "</style>\n",
       "<table border=\"1\" class=\"dataframe\">\n",
       "  <thead>\n",
       "    <tr style=\"text-align: right;\">\n",
       "      <th></th>\n",
       "      <th>compound</th>\n",
       "      <th>Reviews</th>\n",
       "    </tr>\n",
       "  </thead>\n",
       "  <tbody>\n",
       "    <tr>\n",
       "      <th>0</th>\n",
       "      <td>0.9172</td>\n",
       "      <td>my son is halfway through his fourth week of i...</td>\n",
       "    </tr>\n",
       "    <tr>\n",
       "      <th>1</th>\n",
       "      <td>-0.9089</td>\n",
       "      <td>abilify changed my life there is hope i was on...</td>\n",
       "    </tr>\n",
       "    <tr>\n",
       "      <th>2</th>\n",
       "      <td>0.0147</td>\n",
       "      <td>i have taken antidepressants for years with so...</td>\n",
       "    </tr>\n",
       "    <tr>\n",
       "      <th>3</th>\n",
       "      <td>-0.7852</td>\n",
       "      <td>ive been on every medicine under the sun it se...</td>\n",
       "    </tr>\n",
       "    <tr>\n",
       "      <th>4</th>\n",
       "      <td>-0.5673</td>\n",
       "      <td>hi all my son who is  was diagnosed when he wa...</td>\n",
       "    </tr>\n",
       "  </tbody>\n",
       "</table>\n",
       "</div>"
      ],
      "text/plain": [
       "   compound                                            Reviews\n",
       "0    0.9172  my son is halfway through his fourth week of i...\n",
       "1   -0.9089  abilify changed my life there is hope i was on...\n",
       "2    0.0147  i have taken antidepressants for years with so...\n",
       "3   -0.7852  ive been on every medicine under the sun it se...\n",
       "4   -0.5673  hi all my son who is  was diagnosed when he wa..."
      ]
     },
     "execution_count": 179,
     "metadata": {},
     "output_type": "execute_result"
    }
   ],
   "source": [
    "senti.head()"
   ]
  },
  {
   "cell_type": "markdown",
   "id": "8e8f427a",
   "metadata": {},
   "source": [
    "**Note**: Had to reset index prior to merging as the index was off and the rows from the sentiment scores df were not matching with original df"
   ]
  },
  {
   "cell_type": "code",
   "execution_count": 203,
   "id": "5fc5cdb4",
   "metadata": {},
   "outputs": [],
   "source": [
    "psych.reset_index(inplace = True)"
   ]
  },
  {
   "cell_type": "code",
   "execution_count": 205,
   "id": "dac518bf",
   "metadata": {},
   "outputs": [],
   "source": [
    "senti_df = pd.merge(psych, senti, left_index = True, right_index = True)"
   ]
  },
  {
   "cell_type": "code",
   "execution_count": 206,
   "id": "851ae45a",
   "metadata": {},
   "outputs": [
    {
     "data": {
      "text/plain": [
       "(30918, 9)"
      ]
     },
     "execution_count": 206,
     "metadata": {},
     "output_type": "execute_result"
    }
   ],
   "source": [
    "senti_df.shape"
   ]
  },
  {
   "cell_type": "code",
   "execution_count": 211,
   "id": "b83d7b95",
   "metadata": {},
   "outputs": [],
   "source": [
    "senti_df = senti_df.drop(columns = 'Reviews_y', axis = 1)"
   ]
  },
  {
   "cell_type": "code",
   "execution_count": 213,
   "id": "d129b3b9",
   "metadata": {},
   "outputs": [],
   "source": [
    "senti_df = senti_df.drop(columns = 'index', axis = 1)"
   ]
  },
  {
   "cell_type": "code",
   "execution_count": 215,
   "id": "cd9d6aad",
   "metadata": {},
   "outputs": [],
   "source": [
    "senti_df = senti_df.rename(columns = {'Reviews_x': 'Reviews'})"
   ]
  },
  {
   "cell_type": "code",
   "execution_count": 216,
   "id": "071214ce",
   "metadata": {},
   "outputs": [
    {
     "data": {
      "text/html": [
       "<div>\n",
       "<style scoped>\n",
       "    .dataframe tbody tr th:only-of-type {\n",
       "        vertical-align: middle;\n",
       "    }\n",
       "\n",
       "    .dataframe tbody tr th {\n",
       "        vertical-align: top;\n",
       "    }\n",
       "\n",
       "    .dataframe thead th {\n",
       "        text-align: right;\n",
       "    }\n",
       "</style>\n",
       "<table border=\"1\" class=\"dataframe\">\n",
       "  <thead>\n",
       "    <tr style=\"text-align: right;\">\n",
       "      <th></th>\n",
       "      <th>Drug_Name</th>\n",
       "      <th>Condition</th>\n",
       "      <th>Rating</th>\n",
       "      <th>usefulCount</th>\n",
       "      <th>Drug_Class</th>\n",
       "      <th>Reviews</th>\n",
       "      <th>compound</th>\n",
       "    </tr>\n",
       "  </thead>\n",
       "  <tbody>\n",
       "    <tr>\n",
       "      <th>0</th>\n",
       "      <td>Guanfacine</td>\n",
       "      <td>Neurodevelopmental Disorders</td>\n",
       "      <td>8.0</td>\n",
       "      <td>192</td>\n",
       "      <td>alpha agonists</td>\n",
       "      <td>my son is halfway through his fourth week of i...</td>\n",
       "      <td>0.9172</td>\n",
       "    </tr>\n",
       "    <tr>\n",
       "      <th>1</th>\n",
       "      <td>Aripiprazole</td>\n",
       "      <td>Bipolar Disorders</td>\n",
       "      <td>10.0</td>\n",
       "      <td>32</td>\n",
       "      <td>atypical antipsychotics</td>\n",
       "      <td>abilify changed my life there is hope i was on...</td>\n",
       "      <td>-0.9089</td>\n",
       "    </tr>\n",
       "    <tr>\n",
       "      <th>2</th>\n",
       "      <td>L-methylfolate</td>\n",
       "      <td>Depressive Disorders</td>\n",
       "      <td>10.0</td>\n",
       "      <td>54</td>\n",
       "      <td>B vitamin</td>\n",
       "      <td>i have taken antidepressants for years with so...</td>\n",
       "      <td>0.0147</td>\n",
       "    </tr>\n",
       "    <tr>\n",
       "      <th>3</th>\n",
       "      <td>Lamotrigine</td>\n",
       "      <td>Bipolar Disorders</td>\n",
       "      <td>10.0</td>\n",
       "      <td>18</td>\n",
       "      <td>anticonvulsants</td>\n",
       "      <td>ive been on every medicine under the sun it se...</td>\n",
       "      <td>-0.7852</td>\n",
       "    </tr>\n",
       "    <tr>\n",
       "      <th>4</th>\n",
       "      <td>Daytrana</td>\n",
       "      <td>Neurodevelopmental Disorders</td>\n",
       "      <td>10.0</td>\n",
       "      <td>11</td>\n",
       "      <td>central nervous system stimulants</td>\n",
       "      <td>hi all my son who is  was diagnosed when he wa...</td>\n",
       "      <td>-0.5673</td>\n",
       "    </tr>\n",
       "  </tbody>\n",
       "</table>\n",
       "</div>"
      ],
      "text/plain": [
       "        Drug_Name                     Condition  Rating  usefulCount  \\\n",
       "0      Guanfacine  Neurodevelopmental Disorders     8.0          192   \n",
       "1    Aripiprazole             Bipolar Disorders    10.0           32   \n",
       "2  L-methylfolate          Depressive Disorders    10.0           54   \n",
       "3     Lamotrigine             Bipolar Disorders    10.0           18   \n",
       "4        Daytrana  Neurodevelopmental Disorders    10.0           11   \n",
       "\n",
       "                          Drug_Class  \\\n",
       "0                     alpha agonists   \n",
       "1            atypical antipsychotics   \n",
       "2                          B vitamin   \n",
       "3                    anticonvulsants   \n",
       "4  central nervous system stimulants   \n",
       "\n",
       "                                             Reviews  compound  \n",
       "0  my son is halfway through his fourth week of i...    0.9172  \n",
       "1  abilify changed my life there is hope i was on...   -0.9089  \n",
       "2  i have taken antidepressants for years with so...    0.0147  \n",
       "3  ive been on every medicine under the sun it se...   -0.7852  \n",
       "4  hi all my son who is  was diagnosed when he wa...   -0.5673  "
      ]
     },
     "execution_count": 216,
     "metadata": {},
     "output_type": "execute_result"
    }
   ],
   "source": [
    "senti_df.head()"
   ]
  },
  {
   "cell_type": "markdown",
   "id": "f90164eb",
   "metadata": {},
   "source": [
    "**Note**: Decided to export as csv & re-import so I can use for later modeling if needed"
   ]
  },
  {
   "cell_type": "code",
   "execution_count": 220,
   "id": "14e1fda7",
   "metadata": {},
   "outputs": [],
   "source": [
    "senti_csv = senti_df.to_csv('../Data/Processed_Data/SentiMerged.csv', index = False)"
   ]
  },
  {
   "cell_type": "markdown",
   "id": "5c10b129",
   "metadata": {},
   "source": [
    "### EDA for Condition, Drug Class, & Rating"
   ]
  },
  {
   "cell_type": "code",
   "execution_count": 13,
   "id": "75a3969c",
   "metadata": {},
   "outputs": [],
   "source": [
    "senti = pd.read_csv('../Data/Processed_Data/SentiMerged.csv')"
   ]
  },
  {
   "cell_type": "code",
   "execution_count": 222,
   "id": "2aad6eb4",
   "metadata": {},
   "outputs": [
    {
     "data": {
      "text/html": [
       "<div>\n",
       "<style scoped>\n",
       "    .dataframe tbody tr th:only-of-type {\n",
       "        vertical-align: middle;\n",
       "    }\n",
       "\n",
       "    .dataframe tbody tr th {\n",
       "        vertical-align: top;\n",
       "    }\n",
       "\n",
       "    .dataframe thead th {\n",
       "        text-align: right;\n",
       "    }\n",
       "</style>\n",
       "<table border=\"1\" class=\"dataframe\">\n",
       "  <thead>\n",
       "    <tr style=\"text-align: right;\">\n",
       "      <th></th>\n",
       "      <th>Drug_Name</th>\n",
       "      <th>Condition</th>\n",
       "      <th>Rating</th>\n",
       "      <th>usefulCount</th>\n",
       "      <th>Drug_Class</th>\n",
       "      <th>Reviews</th>\n",
       "      <th>compound</th>\n",
       "    </tr>\n",
       "  </thead>\n",
       "  <tbody>\n",
       "    <tr>\n",
       "      <th>0</th>\n",
       "      <td>Guanfacine</td>\n",
       "      <td>Neurodevelopmental Disorders</td>\n",
       "      <td>8.0</td>\n",
       "      <td>192</td>\n",
       "      <td>alpha agonists</td>\n",
       "      <td>my son is halfway through his fourth week of i...</td>\n",
       "      <td>0.9172</td>\n",
       "    </tr>\n",
       "    <tr>\n",
       "      <th>1</th>\n",
       "      <td>Aripiprazole</td>\n",
       "      <td>Bipolar Disorders</td>\n",
       "      <td>10.0</td>\n",
       "      <td>32</td>\n",
       "      <td>atypical antipsychotics</td>\n",
       "      <td>abilify changed my life there is hope i was on...</td>\n",
       "      <td>-0.9089</td>\n",
       "    </tr>\n",
       "    <tr>\n",
       "      <th>2</th>\n",
       "      <td>L-methylfolate</td>\n",
       "      <td>Depressive Disorders</td>\n",
       "      <td>10.0</td>\n",
       "      <td>54</td>\n",
       "      <td>B vitamin</td>\n",
       "      <td>i have taken antidepressants for years with so...</td>\n",
       "      <td>0.0147</td>\n",
       "    </tr>\n",
       "    <tr>\n",
       "      <th>3</th>\n",
       "      <td>Lamotrigine</td>\n",
       "      <td>Bipolar Disorders</td>\n",
       "      <td>10.0</td>\n",
       "      <td>18</td>\n",
       "      <td>anticonvulsants</td>\n",
       "      <td>ive been on every medicine under the sun it se...</td>\n",
       "      <td>-0.7852</td>\n",
       "    </tr>\n",
       "    <tr>\n",
       "      <th>4</th>\n",
       "      <td>Daytrana</td>\n",
       "      <td>Neurodevelopmental Disorders</td>\n",
       "      <td>10.0</td>\n",
       "      <td>11</td>\n",
       "      <td>central nervous system stimulants</td>\n",
       "      <td>hi all my son who is  was diagnosed when he wa...</td>\n",
       "      <td>-0.5673</td>\n",
       "    </tr>\n",
       "  </tbody>\n",
       "</table>\n",
       "</div>"
      ],
      "text/plain": [
       "        Drug_Name                     Condition  Rating  usefulCount  \\\n",
       "0      Guanfacine  Neurodevelopmental Disorders     8.0          192   \n",
       "1    Aripiprazole             Bipolar Disorders    10.0           32   \n",
       "2  L-methylfolate          Depressive Disorders    10.0           54   \n",
       "3     Lamotrigine             Bipolar Disorders    10.0           18   \n",
       "4        Daytrana  Neurodevelopmental Disorders    10.0           11   \n",
       "\n",
       "                          Drug_Class  \\\n",
       "0                     alpha agonists   \n",
       "1            atypical antipsychotics   \n",
       "2                          B vitamin   \n",
       "3                    anticonvulsants   \n",
       "4  central nervous system stimulants   \n",
       "\n",
       "                                             Reviews  compound  \n",
       "0  my son is halfway through his fourth week of i...    0.9172  \n",
       "1  abilify changed my life there is hope i was on...   -0.9089  \n",
       "2  i have taken antidepressants for years with so...    0.0147  \n",
       "3  ive been on every medicine under the sun it se...   -0.7852  \n",
       "4  hi all my son who is  was diagnosed when he wa...   -0.5673  "
      ]
     },
     "execution_count": 222,
     "metadata": {},
     "output_type": "execute_result"
    }
   ],
   "source": [
    "senti.head()"
   ]
  },
  {
   "cell_type": "markdown",
   "id": "47504c9d",
   "metadata": {},
   "source": [
    "Dropping 'usefulCount' since I won't be using in analysis"
   ]
  },
  {
   "cell_type": "code",
   "execution_count": 14,
   "id": "13a82851",
   "metadata": {},
   "outputs": [],
   "source": [
    "senti = senti.drop(columns = 'usefulCount', axis = 1)"
   ]
  },
  {
   "cell_type": "code",
   "execution_count": 225,
   "id": "65714954",
   "metadata": {},
   "outputs": [
    {
     "data": {
      "text/html": [
       "<div>\n",
       "<style scoped>\n",
       "    .dataframe tbody tr th:only-of-type {\n",
       "        vertical-align: middle;\n",
       "    }\n",
       "\n",
       "    .dataframe tbody tr th {\n",
       "        vertical-align: top;\n",
       "    }\n",
       "\n",
       "    .dataframe thead th {\n",
       "        text-align: right;\n",
       "    }\n",
       "</style>\n",
       "<table border=\"1\" class=\"dataframe\">\n",
       "  <thead>\n",
       "    <tr style=\"text-align: right;\">\n",
       "      <th></th>\n",
       "      <th>Drug_Name</th>\n",
       "      <th>Condition</th>\n",
       "      <th>Rating</th>\n",
       "      <th>Drug_Class</th>\n",
       "      <th>Reviews</th>\n",
       "      <th>compound</th>\n",
       "    </tr>\n",
       "  </thead>\n",
       "  <tbody>\n",
       "    <tr>\n",
       "      <th>0</th>\n",
       "      <td>Guanfacine</td>\n",
       "      <td>Neurodevelopmental Disorders</td>\n",
       "      <td>8.0</td>\n",
       "      <td>alpha agonists</td>\n",
       "      <td>my son is halfway through his fourth week of i...</td>\n",
       "      <td>0.9172</td>\n",
       "    </tr>\n",
       "    <tr>\n",
       "      <th>1</th>\n",
       "      <td>Aripiprazole</td>\n",
       "      <td>Bipolar Disorders</td>\n",
       "      <td>10.0</td>\n",
       "      <td>atypical antipsychotics</td>\n",
       "      <td>abilify changed my life there is hope i was on...</td>\n",
       "      <td>-0.9089</td>\n",
       "    </tr>\n",
       "    <tr>\n",
       "      <th>2</th>\n",
       "      <td>L-methylfolate</td>\n",
       "      <td>Depressive Disorders</td>\n",
       "      <td>10.0</td>\n",
       "      <td>B vitamin</td>\n",
       "      <td>i have taken antidepressants for years with so...</td>\n",
       "      <td>0.0147</td>\n",
       "    </tr>\n",
       "    <tr>\n",
       "      <th>3</th>\n",
       "      <td>Lamotrigine</td>\n",
       "      <td>Bipolar Disorders</td>\n",
       "      <td>10.0</td>\n",
       "      <td>anticonvulsants</td>\n",
       "      <td>ive been on every medicine under the sun it se...</td>\n",
       "      <td>-0.7852</td>\n",
       "    </tr>\n",
       "    <tr>\n",
       "      <th>4</th>\n",
       "      <td>Daytrana</td>\n",
       "      <td>Neurodevelopmental Disorders</td>\n",
       "      <td>10.0</td>\n",
       "      <td>central nervous system stimulants</td>\n",
       "      <td>hi all my son who is  was diagnosed when he wa...</td>\n",
       "      <td>-0.5673</td>\n",
       "    </tr>\n",
       "  </tbody>\n",
       "</table>\n",
       "</div>"
      ],
      "text/plain": [
       "        Drug_Name                     Condition  Rating  \\\n",
       "0      Guanfacine  Neurodevelopmental Disorders     8.0   \n",
       "1    Aripiprazole             Bipolar Disorders    10.0   \n",
       "2  L-methylfolate          Depressive Disorders    10.0   \n",
       "3     Lamotrigine             Bipolar Disorders    10.0   \n",
       "4        Daytrana  Neurodevelopmental Disorders    10.0   \n",
       "\n",
       "                          Drug_Class  \\\n",
       "0                     alpha agonists   \n",
       "1            atypical antipsychotics   \n",
       "2                          B vitamin   \n",
       "3                    anticonvulsants   \n",
       "4  central nervous system stimulants   \n",
       "\n",
       "                                             Reviews  compound  \n",
       "0  my son is halfway through his fourth week of i...    0.9172  \n",
       "1  abilify changed my life there is hope i was on...   -0.9089  \n",
       "2  i have taken antidepressants for years with so...    0.0147  \n",
       "3  ive been on every medicine under the sun it se...   -0.7852  \n",
       "4  hi all my son who is  was diagnosed when he wa...   -0.5673  "
      ]
     },
     "execution_count": 225,
     "metadata": {},
     "output_type": "execute_result"
    }
   ],
   "source": [
    "senti.head()"
   ]
  },
  {
   "cell_type": "code",
   "execution_count": 22,
   "id": "93542155",
   "metadata": {},
   "outputs": [
    {
     "data": {
      "text/plain": [
       "<seaborn.axisgrid.PairGrid at 0x7fb2a7d6ff70>"
      ]
     },
     "execution_count": 22,
     "metadata": {},
     "output_type": "execute_result"
    },
    {
     "data": {
      "image/png": "[encoded data removed]",
      "text/plain": [
       "<Figure size 360x360 with 6 Axes>"
      ]
     },
     "metadata": {
      "needs_background": "light"
     },
     "output_type": "display_data"
    }
   ],
   "source": [
    "sns.pairplot(senti, vars = ['compound', 'Rating'])"
   ]
  },
  {
   "cell_type": "code",
   "execution_count": 20,
   "id": "bd4128b9",
   "metadata": {},
   "outputs": [
    {
     "data": {
      "text/plain": [
       "0.3015565276097855"
      ]
     },
     "execution_count": 20,
     "metadata": {},
     "output_type": "execute_result"
    }
   ],
   "source": [
    "senti['compound'].corr(senti['Rating'])"
   ]
  },
  {
   "cell_type": "code",
   "execution_count": 38,
   "id": "df5e5cda",
   "metadata": {},
   "outputs": [],
   "source": [
    "replace2 = {'Anxiolytics: anxiolytics'}"
   ]
  },
  {
   "cell_type": "code",
   "execution_count": 39,
   "id": "4fdf9fdb",
   "metadata": {},
   "outputs": [],
   "source": [
    "senti = senti.replace({'Drug_Class': replace2})"
   ]
  },
  {
   "cell_type": "code",
   "execution_count": 40,
   "id": "8701407c",
   "metadata": {},
   "outputs": [
    {
     "data": {
      "text/plain": [
       "<AxesSubplot:>"
      ]
     },
     "execution_count": 40,
     "metadata": {},
     "output_type": "execute_result"
    },
    {
     "data": {
      "image/png": "[encoded data removed]",
      "text/plain": [
       "<Figure size 432x288 with 1 Axes>"
      ]
     },
     "metadata": {
      "needs_background": "light"
     },
     "output_type": "display_data"
    }
   ],
   "source": [
    "senti['Drug_Class'].value_counts().plot(kind = 'barh')"
   ]
  },
  {
   "cell_type": "code",
   "execution_count": 41,
   "id": "25a6e1e9",
   "metadata": {},
   "outputs": [
    {
     "data": {
      "text/plain": [
       "<AxesSubplot:>"
      ]
     },
     "execution_count": 41,
     "metadata": {},
     "output_type": "execute_result"
    },
    {
     "data": {
      "image/png": "[encoded data removed]",
      "text/plain": [
       "<Figure size 432x288 with 1 Axes>"
      ]
     },
     "metadata": {
      "needs_background": "light"
     },
     "output_type": "display_data"
    }
   ],
   "source": [
    "senti['Condition'].value_counts().plot(kind = 'barh')"
   ]
  },
  {
   "cell_type": "code",
   "execution_count": 241,
   "id": "95a27ba7",
   "metadata": {},
   "outputs": [
    {
     "data": {
      "text/plain": [
       "[Text(0, 0, 'alpha agonists'),\n",
       " Text(1, 0, 'atypical antipsychotics'),\n",
       " Text(2, 0, 'B vitamin'),\n",
       " Text(3, 0, 'anticonvulsants'),\n",
       " Text(4, 0, 'central nervous system stimulants'),\n",
       " Text(5, 0, 'benzodiazepines'),\n",
       " Text(6, 0, 'SSRI'),\n",
       " Text(7, 0, 'conventional antipsychotics'),\n",
       " Text(8, 0, 'SNRI'),\n",
       " Text(9, 0, 'NRDI'),\n",
       " Text(10, 0, 'antimanic agents'),\n",
       " Text(11, 0, 'TeCA'),\n",
       " Text(12, 0, 'anxiolytics'),\n",
       " Text(13, 0, 'beta blockers'),\n",
       " Text(14, 0, 'tricyclic antidepressants'),\n",
       " Text(15, 0, 'SSRI/5HT-1A Partial Agonist'),\n",
       " Text(16, 0, 'SARI'),\n",
       " Text(17, 0, 'Anxiolytics'),\n",
       " Text(18, 0, 'MAOI'),\n",
       " Text(19, 0, 'antihistamines'),\n",
       " Text(20, 0, 'antihypertensives')]"
      ]
     },
     "execution_count": 241,
     "metadata": {},
     "output_type": "execute_result"
    },
    {
     "data": {
      "image/png": "[encoded data removed]",
      "text/plain": [
       "<Figure size 1440x720 with 1 Axes>"
      ]
     },
     "metadata": {
      "needs_background": "light"
     },
     "output_type": "display_data"
    }
   ],
   "source": [
    "plt.figure(figsize = (20,10))\n",
    "plot = sns.barplot(x = senti['Drug_Class'], y = senti['Rating'], data = senti)\n",
    "plot.set_xticklabels(plot.get_xticklabels(), rotation = 45)"
   ]
  },
  {
   "cell_type": "code",
   "execution_count": 44,
   "id": "2972fc2a",
   "metadata": {},
   "outputs": [
    {
     "data": {
      "text/plain": [
       "(-1.001, -0.799]      7326\n",
       "(0.796, 0.996]        5551\n",
       "(0.597, 0.796]        3379\n",
       "(-0.799, -0.6]        3178\n",
       "(0.397, 0.597]        2338\n",
       "(-0.6, -0.4]          2333\n",
       "(-0.00145, 0.198]     1953\n",
       "(0.198, 0.397]        1781\n",
       "(-0.4, -0.201]        1667\n",
       "(-0.201, -0.00145]    1412\n",
       "Name: compound, dtype: int64"
      ]
     },
     "execution_count": 44,
     "metadata": {},
     "output_type": "execute_result"
    }
   ],
   "source": [
    "senti['compound'].value_counts(bins = 10, ascending = False)"
   ]
  },
  {
   "cell_type": "code",
   "execution_count": 54,
   "id": "324e3797",
   "metadata": {},
   "outputs": [
    {
     "data": {
      "text/plain": [
       "10.0    9750\n",
       "9.0     6150\n",
       "8.0     4345\n",
       "1.0     3249\n",
       "7.0     2015\n",
       "5.0     1271\n",
       "6.0     1246\n",
       "2.0     1059\n",
       "3.0     1049\n",
       "4.0      784\n",
       "Name: Rating, dtype: int64"
      ]
     },
     "execution_count": 54,
     "metadata": {},
     "output_type": "execute_result"
    }
   ],
   "source": [
    "senti['Rating'].value_counts(ascending = False)"
   ]
  },
  {
   "cell_type": "markdown",
   "id": "9db68c04",
   "metadata": {},
   "source": [
    "**Note**: These data points above will be used to generate bar graphs on excel for data visualization"
   ]
  },
  {
   "cell_type": "markdown",
   "id": "63289779",
   "metadata": {},
   "source": [
    "### Getting Data Ready for Modeling"
   ]
  },
  {
   "cell_type": "markdown",
   "id": "a35d62ac",
   "metadata": {},
   "source": [
    "Compound score is between -1 to 1, but some of the models I want to try (i.e. multinomial Naive Bayes) doesn't work well with negative values. Will convert to positive scores:"
   ]
  },
  {
   "cell_type": "code",
   "execution_count": 55,
   "id": "03efa659",
   "metadata": {},
   "outputs": [],
   "source": [
    "senti['compound1'] = senti['compound'] + 1 "
   ]
  },
  {
   "cell_type": "code",
   "execution_count": 56,
   "id": "e7f11d30",
   "metadata": {},
   "outputs": [
    {
     "data": {
      "text/plain": [
       "0.0016000000000000458"
      ]
     },
     "execution_count": 56,
     "metadata": {},
     "output_type": "execute_result"
    }
   ],
   "source": [
    "senti['compound1'].min()"
   ]
  },
  {
   "cell_type": "code",
   "execution_count": 57,
   "id": "e71cfb5d",
   "metadata": {},
   "outputs": [
    {
     "data": {
      "text/plain": [
       "1.9955"
      ]
     },
     "execution_count": 57,
     "metadata": {},
     "output_type": "execute_result"
    }
   ],
   "source": [
    "senti['compound1'].max()"
   ]
  },
  {
   "cell_type": "markdown",
   "id": "51a98ab8",
   "metadata": {},
   "source": [
    "Converting categorical columns to dummy variables:"
   ]
  },
  {
   "cell_type": "code",
   "execution_count": 58,
   "id": "bd5d096a",
   "metadata": {},
   "outputs": [],
   "source": [
    "dummies1 = pd.get_dummies(senti['Condition'])"
   ]
  },
  {
   "cell_type": "code",
   "execution_count": 59,
   "id": "c33788d7",
   "metadata": {},
   "outputs": [],
   "source": [
    "dummies2 = pd.get_dummies(senti['Drug_Class'])"
   ]
  },
  {
   "cell_type": "code",
   "execution_count": 60,
   "id": "b2077db4",
   "metadata": {},
   "outputs": [
    {
     "data": {
      "text/plain": [
       "(30918, 8)"
      ]
     },
     "execution_count": 60,
     "metadata": {},
     "output_type": "execute_result"
    }
   ],
   "source": [
    "dummies1.shape"
   ]
  },
  {
   "cell_type": "code",
   "execution_count": 61,
   "id": "dfb21083",
   "metadata": {},
   "outputs": [
    {
     "data": {
      "text/plain": [
       "(30918, 21)"
      ]
     },
     "execution_count": 61,
     "metadata": {},
     "output_type": "execute_result"
    }
   ],
   "source": [
    "dummies2.shape"
   ]
  },
  {
   "cell_type": "markdown",
   "id": "7683571e",
   "metadata": {},
   "source": [
    "Vectorizing cleaned 'Reviews' data for analysis (using TFIDF):"
   ]
  },
  {
   "cell_type": "code",
   "execution_count": 64,
   "id": "994bbcc6",
   "metadata": {},
   "outputs": [],
   "source": [
    "tfidf = TfidfVectorizer(min_df = 0.1, max_df = 0.75, stop_words = 'english')"
   ]
  },
  {
   "cell_type": "code",
   "execution_count": 65,
   "id": "fddfc0b8",
   "metadata": {},
   "outputs": [],
   "source": [
    "text = senti['Reviews']"
   ]
  },
  {
   "cell_type": "code",
   "execution_count": 66,
   "id": "c61185ff",
   "metadata": {},
   "outputs": [
    {
     "data": {
      "text/plain": [
       "TfidfVectorizer(max_df=0.75, min_df=0.1, stop_words='english')"
      ]
     },
     "execution_count": 66,
     "metadata": {},
     "output_type": "execute_result"
    }
   ],
   "source": [
    "tfidf.fit(text)"
   ]
  },
  {
   "cell_type": "code",
   "execution_count": 67,
   "id": "8c1a2d53",
   "metadata": {},
   "outputs": [],
   "source": [
    "text_to_df = tfidf.transform(text)"
   ]
  },
  {
   "cell_type": "code",
   "execution_count": 68,
   "id": "e0a93548",
   "metadata": {},
   "outputs": [],
   "source": [
    "tfidf_df = pd.DataFrame(text_to_df.todense(), columns=tfidf.get_feature_names_out())"
   ]
  },
  {
   "cell_type": "code",
   "execution_count": 69,
   "id": "470a9e63",
   "metadata": {},
   "outputs": [],
   "source": [
    "features = tfidf.get_feature_names_out()"
   ]
  },
  {
   "cell_type": "code",
   "execution_count": 70,
   "id": "490c1bb4",
   "metadata": {},
   "outputs": [
    {
     "data": {
      "text/plain": [
       "48"
      ]
     },
     "execution_count": 70,
     "metadata": {},
     "output_type": "execute_result"
    }
   ],
   "source": [
    "len(features)"
   ]
  },
  {
   "cell_type": "code",
   "execution_count": 71,
   "id": "3b4c3ab4",
   "metadata": {},
   "outputs": [
    {
     "data": {
      "image/png": "[encoded data removed]",
      "text/plain": [
       "<Figure size 432x288 with 1 Axes>"
      ]
     },
     "metadata": {
      "needs_background": "light"
     },
     "output_type": "display_data"
    }
   ],
   "source": [
    "tfidf_df.sum().sort_values(ascending = False).head(15).plot(kind = 'barh');"
   ]
  },
  {
   "cell_type": "code",
   "execution_count": 72,
   "id": "f283824d",
   "metadata": {},
   "outputs": [
    {
     "data": {
      "text/plain": [
       "(30918, 48)"
      ]
     },
     "execution_count": 72,
     "metadata": {},
     "output_type": "execute_result"
    }
   ],
   "source": [
    "tfidf_df.shape"
   ]
  },
  {
   "cell_type": "code",
   "execution_count": 75,
   "id": "d3c870f0",
   "metadata": {},
   "outputs": [],
   "source": [
    "merge_dummies = pd.concat([senti, dummies1, dummies2], axis = 1)"
   ]
  },
  {
   "cell_type": "code",
   "execution_count": 77,
   "id": "db46063f",
   "metadata": {},
   "outputs": [
    {
     "data": {
      "text/html": [
       "<div>\n",
       "<style scoped>\n",
       "    .dataframe tbody tr th:only-of-type {\n",
       "        vertical-align: middle;\n",
       "    }\n",
       "\n",
       "    .dataframe tbody tr th {\n",
       "        vertical-align: top;\n",
       "    }\n",
       "\n",
       "    .dataframe thead th {\n",
       "        text-align: right;\n",
       "    }\n",
       "</style>\n",
       "<table border=\"1\" class=\"dataframe\">\n",
       "  <thead>\n",
       "    <tr style=\"text-align: right;\">\n",
       "      <th></th>\n",
       "      <th>Drug_Name</th>\n",
       "      <th>Condition</th>\n",
       "      <th>Rating</th>\n",
       "      <th>Drug_Class</th>\n",
       "      <th>Reviews</th>\n",
       "      <th>compound</th>\n",
       "      <th>compound1</th>\n",
       "      <th>Anxiety Disorders</th>\n",
       "      <th>Bipolar Disorders</th>\n",
       "      <th>Depressive Disorders</th>\n",
       "      <th>...</th>\n",
       "      <th>antihistamines</th>\n",
       "      <th>antihypertensives</th>\n",
       "      <th>antimanic agents</th>\n",
       "      <th>anxiolytics</th>\n",
       "      <th>atypical antipsychotics</th>\n",
       "      <th>benzodiazepines</th>\n",
       "      <th>beta blockers</th>\n",
       "      <th>central nervous system stimulants</th>\n",
       "      <th>conventional antipsychotics</th>\n",
       "      <th>tricyclic antidepressants</th>\n",
       "    </tr>\n",
       "  </thead>\n",
       "  <tbody>\n",
       "    <tr>\n",
       "      <th>0</th>\n",
       "      <td>Guanfacine</td>\n",
       "      <td>Neurodevelopmental Disorders</td>\n",
       "      <td>8.0</td>\n",
       "      <td>alpha agonists</td>\n",
       "      <td>my son is halfway through his fourth week of i...</td>\n",
       "      <td>0.9172</td>\n",
       "      <td>1.9172</td>\n",
       "      <td>0</td>\n",
       "      <td>0</td>\n",
       "      <td>0</td>\n",
       "      <td>...</td>\n",
       "      <td>0</td>\n",
       "      <td>0</td>\n",
       "      <td>0</td>\n",
       "      <td>0</td>\n",
       "      <td>0</td>\n",
       "      <td>0</td>\n",
       "      <td>0</td>\n",
       "      <td>0</td>\n",
       "      <td>0</td>\n",
       "      <td>0</td>\n",
       "    </tr>\n",
       "    <tr>\n",
       "      <th>1</th>\n",
       "      <td>Aripiprazole</td>\n",
       "      <td>Bipolar Disorders</td>\n",
       "      <td>10.0</td>\n",
       "      <td>atypical antipsychotics</td>\n",
       "      <td>abilify changed my life there is hope i was on...</td>\n",
       "      <td>-0.9089</td>\n",
       "      <td>0.0911</td>\n",
       "      <td>0</td>\n",
       "      <td>1</td>\n",
       "      <td>0</td>\n",
       "      <td>...</td>\n",
       "      <td>0</td>\n",
       "      <td>0</td>\n",
       "      <td>0</td>\n",
       "      <td>0</td>\n",
       "      <td>1</td>\n",
       "      <td>0</td>\n",
       "      <td>0</td>\n",
       "      <td>0</td>\n",
       "      <td>0</td>\n",
       "      <td>0</td>\n",
       "    </tr>\n",
       "    <tr>\n",
       "      <th>2</th>\n",
       "      <td>L-methylfolate</td>\n",
       "      <td>Depressive Disorders</td>\n",
       "      <td>10.0</td>\n",
       "      <td>B vitamin</td>\n",
       "      <td>i have taken antidepressants for years with so...</td>\n",
       "      <td>0.0147</td>\n",
       "      <td>1.0147</td>\n",
       "      <td>0</td>\n",
       "      <td>0</td>\n",
       "      <td>1</td>\n",
       "      <td>...</td>\n",
       "      <td>0</td>\n",
       "      <td>0</td>\n",
       "      <td>0</td>\n",
       "      <td>0</td>\n",
       "      <td>0</td>\n",
       "      <td>0</td>\n",
       "      <td>0</td>\n",
       "      <td>0</td>\n",
       "      <td>0</td>\n",
       "      <td>0</td>\n",
       "    </tr>\n",
       "    <tr>\n",
       "      <th>3</th>\n",
       "      <td>Lamotrigine</td>\n",
       "      <td>Bipolar Disorders</td>\n",
       "      <td>10.0</td>\n",
       "      <td>anticonvulsants</td>\n",
       "      <td>ive been on every medicine under the sun it se...</td>\n",
       "      <td>-0.7852</td>\n",
       "      <td>0.2148</td>\n",
       "      <td>0</td>\n",
       "      <td>1</td>\n",
       "      <td>0</td>\n",
       "      <td>...</td>\n",
       "      <td>0</td>\n",
       "      <td>0</td>\n",
       "      <td>0</td>\n",
       "      <td>0</td>\n",
       "      <td>0</td>\n",
       "      <td>0</td>\n",
       "      <td>0</td>\n",
       "      <td>0</td>\n",
       "      <td>0</td>\n",
       "      <td>0</td>\n",
       "    </tr>\n",
       "    <tr>\n",
       "      <th>4</th>\n",
       "      <td>Daytrana</td>\n",
       "      <td>Neurodevelopmental Disorders</td>\n",
       "      <td>10.0</td>\n",
       "      <td>central nervous system stimulants</td>\n",
       "      <td>hi all my son who is  was diagnosed when he wa...</td>\n",
       "      <td>-0.5673</td>\n",
       "      <td>0.4327</td>\n",
       "      <td>0</td>\n",
       "      <td>0</td>\n",
       "      <td>0</td>\n",
       "      <td>...</td>\n",
       "      <td>0</td>\n",
       "      <td>0</td>\n",
       "      <td>0</td>\n",
       "      <td>0</td>\n",
       "      <td>0</td>\n",
       "      <td>0</td>\n",
       "      <td>0</td>\n",
       "      <td>1</td>\n",
       "      <td>0</td>\n",
       "      <td>0</td>\n",
       "    </tr>\n",
       "  </tbody>\n",
       "</table>\n",
       "<p>5 rows × 36 columns</p>\n",
       "</div>"
      ],
      "text/plain": [
       "        Drug_Name                     Condition  Rating  \\\n",
       "0      Guanfacine  Neurodevelopmental Disorders     8.0   \n",
       "1    Aripiprazole             Bipolar Disorders    10.0   \n",
       "2  L-methylfolate          Depressive Disorders    10.0   \n",
       "3     Lamotrigine             Bipolar Disorders    10.0   \n",
       "4        Daytrana  Neurodevelopmental Disorders    10.0   \n",
       "\n",
       "                          Drug_Class  \\\n",
       "0                     alpha agonists   \n",
       "1            atypical antipsychotics   \n",
       "2                          B vitamin   \n",
       "3                    anticonvulsants   \n",
       "4  central nervous system stimulants   \n",
       "\n",
       "                                             Reviews  compound  compound1  \\\n",
       "0  my son is halfway through his fourth week of i...    0.9172     1.9172   \n",
       "1  abilify changed my life there is hope i was on...   -0.9089     0.0911   \n",
       "2  i have taken antidepressants for years with so...    0.0147     1.0147   \n",
       "3  ive been on every medicine under the sun it se...   -0.7852     0.2148   \n",
       "4  hi all my son who is  was diagnosed when he wa...   -0.5673     0.4327   \n",
       "\n",
       "   Anxiety Disorders  Bipolar Disorders  Depressive Disorders  ...  \\\n",
       "0                  0                  0                     0  ...   \n",
       "1                  0                  1                     0  ...   \n",
       "2                  0                  0                     1  ...   \n",
       "3                  0                  1                     0  ...   \n",
       "4                  0                  0                     0  ...   \n",
       "\n",
       "   antihistamines  antihypertensives  antimanic agents  anxiolytics  \\\n",
       "0               0                  0                 0            0   \n",
       "1               0                  0                 0            0   \n",
       "2               0                  0                 0            0   \n",
       "3               0                  0                 0            0   \n",
       "4               0                  0                 0            0   \n",
       "\n",
       "   atypical antipsychotics  benzodiazepines  beta blockers  \\\n",
       "0                        0                0              0   \n",
       "1                        1                0              0   \n",
       "2                        0                0              0   \n",
       "3                        0                0              0   \n",
       "4                        0                0              0   \n",
       "\n",
       "   central nervous system stimulants  conventional antipsychotics  \\\n",
       "0                                  0                            0   \n",
       "1                                  0                            0   \n",
       "2                                  0                            0   \n",
       "3                                  0                            0   \n",
       "4                                  1                            0   \n",
       "\n",
       "   tricyclic antidepressants  \n",
       "0                          0  \n",
       "1                          0  \n",
       "2                          0  \n",
       "3                          0  \n",
       "4                          0  \n",
       "\n",
       "[5 rows x 36 columns]"
      ]
     },
     "execution_count": 77,
     "metadata": {},
     "output_type": "execute_result"
    }
   ],
   "source": [
    "merge_dummies.head()"
   ]
  },
  {
   "cell_type": "code",
   "execution_count": 78,
   "id": "6498f6d7",
   "metadata": {},
   "outputs": [],
   "source": [
    "merge_final = pd.merge(merge_dummies, tfidf_df, left_index = True, right_index = True)"
   ]
  },
  {
   "cell_type": "code",
   "execution_count": 80,
   "id": "1eed043c",
   "metadata": {},
   "outputs": [
    {
     "data": {
      "text/html": [
       "<div>\n",
       "<style scoped>\n",
       "    .dataframe tbody tr th:only-of-type {\n",
       "        vertical-align: middle;\n",
       "    }\n",
       "\n",
       "    .dataframe tbody tr th {\n",
       "        vertical-align: top;\n",
       "    }\n",
       "\n",
       "    .dataframe thead th {\n",
       "        text-align: right;\n",
       "    }\n",
       "</style>\n",
       "<table border=\"1\" class=\"dataframe\">\n",
       "  <thead>\n",
       "    <tr style=\"text-align: right;\">\n",
       "      <th></th>\n",
       "      <th>Drug_Name</th>\n",
       "      <th>Condition</th>\n",
       "      <th>Rating</th>\n",
       "      <th>Drug_Class</th>\n",
       "      <th>Reviews</th>\n",
       "      <th>compound</th>\n",
       "      <th>compound1</th>\n",
       "      <th>Anxiety Disorders</th>\n",
       "      <th>Bipolar Disorders</th>\n",
       "      <th>Depressive Disorders</th>\n",
       "      <th>...</th>\n",
       "      <th>took</th>\n",
       "      <th>tried</th>\n",
       "      <th>week</th>\n",
       "      <th>weeks</th>\n",
       "      <th>weight</th>\n",
       "      <th>went</th>\n",
       "      <th>work</th>\n",
       "      <th>worked</th>\n",
       "      <th>year</th>\n",
       "      <th>years</th>\n",
       "    </tr>\n",
       "  </thead>\n",
       "  <tbody>\n",
       "    <tr>\n",
       "      <th>0</th>\n",
       "      <td>Guanfacine</td>\n",
       "      <td>Neurodevelopmental Disorders</td>\n",
       "      <td>8.0</td>\n",
       "      <td>alpha agonists</td>\n",
       "      <td>my son is halfway through his fourth week of i...</td>\n",
       "      <td>0.9172</td>\n",
       "      <td>1.9172</td>\n",
       "      <td>0</td>\n",
       "      <td>0</td>\n",
       "      <td>0</td>\n",
       "      <td>...</td>\n",
       "      <td>0.0</td>\n",
       "      <td>0.231364</td>\n",
       "      <td>0.466684</td>\n",
       "      <td>0.0</td>\n",
       "      <td>0.000000</td>\n",
       "      <td>0.000000</td>\n",
       "      <td>0.0</td>\n",
       "      <td>0.000000</td>\n",
       "      <td>0.000000</td>\n",
       "      <td>0.000000</td>\n",
       "    </tr>\n",
       "    <tr>\n",
       "      <th>1</th>\n",
       "      <td>Aripiprazole</td>\n",
       "      <td>Bipolar Disorders</td>\n",
       "      <td>10.0</td>\n",
       "      <td>atypical antipsychotics</td>\n",
       "      <td>abilify changed my life there is hope i was on...</td>\n",
       "      <td>-0.9089</td>\n",
       "      <td>0.0911</td>\n",
       "      <td>0</td>\n",
       "      <td>1</td>\n",
       "      <td>0</td>\n",
       "      <td>...</td>\n",
       "      <td>0.0</td>\n",
       "      <td>0.328339</td>\n",
       "      <td>0.000000</td>\n",
       "      <td>0.0</td>\n",
       "      <td>0.000000</td>\n",
       "      <td>0.336281</td>\n",
       "      <td>0.0</td>\n",
       "      <td>0.000000</td>\n",
       "      <td>0.000000</td>\n",
       "      <td>0.000000</td>\n",
       "    </tr>\n",
       "    <tr>\n",
       "      <th>2</th>\n",
       "      <td>L-methylfolate</td>\n",
       "      <td>Depressive Disorders</td>\n",
       "      <td>10.0</td>\n",
       "      <td>B vitamin</td>\n",
       "      <td>i have taken antidepressants for years with so...</td>\n",
       "      <td>0.0147</td>\n",
       "      <td>1.0147</td>\n",
       "      <td>0</td>\n",
       "      <td>0</td>\n",
       "      <td>1</td>\n",
       "      <td>...</td>\n",
       "      <td>0.0</td>\n",
       "      <td>0.000000</td>\n",
       "      <td>0.000000</td>\n",
       "      <td>0.0</td>\n",
       "      <td>0.000000</td>\n",
       "      <td>0.000000</td>\n",
       "      <td>0.0</td>\n",
       "      <td>0.000000</td>\n",
       "      <td>0.000000</td>\n",
       "      <td>0.320926</td>\n",
       "    </tr>\n",
       "    <tr>\n",
       "      <th>3</th>\n",
       "      <td>Lamotrigine</td>\n",
       "      <td>Bipolar Disorders</td>\n",
       "      <td>10.0</td>\n",
       "      <td>anticonvulsants</td>\n",
       "      <td>ive been on every medicine under the sun it se...</td>\n",
       "      <td>-0.7852</td>\n",
       "      <td>0.2148</td>\n",
       "      <td>0</td>\n",
       "      <td>1</td>\n",
       "      <td>0</td>\n",
       "      <td>...</td>\n",
       "      <td>0.0</td>\n",
       "      <td>0.000000</td>\n",
       "      <td>0.000000</td>\n",
       "      <td>0.0</td>\n",
       "      <td>0.000000</td>\n",
       "      <td>0.000000</td>\n",
       "      <td>0.0</td>\n",
       "      <td>0.000000</td>\n",
       "      <td>0.000000</td>\n",
       "      <td>0.000000</td>\n",
       "    </tr>\n",
       "    <tr>\n",
       "      <th>4</th>\n",
       "      <td>Daytrana</td>\n",
       "      <td>Neurodevelopmental Disorders</td>\n",
       "      <td>10.0</td>\n",
       "      <td>central nervous system stimulants</td>\n",
       "      <td>hi all my son who is  was diagnosed when he wa...</td>\n",
       "      <td>-0.5673</td>\n",
       "      <td>0.4327</td>\n",
       "      <td>0</td>\n",
       "      <td>0</td>\n",
       "      <td>0</td>\n",
       "      <td>...</td>\n",
       "      <td>0.0</td>\n",
       "      <td>0.486605</td>\n",
       "      <td>0.000000</td>\n",
       "      <td>0.0</td>\n",
       "      <td>0.500136</td>\n",
       "      <td>0.249187</td>\n",
       "      <td>0.0</td>\n",
       "      <td>0.261021</td>\n",
       "      <td>0.253855</td>\n",
       "      <td>0.183790</td>\n",
       "    </tr>\n",
       "  </tbody>\n",
       "</table>\n",
       "<p>5 rows × 84 columns</p>\n",
       "</div>"
      ],
      "text/plain": [
       "        Drug_Name                     Condition  Rating  \\\n",
       "0      Guanfacine  Neurodevelopmental Disorders     8.0   \n",
       "1    Aripiprazole             Bipolar Disorders    10.0   \n",
       "2  L-methylfolate          Depressive Disorders    10.0   \n",
       "3     Lamotrigine             Bipolar Disorders    10.0   \n",
       "4        Daytrana  Neurodevelopmental Disorders    10.0   \n",
       "\n",
       "                          Drug_Class  \\\n",
       "0                     alpha agonists   \n",
       "1            atypical antipsychotics   \n",
       "2                          B vitamin   \n",
       "3                    anticonvulsants   \n",
       "4  central nervous system stimulants   \n",
       "\n",
       "                                             Reviews  compound  compound1  \\\n",
       "0  my son is halfway through his fourth week of i...    0.9172     1.9172   \n",
       "1  abilify changed my life there is hope i was on...   -0.9089     0.0911   \n",
       "2  i have taken antidepressants for years with so...    0.0147     1.0147   \n",
       "3  ive been on every medicine under the sun it se...   -0.7852     0.2148   \n",
       "4  hi all my son who is  was diagnosed when he wa...   -0.5673     0.4327   \n",
       "\n",
       "   Anxiety Disorders  Bipolar Disorders  Depressive Disorders  ...  took  \\\n",
       "0                  0                  0                     0  ...   0.0   \n",
       "1                  0                  1                     0  ...   0.0   \n",
       "2                  0                  0                     1  ...   0.0   \n",
       "3                  0                  1                     0  ...   0.0   \n",
       "4                  0                  0                     0  ...   0.0   \n",
       "\n",
       "      tried      week  weeks    weight      went  work    worked      year  \\\n",
       "0  0.231364  0.466684    0.0  0.000000  0.000000   0.0  0.000000  0.000000   \n",
       "1  0.328339  0.000000    0.0  0.000000  0.336281   0.0  0.000000  0.000000   \n",
       "2  0.000000  0.000000    0.0  0.000000  0.000000   0.0  0.000000  0.000000   \n",
       "3  0.000000  0.000000    0.0  0.000000  0.000000   0.0  0.000000  0.000000   \n",
       "4  0.486605  0.000000    0.0  0.500136  0.249187   0.0  0.261021  0.253855   \n",
       "\n",
       "      years  \n",
       "0  0.000000  \n",
       "1  0.000000  \n",
       "2  0.320926  \n",
       "3  0.000000  \n",
       "4  0.183790  \n",
       "\n",
       "[5 rows x 84 columns]"
      ]
     },
     "execution_count": 80,
     "metadata": {},
     "output_type": "execute_result"
    }
   ],
   "source": [
    "merge_final.head()"
   ]
  },
  {
   "cell_type": "code",
   "execution_count": 81,
   "id": "4ce20dcd",
   "metadata": {},
   "outputs": [],
   "source": [
    "merge_final = merge_final.drop(columns = ['Condition', 'Drug_Class', 'Reviews', 'compound'])"
   ]
  },
  {
   "cell_type": "code",
   "execution_count": 85,
   "id": "b406951d",
   "metadata": {},
   "outputs": [],
   "source": [
    "merge_final = merge_final.drop(columns = 'Drug_Name', axis = 1)"
   ]
  },
  {
   "cell_type": "code",
   "execution_count": 86,
   "id": "07ca345c",
   "metadata": {},
   "outputs": [
    {
     "data": {
      "text/html": [
       "<div>\n",
       "<style scoped>\n",
       "    .dataframe tbody tr th:only-of-type {\n",
       "        vertical-align: middle;\n",
       "    }\n",
       "\n",
       "    .dataframe tbody tr th {\n",
       "        vertical-align: top;\n",
       "    }\n",
       "\n",
       "    .dataframe thead th {\n",
       "        text-align: right;\n",
       "    }\n",
       "</style>\n",
       "<table border=\"1\" class=\"dataframe\">\n",
       "  <thead>\n",
       "    <tr style=\"text-align: right;\">\n",
       "      <th></th>\n",
       "      <th>Rating</th>\n",
       "      <th>compound1</th>\n",
       "      <th>Anxiety Disorders</th>\n",
       "      <th>Bipolar Disorders</th>\n",
       "      <th>Depressive Disorders</th>\n",
       "      <th>Neurodevelopmental Disorders</th>\n",
       "      <th>Obsessive-Compulsive Disorders</th>\n",
       "      <th>Personality Disorders</th>\n",
       "      <th>Psychotic Disorders</th>\n",
       "      <th>Trauma-related Disorders</th>\n",
       "      <th>...</th>\n",
       "      <th>took</th>\n",
       "      <th>tried</th>\n",
       "      <th>week</th>\n",
       "      <th>weeks</th>\n",
       "      <th>weight</th>\n",
       "      <th>went</th>\n",
       "      <th>work</th>\n",
       "      <th>worked</th>\n",
       "      <th>year</th>\n",
       "      <th>years</th>\n",
       "    </tr>\n",
       "  </thead>\n",
       "  <tbody>\n",
       "    <tr>\n",
       "      <th>0</th>\n",
       "      <td>8.0</td>\n",
       "      <td>1.9172</td>\n",
       "      <td>0</td>\n",
       "      <td>0</td>\n",
       "      <td>0</td>\n",
       "      <td>1</td>\n",
       "      <td>0</td>\n",
       "      <td>0</td>\n",
       "      <td>0</td>\n",
       "      <td>0</td>\n",
       "      <td>...</td>\n",
       "      <td>0.0</td>\n",
       "      <td>0.231364</td>\n",
       "      <td>0.466684</td>\n",
       "      <td>0.0</td>\n",
       "      <td>0.000000</td>\n",
       "      <td>0.000000</td>\n",
       "      <td>0.0</td>\n",
       "      <td>0.000000</td>\n",
       "      <td>0.000000</td>\n",
       "      <td>0.000000</td>\n",
       "    </tr>\n",
       "    <tr>\n",
       "      <th>1</th>\n",
       "      <td>10.0</td>\n",
       "      <td>0.0911</td>\n",
       "      <td>0</td>\n",
       "      <td>1</td>\n",
       "      <td>0</td>\n",
       "      <td>0</td>\n",
       "      <td>0</td>\n",
       "      <td>0</td>\n",
       "      <td>0</td>\n",
       "      <td>0</td>\n",
       "      <td>...</td>\n",
       "      <td>0.0</td>\n",
       "      <td>0.328339</td>\n",
       "      <td>0.000000</td>\n",
       "      <td>0.0</td>\n",
       "      <td>0.000000</td>\n",
       "      <td>0.336281</td>\n",
       "      <td>0.0</td>\n",
       "      <td>0.000000</td>\n",
       "      <td>0.000000</td>\n",
       "      <td>0.000000</td>\n",
       "    </tr>\n",
       "    <tr>\n",
       "      <th>2</th>\n",
       "      <td>10.0</td>\n",
       "      <td>1.0147</td>\n",
       "      <td>0</td>\n",
       "      <td>0</td>\n",
       "      <td>1</td>\n",
       "      <td>0</td>\n",
       "      <td>0</td>\n",
       "      <td>0</td>\n",
       "      <td>0</td>\n",
       "      <td>0</td>\n",
       "      <td>...</td>\n",
       "      <td>0.0</td>\n",
       "      <td>0.000000</td>\n",
       "      <td>0.000000</td>\n",
       "      <td>0.0</td>\n",
       "      <td>0.000000</td>\n",
       "      <td>0.000000</td>\n",
       "      <td>0.0</td>\n",
       "      <td>0.000000</td>\n",
       "      <td>0.000000</td>\n",
       "      <td>0.320926</td>\n",
       "    </tr>\n",
       "    <tr>\n",
       "      <th>3</th>\n",
       "      <td>10.0</td>\n",
       "      <td>0.2148</td>\n",
       "      <td>0</td>\n",
       "      <td>1</td>\n",
       "      <td>0</td>\n",
       "      <td>0</td>\n",
       "      <td>0</td>\n",
       "      <td>0</td>\n",
       "      <td>0</td>\n",
       "      <td>0</td>\n",
       "      <td>...</td>\n",
       "      <td>0.0</td>\n",
       "      <td>0.000000</td>\n",
       "      <td>0.000000</td>\n",
       "      <td>0.0</td>\n",
       "      <td>0.000000</td>\n",
       "      <td>0.000000</td>\n",
       "      <td>0.0</td>\n",
       "      <td>0.000000</td>\n",
       "      <td>0.000000</td>\n",
       "      <td>0.000000</td>\n",
       "    </tr>\n",
       "    <tr>\n",
       "      <th>4</th>\n",
       "      <td>10.0</td>\n",
       "      <td>0.4327</td>\n",
       "      <td>0</td>\n",
       "      <td>0</td>\n",
       "      <td>0</td>\n",
       "      <td>1</td>\n",
       "      <td>0</td>\n",
       "      <td>0</td>\n",
       "      <td>0</td>\n",
       "      <td>0</td>\n",
       "      <td>...</td>\n",
       "      <td>0.0</td>\n",
       "      <td>0.486605</td>\n",
       "      <td>0.000000</td>\n",
       "      <td>0.0</td>\n",
       "      <td>0.500136</td>\n",
       "      <td>0.249187</td>\n",
       "      <td>0.0</td>\n",
       "      <td>0.261021</td>\n",
       "      <td>0.253855</td>\n",
       "      <td>0.183790</td>\n",
       "    </tr>\n",
       "  </tbody>\n",
       "</table>\n",
       "<p>5 rows × 79 columns</p>\n",
       "</div>"
      ],
      "text/plain": [
       "   Rating  compound1  Anxiety Disorders  Bipolar Disorders  \\\n",
       "0     8.0     1.9172                  0                  0   \n",
       "1    10.0     0.0911                  0                  1   \n",
       "2    10.0     1.0147                  0                  0   \n",
       "3    10.0     0.2148                  0                  1   \n",
       "4    10.0     0.4327                  0                  0   \n",
       "\n",
       "   Depressive Disorders  Neurodevelopmental Disorders  \\\n",
       "0                     0                             1   \n",
       "1                     0                             0   \n",
       "2                     1                             0   \n",
       "3                     0                             0   \n",
       "4                     0                             1   \n",
       "\n",
       "   Obsessive-Compulsive Disorders  Personality Disorders  Psychotic Disorders  \\\n",
       "0                               0                      0                    0   \n",
       "1                               0                      0                    0   \n",
       "2                               0                      0                    0   \n",
       "3                               0                      0                    0   \n",
       "4                               0                      0                    0   \n",
       "\n",
       "   Trauma-related Disorders  ...  took     tried      week  weeks    weight  \\\n",
       "0                         0  ...   0.0  0.231364  0.466684    0.0  0.000000   \n",
       "1                         0  ...   0.0  0.328339  0.000000    0.0  0.000000   \n",
       "2                         0  ...   0.0  0.000000  0.000000    0.0  0.000000   \n",
       "3                         0  ...   0.0  0.000000  0.000000    0.0  0.000000   \n",
       "4                         0  ...   0.0  0.486605  0.000000    0.0  0.500136   \n",
       "\n",
       "       went  work    worked      year     years  \n",
       "0  0.000000   0.0  0.000000  0.000000  0.000000  \n",
       "1  0.336281   0.0  0.000000  0.000000  0.000000  \n",
       "2  0.000000   0.0  0.000000  0.000000  0.320926  \n",
       "3  0.000000   0.0  0.000000  0.000000  0.000000  \n",
       "4  0.249187   0.0  0.261021  0.253855  0.183790  \n",
       "\n",
       "[5 rows x 79 columns]"
      ]
     },
     "execution_count": 86,
     "metadata": {},
     "output_type": "execute_result"
    }
   ],
   "source": [
    "merge_final.head()"
   ]
  },
  {
   "cell_type": "code",
   "execution_count": 87,
   "id": "b54125e4",
   "metadata": {},
   "outputs": [
    {
     "data": {
      "text/plain": [
       "(30918, 79)"
      ]
     },
     "execution_count": 87,
     "metadata": {},
     "output_type": "execute_result"
    }
   ],
   "source": [
    "merge_final.shape"
   ]
  },
  {
   "cell_type": "markdown",
   "id": "3f3fe488",
   "metadata": {},
   "source": [
    "### Export Modeling Dataset to csv:"
   ]
  },
  {
   "cell_type": "code",
   "execution_count": 88,
   "id": "741f4666",
   "metadata": {},
   "outputs": [],
   "source": [
    "merge_csv = merge_final.to_csv('../Data/Processed_Data/MergedFinal.csv')"
   ]
  }
 ],
 "metadata": {
  "kernelspec": {
   "display_name": "Python 3 (ipykernel)",
   "language": "python",
   "name": "python3"
  },
  "language_info": {
   "codemirror_mode": {
    "name": "ipython",
    "version": 3
   },
   "file_extension": ".py",
   "mimetype": "text/x-python",
   "name": "python",
   "nbconvert_exporter": "python",
   "pygments_lexer": "ipython3",
   "version": "3.9.7"
  }
 },
 "nbformat": 4,
 "nbformat_minor": 5
}
