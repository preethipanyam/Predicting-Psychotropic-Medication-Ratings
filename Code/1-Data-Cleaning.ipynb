{
 "cells": [
  {
   "cell_type": "code",
   "execution_count": 1,
   "id": "c13dbe15",
   "metadata": {},
   "outputs": [],
   "source": [
    "import pandas as pd"
   ]
  },
  {
   "cell_type": "markdown",
   "id": "cd61d1a2",
   "metadata": {},
   "source": [
    "### Importing Drug Review Dataset\n",
    "Source: https://archive.ics.uci.edu/ml/datasets/Drug+Review+Dataset+%28Drugs.com%29"
   ]
  },
  {
   "cell_type": "code",
   "execution_count": 2,
   "id": "01db2aea",
   "metadata": {},
   "outputs": [],
   "source": [
    "drugs = pd.read_csv('../Data/Raw_Data/DrugReview.csv')"
   ]
  },
  {
   "cell_type": "code",
   "execution_count": 3,
   "id": "f62d436a",
   "metadata": {},
   "outputs": [
    {
     "data": {
      "text/plain": [
       "(161297, 7)"
      ]
     },
     "execution_count": 3,
     "metadata": {},
     "output_type": "execute_result"
    }
   ],
   "source": [
    "drugs.shape"
   ]
  },
  {
   "cell_type": "code",
   "execution_count": 4,
   "id": "b23b8d8a",
   "metadata": {
    "scrolled": true
   },
   "outputs": [
    {
     "data": {
      "text/html": [
       "<div>\n",
       "<style scoped>\n",
       "    .dataframe tbody tr th:only-of-type {\n",
       "        vertical-align: middle;\n",
       "    }\n",
       "\n",
       "    .dataframe tbody tr th {\n",
       "        vertical-align: top;\n",
       "    }\n",
       "\n",
       "    .dataframe thead th {\n",
       "        text-align: right;\n",
       "    }\n",
       "</style>\n",
       "<table border=\"1\" class=\"dataframe\">\n",
       "  <thead>\n",
       "    <tr style=\"text-align: right;\">\n",
       "      <th></th>\n",
       "      <th>Unnamed: 0</th>\n",
       "      <th>drugName</th>\n",
       "      <th>condition</th>\n",
       "      <th>review</th>\n",
       "      <th>rating</th>\n",
       "      <th>date</th>\n",
       "      <th>usefulCount</th>\n",
       "    </tr>\n",
       "  </thead>\n",
       "  <tbody>\n",
       "    <tr>\n",
       "      <th>0</th>\n",
       "      <td>206461</td>\n",
       "      <td>Valsartan</td>\n",
       "      <td>Left Ventricular Dysfunction</td>\n",
       "      <td>\"It has no side effect, I take it in combinati...</td>\n",
       "      <td>9.0</td>\n",
       "      <td>May 20, 2012</td>\n",
       "      <td>27</td>\n",
       "    </tr>\n",
       "    <tr>\n",
       "      <th>1</th>\n",
       "      <td>95260</td>\n",
       "      <td>Guanfacine</td>\n",
       "      <td>ADHD</td>\n",
       "      <td>\"My son is halfway through his fourth week of ...</td>\n",
       "      <td>8.0</td>\n",
       "      <td>April 27, 2010</td>\n",
       "      <td>192</td>\n",
       "    </tr>\n",
       "    <tr>\n",
       "      <th>2</th>\n",
       "      <td>92703</td>\n",
       "      <td>Lybrel</td>\n",
       "      <td>Birth Control</td>\n",
       "      <td>\"I used to take another oral contraceptive, wh...</td>\n",
       "      <td>5.0</td>\n",
       "      <td>December 14, 2009</td>\n",
       "      <td>17</td>\n",
       "    </tr>\n",
       "    <tr>\n",
       "      <th>3</th>\n",
       "      <td>138000</td>\n",
       "      <td>Ortho Evra</td>\n",
       "      <td>Birth Control</td>\n",
       "      <td>\"This is my first time using any form of birth...</td>\n",
       "      <td>8.0</td>\n",
       "      <td>November 3, 2015</td>\n",
       "      <td>10</td>\n",
       "    </tr>\n",
       "    <tr>\n",
       "      <th>4</th>\n",
       "      <td>35696</td>\n",
       "      <td>Buprenorphine / naloxone</td>\n",
       "      <td>Opiate Dependence</td>\n",
       "      <td>\"Suboxone has completely turned my life around...</td>\n",
       "      <td>9.0</td>\n",
       "      <td>November 27, 2016</td>\n",
       "      <td>37</td>\n",
       "    </tr>\n",
       "    <tr>\n",
       "      <th>5</th>\n",
       "      <td>155963</td>\n",
       "      <td>Cialis</td>\n",
       "      <td>Benign Prostatic Hyperplasia</td>\n",
       "      <td>\"2nd day on 5mg started to work with rock hard...</td>\n",
       "      <td>2.0</td>\n",
       "      <td>November 28, 2015</td>\n",
       "      <td>43</td>\n",
       "    </tr>\n",
       "    <tr>\n",
       "      <th>6</th>\n",
       "      <td>165907</td>\n",
       "      <td>Levonorgestrel</td>\n",
       "      <td>Emergency Contraception</td>\n",
       "      <td>\"He pulled out, but he cummed a bit in me. I t...</td>\n",
       "      <td>1.0</td>\n",
       "      <td>March 7, 2017</td>\n",
       "      <td>5</td>\n",
       "    </tr>\n",
       "    <tr>\n",
       "      <th>7</th>\n",
       "      <td>102654</td>\n",
       "      <td>Aripiprazole</td>\n",
       "      <td>Bipolar Disorde</td>\n",
       "      <td>\"Abilify changed my life. There is hope. I was...</td>\n",
       "      <td>10.0</td>\n",
       "      <td>March 14, 2015</td>\n",
       "      <td>32</td>\n",
       "    </tr>\n",
       "    <tr>\n",
       "      <th>8</th>\n",
       "      <td>74811</td>\n",
       "      <td>Keppra</td>\n",
       "      <td>Epilepsy</td>\n",
       "      <td>\" I Ve had  nothing but problems with the Kepp...</td>\n",
       "      <td>1.0</td>\n",
       "      <td>August 9, 2016</td>\n",
       "      <td>11</td>\n",
       "    </tr>\n",
       "    <tr>\n",
       "      <th>9</th>\n",
       "      <td>48928</td>\n",
       "      <td>Ethinyl estradiol / levonorgestrel</td>\n",
       "      <td>Birth Control</td>\n",
       "      <td>\"I had been on the pill for many years. When m...</td>\n",
       "      <td>8.0</td>\n",
       "      <td>December 8, 2016</td>\n",
       "      <td>1</td>\n",
       "    </tr>\n",
       "  </tbody>\n",
       "</table>\n",
       "</div>"
      ],
      "text/plain": [
       "   Unnamed: 0                            drugName  \\\n",
       "0      206461                           Valsartan   \n",
       "1       95260                          Guanfacine   \n",
       "2       92703                              Lybrel   \n",
       "3      138000                          Ortho Evra   \n",
       "4       35696            Buprenorphine / naloxone   \n",
       "5      155963                              Cialis   \n",
       "6      165907                      Levonorgestrel   \n",
       "7      102654                        Aripiprazole   \n",
       "8       74811                              Keppra   \n",
       "9       48928  Ethinyl estradiol / levonorgestrel   \n",
       "\n",
       "                      condition  \\\n",
       "0  Left Ventricular Dysfunction   \n",
       "1                          ADHD   \n",
       "2                 Birth Control   \n",
       "3                 Birth Control   \n",
       "4             Opiate Dependence   \n",
       "5  Benign Prostatic Hyperplasia   \n",
       "6       Emergency Contraception   \n",
       "7               Bipolar Disorde   \n",
       "8                      Epilepsy   \n",
       "9                 Birth Control   \n",
       "\n",
       "                                              review  rating  \\\n",
       "0  \"It has no side effect, I take it in combinati...     9.0   \n",
       "1  \"My son is halfway through his fourth week of ...     8.0   \n",
       "2  \"I used to take another oral contraceptive, wh...     5.0   \n",
       "3  \"This is my first time using any form of birth...     8.0   \n",
       "4  \"Suboxone has completely turned my life around...     9.0   \n",
       "5  \"2nd day on 5mg started to work with rock hard...     2.0   \n",
       "6  \"He pulled out, but he cummed a bit in me. I t...     1.0   \n",
       "7  \"Abilify changed my life. There is hope. I was...    10.0   \n",
       "8  \" I Ve had  nothing but problems with the Kepp...     1.0   \n",
       "9  \"I had been on the pill for many years. When m...     8.0   \n",
       "\n",
       "                date  usefulCount  \n",
       "0       May 20, 2012           27  \n",
       "1     April 27, 2010          192  \n",
       "2  December 14, 2009           17  \n",
       "3   November 3, 2015           10  \n",
       "4  November 27, 2016           37  \n",
       "5  November 28, 2015           43  \n",
       "6      March 7, 2017            5  \n",
       "7     March 14, 2015           32  \n",
       "8     August 9, 2016           11  \n",
       "9   December 8, 2016            1  "
      ]
     },
     "execution_count": 4,
     "metadata": {},
     "output_type": "execute_result"
    }
   ],
   "source": [
    "drugs.head(10)"
   ]
  },
  {
   "cell_type": "code",
   "execution_count": 5,
   "id": "0369ca9f",
   "metadata": {},
   "outputs": [
    {
     "data": {
      "text/plain": [
       "Unnamed: 0       0\n",
       "drugName         0\n",
       "condition      899\n",
       "review           0\n",
       "rating           0\n",
       "date             0\n",
       "usefulCount      0\n",
       "dtype: int64"
      ]
     },
     "execution_count": 5,
     "metadata": {},
     "output_type": "execute_result"
    }
   ],
   "source": [
    "drugs.isnull().sum()"
   ]
  },
  {
   "cell_type": "code",
   "execution_count": 6,
   "id": "67c00a9c",
   "metadata": {},
   "outputs": [],
   "source": [
    "drugs.dropna(inplace = True)"
   ]
  },
  {
   "cell_type": "code",
   "execution_count": 7,
   "id": "26560030",
   "metadata": {},
   "outputs": [
    {
     "data": {
      "text/plain": [
       "Unnamed: 0     0\n",
       "drugName       0\n",
       "condition      0\n",
       "review         0\n",
       "rating         0\n",
       "date           0\n",
       "usefulCount    0\n",
       "dtype: int64"
      ]
     },
     "execution_count": 7,
     "metadata": {},
     "output_type": "execute_result"
    }
   ],
   "source": [
    "drugs.isnull().sum()"
   ]
  },
  {
   "cell_type": "code",
   "execution_count": 8,
   "id": "e63ed25b",
   "metadata": {},
   "outputs": [
    {
     "data": {
      "text/plain": [
       "(160398, 7)"
      ]
     },
     "execution_count": 8,
     "metadata": {},
     "output_type": "execute_result"
    }
   ],
   "source": [
    "drugs.shape"
   ]
  },
  {
   "cell_type": "code",
   "execution_count": 9,
   "id": "aa6a57f2",
   "metadata": {},
   "outputs": [
    {
     "data": {
      "text/plain": [
       "Birth Control                                              28788\n",
       "Depression                                                  9069\n",
       "Pain                                                        6145\n",
       "Anxiety                                                     5904\n",
       "Acne                                                        5588\n",
       "                                                           ...  \n",
       "Dissociative Identity Disorde                                  1\n",
       "Hydrocephalus                                                  1\n",
       "Hyperlipoproteinemia Type III, Elevated beta-VLDL   IDL        1\n",
       "Q Feve                                                         1\n",
       "Neutropenia                                                    1\n",
       "Name: condition, Length: 884, dtype: int64"
      ]
     },
     "execution_count": 9,
     "metadata": {},
     "output_type": "execute_result"
    }
   ],
   "source": [
    "drugs['condition'].value_counts()"
   ]
  },
  {
   "cell_type": "markdown",
   "id": "314c7d9e",
   "metadata": {},
   "source": [
    "### Psychiatric Conditions & Medications"
   ]
  },
  {
   "cell_type": "markdown",
   "id": "58cbbd00",
   "metadata": {},
   "source": [
    "Since my background is in research psychology & neuroscience, I decided to focus on the conditions & medications speicifically related to mental health:"
   ]
  },
  {
   "cell_type": "code",
   "execution_count": 10,
   "id": "8b032722",
   "metadata": {},
   "outputs": [],
   "source": [
    "psychdrugs = drugs.loc[drugs['condition'].isin(['Depression', 'Anxiety', 'Bipolar Disorde', 'ADHD', 'Anxiety and Stress', 'Major Depressive Disorde', 'Panic Disorde', 'Generalized Anxiety Disorde', 'Schizophrenia', 'Obsessive Compulsive Disorde', 'Schizoaffective Disorde', 'Social Anxiety Disorde', 'Post Traumatic Stress Disorde', 'mance Anxiety',\n",
    "                    'Borderline Personality Disorde', 'Postpartum Depression', 'Psychosis', 'Sexual Dysfunction, SSRI Induced',\n",
    "                   'Paranoid Disorde', 'Nightmares'])]"
   ]
  },
  {
   "cell_type": "code",
   "execution_count": 11,
   "id": "04a062a6",
   "metadata": {},
   "outputs": [
    {
     "data": {
      "text/html": [
       "<div>\n",
       "<style scoped>\n",
       "    .dataframe tbody tr th:only-of-type {\n",
       "        vertical-align: middle;\n",
       "    }\n",
       "\n",
       "    .dataframe tbody tr th {\n",
       "        vertical-align: top;\n",
       "    }\n",
       "\n",
       "    .dataframe thead th {\n",
       "        text-align: right;\n",
       "    }\n",
       "</style>\n",
       "<table border=\"1\" class=\"dataframe\">\n",
       "  <thead>\n",
       "    <tr style=\"text-align: right;\">\n",
       "      <th></th>\n",
       "      <th>Unnamed: 0</th>\n",
       "      <th>drugName</th>\n",
       "      <th>condition</th>\n",
       "      <th>review</th>\n",
       "      <th>rating</th>\n",
       "      <th>date</th>\n",
       "      <th>usefulCount</th>\n",
       "    </tr>\n",
       "  </thead>\n",
       "  <tbody>\n",
       "    <tr>\n",
       "      <th>1</th>\n",
       "      <td>95260</td>\n",
       "      <td>Guanfacine</td>\n",
       "      <td>ADHD</td>\n",
       "      <td>\"My son is halfway through his fourth week of ...</td>\n",
       "      <td>8.0</td>\n",
       "      <td>April 27, 2010</td>\n",
       "      <td>192</td>\n",
       "    </tr>\n",
       "    <tr>\n",
       "      <th>7</th>\n",
       "      <td>102654</td>\n",
       "      <td>Aripiprazole</td>\n",
       "      <td>Bipolar Disorde</td>\n",
       "      <td>\"Abilify changed my life. There is hope. I was...</td>\n",
       "      <td>10.0</td>\n",
       "      <td>March 14, 2015</td>\n",
       "      <td>32</td>\n",
       "    </tr>\n",
       "    <tr>\n",
       "      <th>11</th>\n",
       "      <td>75612</td>\n",
       "      <td>L-methylfolate</td>\n",
       "      <td>Depression</td>\n",
       "      <td>\"I have taken anti-depressants for years, with...</td>\n",
       "      <td>10.0</td>\n",
       "      <td>March 9, 2017</td>\n",
       "      <td>54</td>\n",
       "    </tr>\n",
       "    <tr>\n",
       "      <th>18</th>\n",
       "      <td>212077</td>\n",
       "      <td>Lamotrigine</td>\n",
       "      <td>Bipolar Disorde</td>\n",
       "      <td>\"I&amp;#039;ve been on every medicine under the su...</td>\n",
       "      <td>10.0</td>\n",
       "      <td>November 9, 2014</td>\n",
       "      <td>18</td>\n",
       "    </tr>\n",
       "    <tr>\n",
       "      <th>27</th>\n",
       "      <td>78563</td>\n",
       "      <td>Daytrana</td>\n",
       "      <td>ADHD</td>\n",
       "      <td>\"Hi all, My son who is 12 was diagnosed when h...</td>\n",
       "      <td>10.0</td>\n",
       "      <td>January 12, 2017</td>\n",
       "      <td>11</td>\n",
       "    </tr>\n",
       "  </tbody>\n",
       "</table>\n",
       "</div>"
      ],
      "text/plain": [
       "    Unnamed: 0        drugName        condition  \\\n",
       "1        95260      Guanfacine             ADHD   \n",
       "7       102654    Aripiprazole  Bipolar Disorde   \n",
       "11       75612  L-methylfolate       Depression   \n",
       "18      212077     Lamotrigine  Bipolar Disorde   \n",
       "27       78563        Daytrana             ADHD   \n",
       "\n",
       "                                               review  rating  \\\n",
       "1   \"My son is halfway through his fourth week of ...     8.0   \n",
       "7   \"Abilify changed my life. There is hope. I was...    10.0   \n",
       "11  \"I have taken anti-depressants for years, with...    10.0   \n",
       "18  \"I&#039;ve been on every medicine under the su...    10.0   \n",
       "27  \"Hi all, My son who is 12 was diagnosed when h...    10.0   \n",
       "\n",
       "                date  usefulCount  \n",
       "1     April 27, 2010          192  \n",
       "7     March 14, 2015           32  \n",
       "11     March 9, 2017           54  \n",
       "18  November 9, 2014           18  \n",
       "27  January 12, 2017           11  "
      ]
     },
     "execution_count": 11,
     "metadata": {},
     "output_type": "execute_result"
    }
   ],
   "source": [
    "psychdrugs.head()"
   ]
  },
  {
   "cell_type": "code",
   "execution_count": 12,
   "id": "8235485b",
   "metadata": {},
   "outputs": [
    {
     "data": {
      "text/plain": [
       "(31369, 7)"
      ]
     },
     "execution_count": 12,
     "metadata": {},
     "output_type": "execute_result"
    }
   ],
   "source": [
    "psychdrugs.shape"
   ]
  },
  {
   "cell_type": "code",
   "execution_count": 13,
   "id": "76a570e2",
   "metadata": {},
   "outputs": [
    {
     "data": {
      "text/plain": [
       "Depression                          9069\n",
       "Anxiety                             5904\n",
       "Bipolar Disorde                     4224\n",
       "ADHD                                3383\n",
       "Anxiety and Stress                  1663\n",
       "Major Depressive Disorde            1607\n",
       "Panic Disorde                       1463\n",
       "Generalized Anxiety Disorde         1164\n",
       "Schizophrenia                        594\n",
       "Obsessive Compulsive Disorde         579\n",
       "Schizoaffective Disorde              396\n",
       "Social Anxiety Disorde               389\n",
       "Post Traumatic Stress Disorde        314\n",
       "mance Anxiety                        187\n",
       "Borderline Personality Disorde       151\n",
       "Postpartum Depression                 84\n",
       "Psychosis                             73\n",
       "Sexual Dysfunction, SSRI Induced      69\n",
       "Paranoid Disorde                      38\n",
       "Nightmares                            18\n",
       "Name: condition, dtype: int64"
      ]
     },
     "execution_count": 13,
     "metadata": {},
     "output_type": "execute_result"
    }
   ],
   "source": [
    "psychdrugs['condition'].value_counts()"
   ]
  },
  {
   "cell_type": "code",
   "execution_count": 14,
   "id": "3ce2c18c",
   "metadata": {},
   "outputs": [],
   "source": [
    "psychdrugs_csv = psychdrugs.to_csv('../Data/Processed_Data/psychdrugs.csv', index = False)"
   ]
  },
  {
   "cell_type": "code",
   "execution_count": 15,
   "id": "48ada0c7",
   "metadata": {},
   "outputs": [],
   "source": [
    "psych = pd.read_csv('../Data/Processed_Data/psychdrugs.csv')"
   ]
  },
  {
   "cell_type": "code",
   "execution_count": 16,
   "id": "e7339b47",
   "metadata": {},
   "outputs": [
    {
     "data": {
      "text/html": [
       "<div>\n",
       "<style scoped>\n",
       "    .dataframe tbody tr th:only-of-type {\n",
       "        vertical-align: middle;\n",
       "    }\n",
       "\n",
       "    .dataframe tbody tr th {\n",
       "        vertical-align: top;\n",
       "    }\n",
       "\n",
       "    .dataframe thead th {\n",
       "        text-align: right;\n",
       "    }\n",
       "</style>\n",
       "<table border=\"1\" class=\"dataframe\">\n",
       "  <thead>\n",
       "    <tr style=\"text-align: right;\">\n",
       "      <th></th>\n",
       "      <th>Unnamed: 0</th>\n",
       "      <th>drugName</th>\n",
       "      <th>condition</th>\n",
       "      <th>review</th>\n",
       "      <th>rating</th>\n",
       "      <th>date</th>\n",
       "      <th>usefulCount</th>\n",
       "    </tr>\n",
       "  </thead>\n",
       "  <tbody>\n",
       "    <tr>\n",
       "      <th>0</th>\n",
       "      <td>95260</td>\n",
       "      <td>Guanfacine</td>\n",
       "      <td>ADHD</td>\n",
       "      <td>\"My son is halfway through his fourth week of ...</td>\n",
       "      <td>8.0</td>\n",
       "      <td>April 27, 2010</td>\n",
       "      <td>192</td>\n",
       "    </tr>\n",
       "    <tr>\n",
       "      <th>1</th>\n",
       "      <td>102654</td>\n",
       "      <td>Aripiprazole</td>\n",
       "      <td>Bipolar Disorde</td>\n",
       "      <td>\"Abilify changed my life. There is hope. I was...</td>\n",
       "      <td>10.0</td>\n",
       "      <td>March 14, 2015</td>\n",
       "      <td>32</td>\n",
       "    </tr>\n",
       "    <tr>\n",
       "      <th>2</th>\n",
       "      <td>75612</td>\n",
       "      <td>L-methylfolate</td>\n",
       "      <td>Depression</td>\n",
       "      <td>\"I have taken anti-depressants for years, with...</td>\n",
       "      <td>10.0</td>\n",
       "      <td>March 9, 2017</td>\n",
       "      <td>54</td>\n",
       "    </tr>\n",
       "    <tr>\n",
       "      <th>3</th>\n",
       "      <td>212077</td>\n",
       "      <td>Lamotrigine</td>\n",
       "      <td>Bipolar Disorde</td>\n",
       "      <td>\"I&amp;#039;ve been on every medicine under the su...</td>\n",
       "      <td>10.0</td>\n",
       "      <td>November 9, 2014</td>\n",
       "      <td>18</td>\n",
       "    </tr>\n",
       "    <tr>\n",
       "      <th>4</th>\n",
       "      <td>78563</td>\n",
       "      <td>Daytrana</td>\n",
       "      <td>ADHD</td>\n",
       "      <td>\"Hi all, My son who is 12 was diagnosed when h...</td>\n",
       "      <td>10.0</td>\n",
       "      <td>January 12, 2017</td>\n",
       "      <td>11</td>\n",
       "    </tr>\n",
       "  </tbody>\n",
       "</table>\n",
       "</div>"
      ],
      "text/plain": [
       "   Unnamed: 0        drugName        condition  \\\n",
       "0       95260      Guanfacine             ADHD   \n",
       "1      102654    Aripiprazole  Bipolar Disorde   \n",
       "2       75612  L-methylfolate       Depression   \n",
       "3      212077     Lamotrigine  Bipolar Disorde   \n",
       "4       78563        Daytrana             ADHD   \n",
       "\n",
       "                                              review  rating  \\\n",
       "0  \"My son is halfway through his fourth week of ...     8.0   \n",
       "1  \"Abilify changed my life. There is hope. I was...    10.0   \n",
       "2  \"I have taken anti-depressants for years, with...    10.0   \n",
       "3  \"I&#039;ve been on every medicine under the su...    10.0   \n",
       "4  \"Hi all, My son who is 12 was diagnosed when h...    10.0   \n",
       "\n",
       "               date  usefulCount  \n",
       "0    April 27, 2010          192  \n",
       "1    March 14, 2015           32  \n",
       "2     March 9, 2017           54  \n",
       "3  November 9, 2014           18  \n",
       "4  January 12, 2017           11  "
      ]
     },
     "execution_count": 16,
     "metadata": {},
     "output_type": "execute_result"
    }
   ],
   "source": [
    "psych.head()"
   ]
  },
  {
   "cell_type": "code",
   "execution_count": 17,
   "id": "977c02d0",
   "metadata": {},
   "outputs": [
    {
     "data": {
      "text/plain": [
       "259"
      ]
     },
     "execution_count": 17,
     "metadata": {},
     "output_type": "execute_result"
    }
   ],
   "source": [
    "psychdrugs['drugName'].nunique()"
   ]
  },
  {
   "cell_type": "code",
   "execution_count": 18,
   "id": "ec868e92",
   "metadata": {},
   "outputs": [
    {
     "data": {
      "text/plain": [
       "20"
      ]
     },
     "execution_count": 18,
     "metadata": {},
     "output_type": "execute_result"
    }
   ],
   "source": [
    "psychdrugs['condition'].nunique()"
   ]
  },
  {
   "cell_type": "code",
   "execution_count": 19,
   "id": "df44703c",
   "metadata": {},
   "outputs": [
    {
     "data": {
      "text/html": [
       "<div>\n",
       "<style scoped>\n",
       "    .dataframe tbody tr th:only-of-type {\n",
       "        vertical-align: middle;\n",
       "    }\n",
       "\n",
       "    .dataframe tbody tr th {\n",
       "        vertical-align: top;\n",
       "    }\n",
       "\n",
       "    .dataframe thead th {\n",
       "        text-align: right;\n",
       "    }\n",
       "</style>\n",
       "<table border=\"1\" class=\"dataframe\">\n",
       "  <thead>\n",
       "    <tr style=\"text-align: right;\">\n",
       "      <th></th>\n",
       "      <th>Unnamed: 0</th>\n",
       "      <th>drugName</th>\n",
       "      <th>condition</th>\n",
       "      <th>review</th>\n",
       "      <th>rating</th>\n",
       "      <th>date</th>\n",
       "      <th>usefulCount</th>\n",
       "    </tr>\n",
       "  </thead>\n",
       "  <tbody>\n",
       "    <tr>\n",
       "      <th>1</th>\n",
       "      <td>95260</td>\n",
       "      <td>Guanfacine</td>\n",
       "      <td>ADHD</td>\n",
       "      <td>\"My son is halfway through his fourth week of ...</td>\n",
       "      <td>8.0</td>\n",
       "      <td>April 27, 2010</td>\n",
       "      <td>192</td>\n",
       "    </tr>\n",
       "    <tr>\n",
       "      <th>7</th>\n",
       "      <td>102654</td>\n",
       "      <td>Aripiprazole</td>\n",
       "      <td>Bipolar Disorde</td>\n",
       "      <td>\"Abilify changed my life. There is hope. I was...</td>\n",
       "      <td>10.0</td>\n",
       "      <td>March 14, 2015</td>\n",
       "      <td>32</td>\n",
       "    </tr>\n",
       "    <tr>\n",
       "      <th>11</th>\n",
       "      <td>75612</td>\n",
       "      <td>L-methylfolate</td>\n",
       "      <td>Depression</td>\n",
       "      <td>\"I have taken anti-depressants for years, with...</td>\n",
       "      <td>10.0</td>\n",
       "      <td>March 9, 2017</td>\n",
       "      <td>54</td>\n",
       "    </tr>\n",
       "    <tr>\n",
       "      <th>18</th>\n",
       "      <td>212077</td>\n",
       "      <td>Lamotrigine</td>\n",
       "      <td>Bipolar Disorde</td>\n",
       "      <td>\"I&amp;#039;ve been on every medicine under the su...</td>\n",
       "      <td>10.0</td>\n",
       "      <td>November 9, 2014</td>\n",
       "      <td>18</td>\n",
       "    </tr>\n",
       "    <tr>\n",
       "      <th>27</th>\n",
       "      <td>78563</td>\n",
       "      <td>Daytrana</td>\n",
       "      <td>ADHD</td>\n",
       "      <td>\"Hi all, My son who is 12 was diagnosed when h...</td>\n",
       "      <td>10.0</td>\n",
       "      <td>January 12, 2017</td>\n",
       "      <td>11</td>\n",
       "    </tr>\n",
       "  </tbody>\n",
       "</table>\n",
       "</div>"
      ],
      "text/plain": [
       "    Unnamed: 0        drugName        condition  \\\n",
       "1        95260      Guanfacine             ADHD   \n",
       "7       102654    Aripiprazole  Bipolar Disorde   \n",
       "11       75612  L-methylfolate       Depression   \n",
       "18      212077     Lamotrigine  Bipolar Disorde   \n",
       "27       78563        Daytrana             ADHD   \n",
       "\n",
       "                                               review  rating  \\\n",
       "1   \"My son is halfway through his fourth week of ...     8.0   \n",
       "7   \"Abilify changed my life. There is hope. I was...    10.0   \n",
       "11  \"I have taken anti-depressants for years, with...    10.0   \n",
       "18  \"I&#039;ve been on every medicine under the su...    10.0   \n",
       "27  \"Hi all, My son who is 12 was diagnosed when h...    10.0   \n",
       "\n",
       "                date  usefulCount  \n",
       "1     April 27, 2010          192  \n",
       "7     March 14, 2015           32  \n",
       "11     March 9, 2017           54  \n",
       "18  November 9, 2014           18  \n",
       "27  January 12, 2017           11  "
      ]
     },
     "execution_count": 19,
     "metadata": {},
     "output_type": "execute_result"
    }
   ],
   "source": [
    "psychdrugs.head()"
   ]
  },
  {
   "cell_type": "markdown",
   "id": "43b65d4f",
   "metadata": {},
   "source": [
    "### Adding Drug Classes"
   ]
  },
  {
   "cell_type": "markdown",
   "id": "c6aebd70",
   "metadata": {},
   "source": [
    "Decided it would be interesting to also look at the drug class of each of these 259 drugs; I looked this up by-hand (source: https://medlineplus.gov/), added to Google Sheets & exported as a csv. Will merge below:"
   ]
  },
  {
   "cell_type": "code",
   "execution_count": 20,
   "id": "792a3691",
   "metadata": {},
   "outputs": [],
   "source": [
    "classes = pd.read_csv('../Data/Raw_Data/DrugClasses.csv')"
   ]
  },
  {
   "cell_type": "code",
   "execution_count": 21,
   "id": "00507ca4",
   "metadata": {},
   "outputs": [
    {
     "data": {
      "text/html": [
       "<div>\n",
       "<style scoped>\n",
       "    .dataframe tbody tr th:only-of-type {\n",
       "        vertical-align: middle;\n",
       "    }\n",
       "\n",
       "    .dataframe tbody tr th {\n",
       "        vertical-align: top;\n",
       "    }\n",
       "\n",
       "    .dataframe thead th {\n",
       "        text-align: right;\n",
       "    }\n",
       "</style>\n",
       "<table border=\"1\" class=\"dataframe\">\n",
       "  <thead>\n",
       "    <tr style=\"text-align: right;\">\n",
       "      <th></th>\n",
       "      <th>Drug Name</th>\n",
       "      <th>Drug Class</th>\n",
       "    </tr>\n",
       "  </thead>\n",
       "  <tbody>\n",
       "    <tr>\n",
       "      <th>0</th>\n",
       "      <td>Sertraline</td>\n",
       "      <td>SSRI</td>\n",
       "    </tr>\n",
       "    <tr>\n",
       "      <th>1</th>\n",
       "      <td>Escitalopram</td>\n",
       "      <td>SSRI</td>\n",
       "    </tr>\n",
       "    <tr>\n",
       "      <th>2</th>\n",
       "      <td>Citalopram</td>\n",
       "      <td>SSRI</td>\n",
       "    </tr>\n",
       "    <tr>\n",
       "      <th>3</th>\n",
       "      <td>Lexapro</td>\n",
       "      <td>SSRI</td>\n",
       "    </tr>\n",
       "    <tr>\n",
       "      <th>4</th>\n",
       "      <td>Venlafaxine</td>\n",
       "      <td>SNRI</td>\n",
       "    </tr>\n",
       "  </tbody>\n",
       "</table>\n",
       "</div>"
      ],
      "text/plain": [
       "      Drug Name Drug Class\n",
       "0    Sertraline       SSRI\n",
       "1  Escitalopram       SSRI\n",
       "2    Citalopram       SSRI\n",
       "3       Lexapro       SSRI\n",
       "4   Venlafaxine       SNRI"
      ]
     },
     "execution_count": 21,
     "metadata": {},
     "output_type": "execute_result"
    }
   ],
   "source": [
    "classes.head()"
   ]
  },
  {
   "cell_type": "code",
   "execution_count": 22,
   "id": "c140cb5d",
   "metadata": {},
   "outputs": [
    {
     "data": {
      "text/plain": [
       "(259, 2)"
      ]
     },
     "execution_count": 22,
     "metadata": {},
     "output_type": "execute_result"
    }
   ],
   "source": [
    "classes.shape"
   ]
  },
  {
   "cell_type": "code",
   "execution_count": 23,
   "id": "08fccb99",
   "metadata": {},
   "outputs": [],
   "source": [
    "classes = classes.rename(columns = {'Drug Name': 'drugName'})"
   ]
  },
  {
   "cell_type": "code",
   "execution_count": 24,
   "id": "d84d0d8b",
   "metadata": {},
   "outputs": [
    {
     "data": {
      "text/plain": [
       "(31369, 7)"
      ]
     },
     "execution_count": 24,
     "metadata": {},
     "output_type": "execute_result"
    }
   ],
   "source": [
    "psych.shape"
   ]
  },
  {
   "cell_type": "code",
   "execution_count": 25,
   "id": "07cf84e2",
   "metadata": {},
   "outputs": [
    {
     "data": {
      "text/plain": [
       "drugName      object\n",
       "Drug Class    object\n",
       "dtype: object"
      ]
     },
     "execution_count": 25,
     "metadata": {},
     "output_type": "execute_result"
    }
   ],
   "source": [
    "classes.dtypes"
   ]
  },
  {
   "cell_type": "code",
   "execution_count": 26,
   "id": "34ccb156",
   "metadata": {},
   "outputs": [
    {
     "data": {
      "text/plain": [
       "Unnamed: 0       int64\n",
       "drugName        object\n",
       "condition       object\n",
       "review          object\n",
       "rating         float64\n",
       "date            object\n",
       "usefulCount      int64\n",
       "dtype: object"
      ]
     },
     "execution_count": 26,
     "metadata": {},
     "output_type": "execute_result"
    }
   ],
   "source": [
    "psych.dtypes"
   ]
  },
  {
   "cell_type": "code",
   "execution_count": 27,
   "id": "3bb41661",
   "metadata": {},
   "outputs": [],
   "source": [
    "merged = pd.merge(psych, classes, on = 'drugName', how = 'left')"
   ]
  },
  {
   "cell_type": "code",
   "execution_count": 28,
   "id": "50edfa8e",
   "metadata": {},
   "outputs": [
    {
     "data": {
      "text/html": [
       "<div>\n",
       "<style scoped>\n",
       "    .dataframe tbody tr th:only-of-type {\n",
       "        vertical-align: middle;\n",
       "    }\n",
       "\n",
       "    .dataframe tbody tr th {\n",
       "        vertical-align: top;\n",
       "    }\n",
       "\n",
       "    .dataframe thead th {\n",
       "        text-align: right;\n",
       "    }\n",
       "</style>\n",
       "<table border=\"1\" class=\"dataframe\">\n",
       "  <thead>\n",
       "    <tr style=\"text-align: right;\">\n",
       "      <th></th>\n",
       "      <th>Unnamed: 0</th>\n",
       "      <th>drugName</th>\n",
       "      <th>condition</th>\n",
       "      <th>review</th>\n",
       "      <th>rating</th>\n",
       "      <th>date</th>\n",
       "      <th>usefulCount</th>\n",
       "      <th>Drug Class</th>\n",
       "    </tr>\n",
       "  </thead>\n",
       "  <tbody>\n",
       "    <tr>\n",
       "      <th>0</th>\n",
       "      <td>95260</td>\n",
       "      <td>Guanfacine</td>\n",
       "      <td>ADHD</td>\n",
       "      <td>\"My son is halfway through his fourth week of ...</td>\n",
       "      <td>8.0</td>\n",
       "      <td>April 27, 2010</td>\n",
       "      <td>192</td>\n",
       "      <td>alpha agonists</td>\n",
       "    </tr>\n",
       "    <tr>\n",
       "      <th>1</th>\n",
       "      <td>102654</td>\n",
       "      <td>Aripiprazole</td>\n",
       "      <td>Bipolar Disorde</td>\n",
       "      <td>\"Abilify changed my life. There is hope. I was...</td>\n",
       "      <td>10.0</td>\n",
       "      <td>March 14, 2015</td>\n",
       "      <td>32</td>\n",
       "      <td>atypical antipsychotics</td>\n",
       "    </tr>\n",
       "    <tr>\n",
       "      <th>2</th>\n",
       "      <td>75612</td>\n",
       "      <td>L-methylfolate</td>\n",
       "      <td>Depression</td>\n",
       "      <td>\"I have taken anti-depressants for years, with...</td>\n",
       "      <td>10.0</td>\n",
       "      <td>March 9, 2017</td>\n",
       "      <td>54</td>\n",
       "      <td>B vitamin</td>\n",
       "    </tr>\n",
       "    <tr>\n",
       "      <th>3</th>\n",
       "      <td>212077</td>\n",
       "      <td>Lamotrigine</td>\n",
       "      <td>Bipolar Disorde</td>\n",
       "      <td>\"I&amp;#039;ve been on every medicine under the su...</td>\n",
       "      <td>10.0</td>\n",
       "      <td>November 9, 2014</td>\n",
       "      <td>18</td>\n",
       "      <td>anticonvulsants</td>\n",
       "    </tr>\n",
       "    <tr>\n",
       "      <th>4</th>\n",
       "      <td>78563</td>\n",
       "      <td>Daytrana</td>\n",
       "      <td>ADHD</td>\n",
       "      <td>\"Hi all, My son who is 12 was diagnosed when h...</td>\n",
       "      <td>10.0</td>\n",
       "      <td>January 12, 2017</td>\n",
       "      <td>11</td>\n",
       "      <td>central nervous system stimulants</td>\n",
       "    </tr>\n",
       "  </tbody>\n",
       "</table>\n",
       "</div>"
      ],
      "text/plain": [
       "   Unnamed: 0        drugName        condition  \\\n",
       "0       95260      Guanfacine             ADHD   \n",
       "1      102654    Aripiprazole  Bipolar Disorde   \n",
       "2       75612  L-methylfolate       Depression   \n",
       "3      212077     Lamotrigine  Bipolar Disorde   \n",
       "4       78563        Daytrana             ADHD   \n",
       "\n",
       "                                              review  rating  \\\n",
       "0  \"My son is halfway through his fourth week of ...     8.0   \n",
       "1  \"Abilify changed my life. There is hope. I was...    10.0   \n",
       "2  \"I have taken anti-depressants for years, with...    10.0   \n",
       "3  \"I&#039;ve been on every medicine under the su...    10.0   \n",
       "4  \"Hi all, My son who is 12 was diagnosed when h...    10.0   \n",
       "\n",
       "               date  usefulCount                         Drug Class  \n",
       "0    April 27, 2010          192                     alpha agonists  \n",
       "1    March 14, 2015           32            atypical antipsychotics  \n",
       "2     March 9, 2017           54                          B vitamin  \n",
       "3  November 9, 2014           18                    anticonvulsants  \n",
       "4  January 12, 2017           11  central nervous system stimulants  "
      ]
     },
     "execution_count": 28,
     "metadata": {},
     "output_type": "execute_result"
    }
   ],
   "source": [
    "merged.head()"
   ]
  },
  {
   "cell_type": "code",
   "execution_count": 29,
   "id": "aeb5ce49",
   "metadata": {},
   "outputs": [
    {
     "data": {
      "text/plain": [
       "(31369, 8)"
      ]
     },
     "execution_count": 29,
     "metadata": {},
     "output_type": "execute_result"
    }
   ],
   "source": [
    "merged.shape"
   ]
  },
  {
   "cell_type": "code",
   "execution_count": 30,
   "id": "75a9f3cb",
   "metadata": {
    "scrolled": true
   },
   "outputs": [
    {
     "data": {
      "text/plain": [
       "SSRI                                  8975\n",
       "atypical antipsychotics               4506\n",
       "SNRI                                  4333\n",
       "central nervous system stimulants     2722\n",
       "benzodiazepines                       2669\n",
       "anticonvulsants                       2181\n",
       "NRDI                                  1394\n",
       "SSRI/5HT-1A Partial Agonist            782\n",
       "TeCA                                   524\n",
       "anxiolytics                            466\n",
       "antihistamines                         460\n",
       "tricyclic antidepressants              342\n",
       "beta blockers                          321\n",
       "Anxiolytics                            261\n",
       "MAOI                                   215\n",
       "alpha agonists                         214\n",
       "antimanic agents                       156\n",
       "B vitamin                              117\n",
       "SARI                                   114\n",
       "antihypertensives                      113\n",
       "conventional antipsychotics            103\n",
       "opiate analgesics                       86\n",
       "wakefulness promoting agents            72\n",
       "MAO-B                                   39\n",
       "psychotherapeutic combos                37\n",
       "central nervous system depressants      24\n",
       "serotonin modulators                    21\n",
       "antilipemic agents                      18\n",
       "bipolar disorder agents                 17\n",
       "dopamine reuptake inhibitors            16\n",
       "phosphodiesterase (PDE) inhibitors      11\n",
       "serotonin modulators                     8\n",
       "tranquilizers                            8\n",
       "phosphodiesterase inhibitors             7\n",
       "tetracyclic antidepressants              7\n",
       "aminoketone                              5\n",
       "cannabinoids                             5\n",
       "alpha-2 antagonists                      5\n",
       "SAMe                                     5\n",
       "benzothiazoles                           4\n",
       "antidyskinetic                           3\n",
       "herbals                                  2\n",
       "amino acid                               1\n",
       "Name: Drug Class, dtype: int64"
      ]
     },
     "execution_count": 30,
     "metadata": {},
     "output_type": "execute_result"
    }
   ],
   "source": [
    "merged['Drug Class'].value_counts()"
   ]
  },
  {
   "cell_type": "markdown",
   "id": "741b726c",
   "metadata": {},
   "source": [
    "Decided to drop Drug Classes with <100 values; classes will still be imbalanced but <100 seem like they could distort the data/be outliers. Will also drop 'Unnamed:0', 'date' columns as I will definitely not be using in analysis."
   ]
  },
  {
   "cell_type": "code",
   "execution_count": 31,
   "id": "85165af0",
   "metadata": {},
   "outputs": [],
   "source": [
    "merged = merged.rename(columns = {'Drug Class': 'Drug_Class', 'drugName' : 'Drug_Name', 'condition' : 'Condition',\n",
    "                                 'review': 'Review', 'rating': 'Rating'})"
   ]
  },
  {
   "cell_type": "code",
   "execution_count": 32,
   "id": "8fd77e74",
   "metadata": {},
   "outputs": [],
   "source": [
    "drop_values = ['opiate analgesics', 'wakefulness promoting agents',\n",
    "              'MAO-B', 'psychotherapeutic combos', 'central nervous system depressants', 'serotonin modulators',\n",
    "               'tranquilizers', 'phosphodiesterase inhibitors','tetracyclic antidepressants',\n",
    "               'aminoketone', 'SAMe', 'alpha-2 antagonists', 'cannabinoids', 'benzothiazoles',\n",
    "               'antidyskinetic', 'herbals', 'amino acid', 'antilipemic agents', 'bipolar disorder agents',\n",
    "              'dopamine reuptake inhibitors', 'phosphodiesterase (PDE) inhibitors', 'serotonin modulators '] \n",
    "\n",
    "merged = merged[merged.Drug_Class.isin(drop_values) == False]        "
   ]
  },
  {
   "cell_type": "code",
   "execution_count": 33,
   "id": "1dbb2135",
   "metadata": {},
   "outputs": [
    {
     "data": {
      "text/plain": [
       "21"
      ]
     },
     "execution_count": 33,
     "metadata": {},
     "output_type": "execute_result"
    }
   ],
   "source": [
    "merged['Drug_Class'].nunique()"
   ]
  },
  {
   "cell_type": "code",
   "execution_count": 34,
   "id": "0d3cf74d",
   "metadata": {},
   "outputs": [],
   "source": [
    "merged = merged.drop(columns = 'Unnamed: 0', axis = 1)"
   ]
  },
  {
   "cell_type": "code",
   "execution_count": 35,
   "id": "393657a4",
   "metadata": {},
   "outputs": [],
   "source": [
    "merged = merged.drop(columns = 'date', axis = 1)"
   ]
  },
  {
   "cell_type": "code",
   "execution_count": 36,
   "id": "b6cade75",
   "metadata": {},
   "outputs": [
    {
     "data": {
      "text/plain": [
       "Drug_Name       object\n",
       "Condition       object\n",
       "Review          object\n",
       "Rating         float64\n",
       "usefulCount      int64\n",
       "Drug_Class      object\n",
       "dtype: object"
      ]
     },
     "execution_count": 36,
     "metadata": {},
     "output_type": "execute_result"
    }
   ],
   "source": [
    "merged.dtypes"
   ]
  },
  {
   "cell_type": "code",
   "execution_count": 37,
   "id": "7ebbe6e4",
   "metadata": {},
   "outputs": [
    {
     "data": {
      "text/plain": [
       "Drug_Name      0\n",
       "Condition      0\n",
       "Review         0\n",
       "Rating         0\n",
       "usefulCount    0\n",
       "Drug_Class     0\n",
       "dtype: int64"
      ]
     },
     "execution_count": 37,
     "metadata": {},
     "output_type": "execute_result"
    }
   ],
   "source": [
    "merged.isnull().sum()"
   ]
  },
  {
   "cell_type": "code",
   "execution_count": 38,
   "id": "438356f9",
   "metadata": {},
   "outputs": [],
   "source": [
    "Merged_data = merged.to_csv('../Data/Processed_Data/Merged.csv', index = False)"
   ]
  },
  {
   "cell_type": "markdown",
   "id": "50f7e21e",
   "metadata": {},
   "source": [
    "### Cleaning Drug Review Text"
   ]
  },
  {
   "cell_type": "code",
   "execution_count": 44,
   "id": "6073a666",
   "metadata": {},
   "outputs": [],
   "source": [
    "df = pd.read_csv('../Data/Processed_Data/Merged.csv')"
   ]
  },
  {
   "cell_type": "code",
   "execution_count": 45,
   "id": "a4993907",
   "metadata": {},
   "outputs": [
    {
     "data": {
      "text/html": [
       "<div>\n",
       "<style scoped>\n",
       "    .dataframe tbody tr th:only-of-type {\n",
       "        vertical-align: middle;\n",
       "    }\n",
       "\n",
       "    .dataframe tbody tr th {\n",
       "        vertical-align: top;\n",
       "    }\n",
       "\n",
       "    .dataframe thead th {\n",
       "        text-align: right;\n",
       "    }\n",
       "</style>\n",
       "<table border=\"1\" class=\"dataframe\">\n",
       "  <thead>\n",
       "    <tr style=\"text-align: right;\">\n",
       "      <th></th>\n",
       "      <th>Drug_Name</th>\n",
       "      <th>Condition</th>\n",
       "      <th>Review</th>\n",
       "      <th>Rating</th>\n",
       "      <th>usefulCount</th>\n",
       "      <th>Drug_Class</th>\n",
       "    </tr>\n",
       "  </thead>\n",
       "  <tbody>\n",
       "    <tr>\n",
       "      <th>0</th>\n",
       "      <td>Guanfacine</td>\n",
       "      <td>ADHD</td>\n",
       "      <td>\"My son is halfway through his fourth week of ...</td>\n",
       "      <td>8.0</td>\n",
       "      <td>192</td>\n",
       "      <td>alpha agonists</td>\n",
       "    </tr>\n",
       "    <tr>\n",
       "      <th>1</th>\n",
       "      <td>Aripiprazole</td>\n",
       "      <td>Bipolar Disorde</td>\n",
       "      <td>\"Abilify changed my life. There is hope. I was...</td>\n",
       "      <td>10.0</td>\n",
       "      <td>32</td>\n",
       "      <td>atypical antipsychotics</td>\n",
       "    </tr>\n",
       "    <tr>\n",
       "      <th>2</th>\n",
       "      <td>L-methylfolate</td>\n",
       "      <td>Depression</td>\n",
       "      <td>\"I have taken anti-depressants for years, with...</td>\n",
       "      <td>10.0</td>\n",
       "      <td>54</td>\n",
       "      <td>B vitamin</td>\n",
       "    </tr>\n",
       "    <tr>\n",
       "      <th>3</th>\n",
       "      <td>Lamotrigine</td>\n",
       "      <td>Bipolar Disorde</td>\n",
       "      <td>\"I&amp;#039;ve been on every medicine under the su...</td>\n",
       "      <td>10.0</td>\n",
       "      <td>18</td>\n",
       "      <td>anticonvulsants</td>\n",
       "    </tr>\n",
       "    <tr>\n",
       "      <th>4</th>\n",
       "      <td>Daytrana</td>\n",
       "      <td>ADHD</td>\n",
       "      <td>\"Hi all, My son who is 12 was diagnosed when h...</td>\n",
       "      <td>10.0</td>\n",
       "      <td>11</td>\n",
       "      <td>central nervous system stimulants</td>\n",
       "    </tr>\n",
       "    <tr>\n",
       "      <th>5</th>\n",
       "      <td>Ativan</td>\n",
       "      <td>Panic Disorde</td>\n",
       "      <td>\"Honestly, I have been taking ativan for 2 yea...</td>\n",
       "      <td>6.0</td>\n",
       "      <td>47</td>\n",
       "      <td>benzodiazepines</td>\n",
       "    </tr>\n",
       "    <tr>\n",
       "      <th>6</th>\n",
       "      <td>Sertraline</td>\n",
       "      <td>Depression</td>\n",
       "      <td>\"1 week on Zoloft for anxiety and mood swings....</td>\n",
       "      <td>8.0</td>\n",
       "      <td>3</td>\n",
       "      <td>SSRI</td>\n",
       "    </tr>\n",
       "    <tr>\n",
       "      <th>7</th>\n",
       "      <td>Trilafon</td>\n",
       "      <td>Psychosis</td>\n",
       "      <td>\"I had a similar experience.  Tremors in hands...</td>\n",
       "      <td>9.0</td>\n",
       "      <td>45</td>\n",
       "      <td>conventional antipsychotics</td>\n",
       "    </tr>\n",
       "    <tr>\n",
       "      <th>8</th>\n",
       "      <td>Clonazepam</td>\n",
       "      <td>Panic Disorde</td>\n",
       "      <td>\"This medication changed my life.  My panic at...</td>\n",
       "      <td>9.0</td>\n",
       "      <td>30</td>\n",
       "      <td>benzodiazepines</td>\n",
       "    </tr>\n",
       "    <tr>\n",
       "      <th>9</th>\n",
       "      <td>Venlafaxine</td>\n",
       "      <td>Depression</td>\n",
       "      <td>\"my gp started me on Venlafaxine yesterday to ...</td>\n",
       "      <td>4.0</td>\n",
       "      <td>3</td>\n",
       "      <td>SNRI</td>\n",
       "    </tr>\n",
       "    <tr>\n",
       "      <th>10</th>\n",
       "      <td>Intuniv</td>\n",
       "      <td>ADHD</td>\n",
       "      <td>\"Intuniv did not work for my son; he was bounc...</td>\n",
       "      <td>1.0</td>\n",
       "      <td>23</td>\n",
       "      <td>alpha agonists</td>\n",
       "    </tr>\n",
       "    <tr>\n",
       "      <th>11</th>\n",
       "      <td>Aripiprazole</td>\n",
       "      <td>Schizophrenia</td>\n",
       "      <td>\"Abilify 20 mg.\\r\\nI am a patient diagnosed wi...</td>\n",
       "      <td>10.0</td>\n",
       "      <td>26</td>\n",
       "      <td>atypical antipsychotics</td>\n",
       "    </tr>\n",
       "    <tr>\n",
       "      <th>12</th>\n",
       "      <td>Latuda</td>\n",
       "      <td>Bipolar Disorde</td>\n",
       "      <td>\"I have had great experience so far with Latud...</td>\n",
       "      <td>8.0</td>\n",
       "      <td>39</td>\n",
       "      <td>atypical antipsychotics</td>\n",
       "    </tr>\n",
       "    <tr>\n",
       "      <th>13</th>\n",
       "      <td>Effexor XR</td>\n",
       "      <td>Anxiety</td>\n",
       "      <td>\"Was on this med for 5 years. Worked fine but ...</td>\n",
       "      <td>6.0</td>\n",
       "      <td>23</td>\n",
       "      <td>SNRI</td>\n",
       "    </tr>\n",
       "    <tr>\n",
       "      <th>14</th>\n",
       "      <td>Effexor XR</td>\n",
       "      <td>Depression</td>\n",
       "      <td>\"This medicine saved my life. I was at my wits...</td>\n",
       "      <td>10.0</td>\n",
       "      <td>166</td>\n",
       "      <td>SNRI</td>\n",
       "    </tr>\n",
       "    <tr>\n",
       "      <th>15</th>\n",
       "      <td>Sertraline</td>\n",
       "      <td>Panic Disorde</td>\n",
       "      <td>\"These reviews helped me so much when I first ...</td>\n",
       "      <td>10.0</td>\n",
       "      <td>28</td>\n",
       "      <td>SSRI</td>\n",
       "    </tr>\n",
       "    <tr>\n",
       "      <th>16</th>\n",
       "      <td>Wellbutrin</td>\n",
       "      <td>Depression</td>\n",
       "      <td>\"Started taking it and I slept well at night a...</td>\n",
       "      <td>4.0</td>\n",
       "      <td>15</td>\n",
       "      <td>NRDI</td>\n",
       "    </tr>\n",
       "    <tr>\n",
       "      <th>17</th>\n",
       "      <td>Lithium</td>\n",
       "      <td>Bipolar Disorde</td>\n",
       "      <td>\"I appreciate Lithium. Although my thyroid lev...</td>\n",
       "      <td>10.0</td>\n",
       "      <td>27</td>\n",
       "      <td>antimanic agents</td>\n",
       "    </tr>\n",
       "    <tr>\n",
       "      <th>18</th>\n",
       "      <td>Fluoxetine</td>\n",
       "      <td>Major Depressive Disorde</td>\n",
       "      <td>\"I started Prozac as one of my first anti depr...</td>\n",
       "      <td>2.0</td>\n",
       "      <td>18</td>\n",
       "      <td>SSRI</td>\n",
       "    </tr>\n",
       "    <tr>\n",
       "      <th>19</th>\n",
       "      <td>Aripiprazole</td>\n",
       "      <td>Depression</td>\n",
       "      <td>\"Intake Effexor XR 375 mg, and lorazepam for d...</td>\n",
       "      <td>4.0</td>\n",
       "      <td>33</td>\n",
       "      <td>atypical antipsychotics</td>\n",
       "    </tr>\n",
       "  </tbody>\n",
       "</table>\n",
       "</div>"
      ],
      "text/plain": [
       "         Drug_Name                 Condition  \\\n",
       "0       Guanfacine                      ADHD   \n",
       "1     Aripiprazole           Bipolar Disorde   \n",
       "2   L-methylfolate                Depression   \n",
       "3      Lamotrigine           Bipolar Disorde   \n",
       "4         Daytrana                      ADHD   \n",
       "5           Ativan             Panic Disorde   \n",
       "6       Sertraline                Depression   \n",
       "7         Trilafon                 Psychosis   \n",
       "8       Clonazepam             Panic Disorde   \n",
       "9      Venlafaxine                Depression   \n",
       "10         Intuniv                      ADHD   \n",
       "11    Aripiprazole             Schizophrenia   \n",
       "12          Latuda           Bipolar Disorde   \n",
       "13      Effexor XR                   Anxiety   \n",
       "14      Effexor XR                Depression   \n",
       "15      Sertraline             Panic Disorde   \n",
       "16      Wellbutrin                Depression   \n",
       "17         Lithium           Bipolar Disorde   \n",
       "18      Fluoxetine  Major Depressive Disorde   \n",
       "19    Aripiprazole                Depression   \n",
       "\n",
       "                                               Review  Rating  usefulCount  \\\n",
       "0   \"My son is halfway through his fourth week of ...     8.0          192   \n",
       "1   \"Abilify changed my life. There is hope. I was...    10.0           32   \n",
       "2   \"I have taken anti-depressants for years, with...    10.0           54   \n",
       "3   \"I&#039;ve been on every medicine under the su...    10.0           18   \n",
       "4   \"Hi all, My son who is 12 was diagnosed when h...    10.0           11   \n",
       "5   \"Honestly, I have been taking ativan for 2 yea...     6.0           47   \n",
       "6   \"1 week on Zoloft for anxiety and mood swings....     8.0            3   \n",
       "7   \"I had a similar experience.  Tremors in hands...     9.0           45   \n",
       "8   \"This medication changed my life.  My panic at...     9.0           30   \n",
       "9   \"my gp started me on Venlafaxine yesterday to ...     4.0            3   \n",
       "10  \"Intuniv did not work for my son; he was bounc...     1.0           23   \n",
       "11  \"Abilify 20 mg.\\r\\nI am a patient diagnosed wi...    10.0           26   \n",
       "12  \"I have had great experience so far with Latud...     8.0           39   \n",
       "13  \"Was on this med for 5 years. Worked fine but ...     6.0           23   \n",
       "14  \"This medicine saved my life. I was at my wits...    10.0          166   \n",
       "15  \"These reviews helped me so much when I first ...    10.0           28   \n",
       "16  \"Started taking it and I slept well at night a...     4.0           15   \n",
       "17  \"I appreciate Lithium. Although my thyroid lev...    10.0           27   \n",
       "18  \"I started Prozac as one of my first anti depr...     2.0           18   \n",
       "19  \"Intake Effexor XR 375 mg, and lorazepam for d...     4.0           33   \n",
       "\n",
       "                           Drug_Class  \n",
       "0                      alpha agonists  \n",
       "1             atypical antipsychotics  \n",
       "2                           B vitamin  \n",
       "3                     anticonvulsants  \n",
       "4   central nervous system stimulants  \n",
       "5                     benzodiazepines  \n",
       "6                                SSRI  \n",
       "7         conventional antipsychotics  \n",
       "8                     benzodiazepines  \n",
       "9                                SNRI  \n",
       "10                     alpha agonists  \n",
       "11            atypical antipsychotics  \n",
       "12            atypical antipsychotics  \n",
       "13                               SNRI  \n",
       "14                               SNRI  \n",
       "15                               SSRI  \n",
       "16                               NRDI  \n",
       "17                   antimanic agents  \n",
       "18                               SSRI  \n",
       "19            atypical antipsychotics  "
      ]
     },
     "execution_count": 45,
     "metadata": {},
     "output_type": "execute_result"
    }
   ],
   "source": [
    "df.head(20)"
   ]
  },
  {
   "cell_type": "code",
   "execution_count": 46,
   "id": "f2ba4a30",
   "metadata": {},
   "outputs": [
    {
     "data": {
      "text/plain": [
       "Drug_Name      0\n",
       "Condition      0\n",
       "Review         0\n",
       "Rating         0\n",
       "usefulCount    0\n",
       "Drug_Class     0\n",
       "dtype: int64"
      ]
     },
     "execution_count": 46,
     "metadata": {},
     "output_type": "execute_result"
    }
   ],
   "source": [
    "df.isnull().sum()"
   ]
  },
  {
   "cell_type": "code",
   "execution_count": 50,
   "id": "839cdad5",
   "metadata": {},
   "outputs": [],
   "source": [
    "import re"
   ]
  },
  {
   "cell_type": "code",
   "execution_count": 56,
   "id": "9dd6c0e6",
   "metadata": {},
   "outputs": [],
   "source": [
    "#Remove quotations \n",
    "df['Review'] = df['Review'].str.replace('\"', '', regex = True)\n",
    "    \n",
    "#Remove punctuation\n",
    "df['Review'] = df['Review'].str.replace('[^\\w\\s]', '', regex = True)\n",
    "    \n",
    "#Remove formatting for apostrophes\n",
    "df['Review'] = df['Review'].str.replace('&#039;', '', regex = True)\n",
    "    \n",
    "#Transform to lowercase\n",
    "df['Review'] = df['Review'].str.lower()\n",
    "    \n",
    "#Remove 'mg'\n",
    "df['Review'] = df['Review'].str.replace('mg', '', regex = True)\n",
    "    \n",
    "#Remove periods and commas\n",
    "df['Review'] = df['Review'].str.replace('.','', regex = True).str.replace(',', '', regex = True)"
   ]
  },
  {
   "cell_type": "code",
   "execution_count": 57,
   "id": "5ebb75b2",
   "metadata": {},
   "outputs": [
    {
     "data": {
      "text/html": [
       "<div>\n",
       "<style scoped>\n",
       "    .dataframe tbody tr th:only-of-type {\n",
       "        vertical-align: middle;\n",
       "    }\n",
       "\n",
       "    .dataframe tbody tr th {\n",
       "        vertical-align: top;\n",
       "    }\n",
       "\n",
       "    .dataframe thead th {\n",
       "        text-align: right;\n",
       "    }\n",
       "</style>\n",
       "<table border=\"1\" class=\"dataframe\">\n",
       "  <thead>\n",
       "    <tr style=\"text-align: right;\">\n",
       "      <th></th>\n",
       "      <th>Drug_Name</th>\n",
       "      <th>Condition</th>\n",
       "      <th>Review</th>\n",
       "      <th>Rating</th>\n",
       "      <th>usefulCount</th>\n",
       "      <th>Drug_Class</th>\n",
       "      <th>Reviews</th>\n",
       "    </tr>\n",
       "  </thead>\n",
       "  <tbody>\n",
       "    <tr>\n",
       "      <th>0</th>\n",
       "      <td>Guanfacine</td>\n",
       "      <td>ADHD</td>\n",
       "      <td>my son is halfway through his fourth week of i...</td>\n",
       "      <td>8.0</td>\n",
       "      <td>192</td>\n",
       "      <td>alpha agonists</td>\n",
       "      <td>\"My son is halfway through his fourth week of ...</td>\n",
       "    </tr>\n",
       "    <tr>\n",
       "      <th>1</th>\n",
       "      <td>Aripiprazole</td>\n",
       "      <td>Bipolar Disorde</td>\n",
       "      <td>abilify changed my life there is hope i was on...</td>\n",
       "      <td>10.0</td>\n",
       "      <td>32</td>\n",
       "      <td>atypical antipsychotics</td>\n",
       "      <td>\"Abilify changed my life There is hope I was o...</td>\n",
       "    </tr>\n",
       "    <tr>\n",
       "      <th>2</th>\n",
       "      <td>L-methylfolate</td>\n",
       "      <td>Depression</td>\n",
       "      <td>i have taken antidepressants for years with so...</td>\n",
       "      <td>10.0</td>\n",
       "      <td>54</td>\n",
       "      <td>B vitamin</td>\n",
       "      <td>\"I have taken anti-depressants for years with ...</td>\n",
       "    </tr>\n",
       "    <tr>\n",
       "      <th>3</th>\n",
       "      <td>Lamotrigine</td>\n",
       "      <td>Bipolar Disorde</td>\n",
       "      <td>i039ve been on every medicine under the sun it...</td>\n",
       "      <td>10.0</td>\n",
       "      <td>18</td>\n",
       "      <td>anticonvulsants</td>\n",
       "      <td>\"I&amp;#039;ve been on every medicine under the su...</td>\n",
       "    </tr>\n",
       "    <tr>\n",
       "      <th>4</th>\n",
       "      <td>Daytrana</td>\n",
       "      <td>ADHD</td>\n",
       "      <td>hi all my son who is 12 was diagnosed when he ...</td>\n",
       "      <td>10.0</td>\n",
       "      <td>11</td>\n",
       "      <td>central nervous system stimulants</td>\n",
       "      <td>\"Hi all My son who is 12 was diagnosed when he...</td>\n",
       "    </tr>\n",
       "  </tbody>\n",
       "</table>\n",
       "</div>"
      ],
      "text/plain": [
       "        Drug_Name        Condition  \\\n",
       "0      Guanfacine             ADHD   \n",
       "1    Aripiprazole  Bipolar Disorde   \n",
       "2  L-methylfolate       Depression   \n",
       "3     Lamotrigine  Bipolar Disorde   \n",
       "4        Daytrana             ADHD   \n",
       "\n",
       "                                              Review  Rating  usefulCount  \\\n",
       "0  my son is halfway through his fourth week of i...     8.0          192   \n",
       "1  abilify changed my life there is hope i was on...    10.0           32   \n",
       "2  i have taken antidepressants for years with so...    10.0           54   \n",
       "3  i039ve been on every medicine under the sun it...    10.0           18   \n",
       "4  hi all my son who is 12 was diagnosed when he ...    10.0           11   \n",
       "\n",
       "                          Drug_Class  \\\n",
       "0                     alpha agonists   \n",
       "1            atypical antipsychotics   \n",
       "2                          B vitamin   \n",
       "3                    anticonvulsants   \n",
       "4  central nervous system stimulants   \n",
       "\n",
       "                                             Reviews  \n",
       "0  \"My son is halfway through his fourth week of ...  \n",
       "1  \"Abilify changed my life There is hope I was o...  \n",
       "2  \"I have taken anti-depressants for years with ...  \n",
       "3  \"I&#039;ve been on every medicine under the su...  \n",
       "4  \"Hi all My son who is 12 was diagnosed when he...  "
      ]
     },
     "execution_count": 57,
     "metadata": {},
     "output_type": "execute_result"
    }
   ],
   "source": [
    "df.head()"
   ]
  },
  {
   "cell_type": "code",
   "execution_count": 91,
   "id": "70ed8982",
   "metadata": {},
   "outputs": [],
   "source": [
    "df = df.drop(columns = 'Reviews', axis = 1)"
   ]
  },
  {
   "cell_type": "code",
   "execution_count": 92,
   "id": "2dcc76d4",
   "metadata": {},
   "outputs": [
    {
     "data": {
      "text/plain": [
       "Drug_Name       object\n",
       "Condition       object\n",
       "Review          object\n",
       "Rating         float64\n",
       "usefulCount      int64\n",
       "Drug_Class      object\n",
       "dtype: object"
      ]
     },
     "execution_count": 92,
     "metadata": {},
     "output_type": "execute_result"
    }
   ],
   "source": [
    "df.dtypes"
   ]
  },
  {
   "cell_type": "code",
   "execution_count": 99,
   "id": "82232806",
   "metadata": {},
   "outputs": [],
   "source": [
    "#Remove numbers\n",
    "def remove_num(col):\n",
    "    col = re.sub('[^A-za-z]', ' ', col)\n",
    "    return col.lower()"
   ]
  },
  {
   "cell_type": "code",
   "execution_count": 107,
   "id": "b31331ab",
   "metadata": {},
   "outputs": [
    {
     "data": {
      "text/html": [
       "<div>\n",
       "<style scoped>\n",
       "    .dataframe tbody tr th:only-of-type {\n",
       "        vertical-align: middle;\n",
       "    }\n",
       "\n",
       "    .dataframe tbody tr th {\n",
       "        vertical-align: top;\n",
       "    }\n",
       "\n",
       "    .dataframe thead th {\n",
       "        text-align: right;\n",
       "    }\n",
       "</style>\n",
       "<table border=\"1\" class=\"dataframe\">\n",
       "  <thead>\n",
       "    <tr style=\"text-align: right;\">\n",
       "      <th></th>\n",
       "      <th>Drug_Name</th>\n",
       "      <th>Condition</th>\n",
       "      <th>Review</th>\n",
       "      <th>Rating</th>\n",
       "      <th>usefulCount</th>\n",
       "      <th>Drug_Class</th>\n",
       "      <th>Reviews</th>\n",
       "    </tr>\n",
       "  </thead>\n",
       "  <tbody>\n",
       "    <tr>\n",
       "      <th>0</th>\n",
       "      <td>Guanfacine</td>\n",
       "      <td>ADHD</td>\n",
       "      <td>my son is halfway through his fourth week of i...</td>\n",
       "      <td>8.0</td>\n",
       "      <td>192</td>\n",
       "      <td>alpha agonists</td>\n",
       "      <td>my son is halfway through his fourth week of i...</td>\n",
       "    </tr>\n",
       "    <tr>\n",
       "      <th>1</th>\n",
       "      <td>Aripiprazole</td>\n",
       "      <td>Bipolar Disorde</td>\n",
       "      <td>abilify changed my life there is hope i was on...</td>\n",
       "      <td>10.0</td>\n",
       "      <td>32</td>\n",
       "      <td>atypical antipsychotics</td>\n",
       "      <td>abilify changed my life there is hope i was on...</td>\n",
       "    </tr>\n",
       "    <tr>\n",
       "      <th>2</th>\n",
       "      <td>L-methylfolate</td>\n",
       "      <td>Depression</td>\n",
       "      <td>i have taken antidepressants for years with so...</td>\n",
       "      <td>10.0</td>\n",
       "      <td>54</td>\n",
       "      <td>B vitamin</td>\n",
       "      <td>i have taken antidepressants for years with so...</td>\n",
       "    </tr>\n",
       "    <tr>\n",
       "      <th>3</th>\n",
       "      <td>Lamotrigine</td>\n",
       "      <td>Bipolar Disorde</td>\n",
       "      <td>ive been on every medicine under the sun it se...</td>\n",
       "      <td>10.0</td>\n",
       "      <td>18</td>\n",
       "      <td>anticonvulsants</td>\n",
       "      <td>ive been on every medicine under the sun it se...</td>\n",
       "    </tr>\n",
       "    <tr>\n",
       "      <th>4</th>\n",
       "      <td>Daytrana</td>\n",
       "      <td>ADHD</td>\n",
       "      <td>hi all my son who is  was diagnosed when he wa...</td>\n",
       "      <td>10.0</td>\n",
       "      <td>11</td>\n",
       "      <td>central nervous system stimulants</td>\n",
       "      <td>hi all my son who is  was diagnosed when he wa...</td>\n",
       "    </tr>\n",
       "  </tbody>\n",
       "</table>\n",
       "</div>"
      ],
      "text/plain": [
       "        Drug_Name        Condition  \\\n",
       "0      Guanfacine             ADHD   \n",
       "1    Aripiprazole  Bipolar Disorde   \n",
       "2  L-methylfolate       Depression   \n",
       "3     Lamotrigine  Bipolar Disorde   \n",
       "4        Daytrana             ADHD   \n",
       "\n",
       "                                              Review  Rating  usefulCount  \\\n",
       "0  my son is halfway through his fourth week of i...     8.0          192   \n",
       "1  abilify changed my life there is hope i was on...    10.0           32   \n",
       "2  i have taken antidepressants for years with so...    10.0           54   \n",
       "3  ive been on every medicine under the sun it se...    10.0           18   \n",
       "4  hi all my son who is  was diagnosed when he wa...    10.0           11   \n",
       "\n",
       "                          Drug_Class  \\\n",
       "0                     alpha agonists   \n",
       "1            atypical antipsychotics   \n",
       "2                          B vitamin   \n",
       "3                    anticonvulsants   \n",
       "4  central nervous system stimulants   \n",
       "\n",
       "                                             Reviews  \n",
       "0  my son is halfway through his fourth week of i...  \n",
       "1  abilify changed my life there is hope i was on...  \n",
       "2  i have taken antidepressants for years with so...  \n",
       "3  ive been on every medicine under the sun it se...  \n",
       "4  hi all my son who is  was diagnosed when he wa...  "
      ]
     },
     "execution_count": 107,
     "metadata": {},
     "output_type": "execute_result"
    }
   ],
   "source": [
    "df['Reviews'] = df['Review'].apply(remove_num)\n",
    "df.head()"
   ]
  },
  {
   "cell_type": "code",
   "execution_count": 105,
   "id": "0a5212e6",
   "metadata": {},
   "outputs": [],
   "source": [
    "#Remove line spacing\n",
    "df['Reviews'] = df['Reviews'].str.replace('\\r\\n', '', regex = True)"
   ]
  },
  {
   "cell_type": "code",
   "execution_count": 111,
   "id": "7c9674bf",
   "metadata": {},
   "outputs": [
    {
     "data": {
      "text/plain": [
       "'excellent results effexor became noneffective after many years of use and another life impacting event was recently severely depressed and suicidal for about  years found cymbalta  years ago and it changed my life for the better i think this medication is fantastic i have been diagnosed with major depressive disorder and general anxiety disorder dual diagnosed this condition has been with me for many years runs in the family ie mother was severely depressed cymbalta  per day snapped me out of it under doctors orders i discontinued current ssri at the time and started right up with cymbalta day within  days i was out of my depressed state it has to be the norepinephrine aspect that made the difference'"
      ]
     },
     "metadata": {},
     "output_type": "display_data"
    }
   ],
   "source": [
    "#Checking different reviews to ensure cleaning worked:\n",
    "display(df['Reviews'].iloc[1000])"
   ]
  },
  {
   "cell_type": "code",
   "execution_count": 112,
   "id": "8cf45ad0",
   "metadata": {},
   "outputs": [],
   "source": [
    "#Dropping duplicage Review column\n",
    "df = df.drop(columns = 'Review', axis = 1)"
   ]
  },
  {
   "cell_type": "markdown",
   "id": "5e72641e",
   "metadata": {},
   "source": [
    "### Exporting Cleaned Data to csv"
   ]
  },
  {
   "cell_type": "code",
   "execution_count": 113,
   "id": "6e4a9b18",
   "metadata": {},
   "outputs": [],
   "source": [
    "df_csv = df.to_csv('../Data/Processed_Data/cleaned.csv')"
   ]
  }
 ],
 "metadata": {
  "kernelspec": {
   "display_name": "Python 3 (ipykernel)",
   "language": "python",
   "name": "python3"
  },
  "language_info": {
   "codemirror_mode": {
    "name": "ipython",
    "version": 3
   },
   "file_extension": ".py",
   "mimetype": "text/x-python",
   "name": "python",
   "nbconvert_exporter": "python",
   "pygments_lexer": "ipython3",
   "version": "3.9.7"
  }
 },
 "nbformat": 4,
 "nbformat_minor": 5
}
